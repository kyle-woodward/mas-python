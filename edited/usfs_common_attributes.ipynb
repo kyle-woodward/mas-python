{
 "cells": [
  {
   "cell_type": "code",
   "execution_count": null,
   "metadata": {},
   "outputs": [],
   "source": [
    "from utils import init_gdb\n",
    "import os\n",
    "import datetime\n",
    "from _6a_usfs_common_attributes import Model7\n",
    "original_gdb, workspace, scratch_workspace = init_gdb()\n",
    "\n",
    "date_id = datetime.datetime.utcnow().strftime(\"%Y-%m-%d\").replace('-','') # like 20221216\n",
    "\n",
    "output_enriched = os.path.join(workspace,'d_Enriched',f'usfs_edw_facts_common_attributes_enriched_{date_id}')\n",
    "output_standardized = os.path.join(workspace,'c_Standardized',f'usfs_edw_facts_common_attributes_standardized_{date_id}')\n",
    "\n",
    "# will need to be downloaded from here https://apps.fs.usda.gov/arcx/rest/services/EDW/EDW_ActivityFactsCommonAttributes_01/MapServer/0\n",
    "# change path to the most updated inputs\n",
    "input_fc = os.path.join(workspace,'a_Originals','Actv_CommonAtt_ExportFeature')"
   ]
  },
  {
   "cell_type": "code",
   "execution_count": null,
   "metadata": {},
   "outputs": [],
   "source": [
    "Model7(output_enriched,output_standardized,input_fc)"
   ]
  }
 ],
 "metadata": {
  "kernelspec": {
   "display_name": "arcgispro-py3-30",
   "language": "python",
   "name": "python3"
  },
  "language_info": {
   "name": "python",
   "version": "3.9.11 [MSC v.1931 64 bit (AMD64)]"
  },
  "orig_nbformat": 4,
  "vscode": {
   "interpreter": {
    "hash": "4e1abec938aa564085d88d5729e577a09a090f84c8252c84527a9a845926d2eb"
   }
  }
 },
 "nbformat": 4,
 "nbformat_minor": 2
}

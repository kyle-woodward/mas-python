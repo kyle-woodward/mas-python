{
 "cells": [
  {
   "cell_type": "code",
   "execution_count": null,
   "metadata": {},
   "outputs": [],
   "source": [
    "from _6q_pfirs import Model72\n",
    "from sys import argv\n",
    "from utils import init_gdb\n",
    "import os\n",
    "import datetime\n",
    "original_gdb, workspace, scratch_workspace = init_gdb()\n",
    "\n",
    "date_id = datetime.datetime.utcnow().strftime(\"%Y-%m-%d\").replace('-','') # like 20221216\n",
    "\n",
    "# update input dataset as necessary\n",
    "input_fc = os.path.join(workspace, \"a_Originals\", \"PFIRS_2018_2022\")\n",
    "\n",
    "# timestamped outputs\n",
    "output_standardized = os.path.join(workspace, \"c_Standardized\", f'PFIRS_standardized_{date_id}')\n",
    "output_enriched = os.path.join(workspace, \"d_Enriched\",f'PFIRS_enriched_{date_id}') \n",
    "\n",
    "# Appended polygon dataset must already exist, check it is correct version (most up to date)\n",
    "treat_poly = os.path.join(workspace, \"e_Appended\",\"Treat_n_harvests_polygons_20221115\")\n"
   ]
  },
  {
   "cell_type": "code",
   "execution_count": null,
   "metadata": {},
   "outputs": [],
   "source": [
    "Model72(input_fc, output_standardized, output_enriched, treat_poly)"
   ]
  }
 ],
 "metadata": {
  "kernelspec": {
   "display_name": "arcgispro-py3-30",
   "language": "python",
   "name": "python3"
  },
  "language_info": {
   "name": "python",
   "version": "3.9.11 [MSC v.1931 64 bit (AMD64)]"
  },
  "orig_nbformat": 4,
  "vscode": {
   "interpreter": {
    "hash": "4e1abec938aa564085d88d5729e577a09a090f84c8252c84527a9a845926d2eb"
   }
  }
 },
 "nbformat": 4,
 "nbformat_minor": 2
}

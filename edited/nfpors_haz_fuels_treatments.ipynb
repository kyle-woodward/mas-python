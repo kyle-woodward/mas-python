{
 "cells": [
  {
   "cell_type": "code",
   "execution_count": null,
   "metadata": {},
   "outputs": [],
   "source": [
    "from utils import init_gdb\n",
    "import os\n",
    "import datetime\n",
    "from _6g_nfpors_haz_fuels_treatments import Model71\n",
    "original_gdb, workspace, scratch_workspace = init_gdb()\n",
    "\n",
    "date_id = datetime.datetime.utcnow().strftime(\"%Y-%m-%d\").replace('-','') # like 20221216\n",
    "\n",
    "# The input originals must be downloaded from external source, and their paths updated here\n",
    "input_original_polys = os.path.join(workspace,'a_Originals','nfpors_fuels_treatments_20220906')\n",
    "# downloaded with Dan's Download Service script tool from the below web service URLS, will need to re-download for updates\n",
    "input_original_pts_BIA = os.path.join(workspace,'a_Originals','NFPORSCurrentFYTreatmentsBIA') # https://usgs.nfpors.gov/arcgis/rest/services/nfpors_WM/MapServer/1\n",
    "input_original_pts_FWS = os.path.join(workspace,'a_Originals','NFPORSCurrentFYTreatmentsFWS') # https://usgs.nfpors.gov/arcgis/rest/services/nfpors_WM/MapServer/5\n",
    "\n",
    "# these are setup to output new 'timestamped' outputs\n",
    "output_original_polys = os.path.join(workspace,'a_Originals','nfpors_current_fy_'+date_id) # created from aggregating input_original_pts_BIA and input_original_pts_FWS \n",
    "output_pts_standardized = os.path.join(workspace,'c_Standardized','nfpors_fuels_treatments_pts_standardized_'+date_id)\n",
    "output_pts_enriched = os.path.join(workspace, 'd_Enriched','nfpors_fuels_treatments_pts_enriched_'+date_id)\n",
    "output_polys_standardized = os.path.join(workspace,'c_Standardized','nfpors_fuels_treatments_polys_standardized_'+date_id)\n",
    "output_polys_enriched = os.path.join(workspace,'d_Enriched','nfpors_fuels_treatments_polys_enriched_'+date_id)"
   ]
  },
  {
   "cell_type": "code",
   "execution_count": null,
   "metadata": {},
   "outputs": [],
   "source": [
    "Model71(input_original_polys,\n",
    "input_original_pts_BIA, \n",
    "input_original_pts_FWS, \n",
    "output_original_polys, \n",
    "output_polys_standardized, \n",
    "output_polys_enriched, \n",
    "output_pts_standardized, \n",
    "output_pts_enriched\n",
    ")"
   ]
  }
 ],
 "metadata": {
  "kernelspec": {
   "display_name": "arcgispro-py3-30",
   "language": "python",
   "name": "python3"
  },
  "language_info": {
   "name": "python",
   "version": "3.9.11 [MSC v.1931 64 bit (AMD64)]"
  },
  "orig_nbformat": 4,
  "vscode": {
   "interpreter": {
    "hash": "4e1abec938aa564085d88d5729e577a09a090f84c8252c84527a9a845926d2eb"
   }
  }
 },
 "nbformat": 4,
 "nbformat_minor": 2
}

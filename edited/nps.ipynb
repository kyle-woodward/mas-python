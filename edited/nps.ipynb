{
 "cells": [
  {
   "cell_type": "code",
   "execution_count": null,
   "metadata": {},
   "outputs": [],
   "source": [
    "from utils import init_gdb, unique_rename\n",
    "import os\n",
    "original_gdb, workspace, scratch_workspace = init_gdb()\n",
    "from _6r_nps import rFlatFuelsTreatmentDraft\n",
    "import datetime\n",
    "\n",
    "date_id = datetime.datetime.utcnow().strftime(\"%Y-%m-%d\").replace('-','') # like 20221216\n",
    "\n",
    "# update input as necessary\n",
    "input_fc = os.path.join(workspace,'a_Originals','nps_flat_fuels_20221102') # need to download this beforehand\n",
    "\n",
    "# timestamped outputs\n",
    "output_enriched = os.path.join(workspace,'d_Enriched','nps_flat_fuels_enriched_'+date_id)\n",
    "output_standardized = os.path.join(workspace,'c_Standardized','nps_flat_fuels_standardized_'+date_id)\n"
   ]
  },
  {
   "cell_type": "code",
   "execution_count": null,
   "metadata": {},
   "outputs": [],
   "source": [
    "rFlatFuelsTreatmentDraft(input_fc, output_standardized, output_enriched)"
   ]
  }
 ],
 "metadata": {
  "kernelspec": {
   "display_name": "arcgispro-py3-30",
   "language": "python",
   "name": "python3"
  },
  "language_info": {
   "name": "python",
   "version": "3.9.11 [MSC v.1931 64 bit (AMD64)]"
  },
  "orig_nbformat": 4,
  "vscode": {
   "interpreter": {
    "hash": "4e1abec938aa564085d88d5729e577a09a090f84c8252c84527a9a845926d2eb"
   }
  }
 },
 "nbformat": 4,
 "nbformat_minor": 2
}

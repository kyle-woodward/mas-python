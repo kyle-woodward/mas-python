{
 "cells": [
  {
   "cell_type": "code",
   "execution_count": null,
   "metadata": {},
   "outputs": [],
   "source": [
    "from _6p_accg_stakeholder_draft import pACCGStakeholderDraft\n",
    "from sys import argv\n",
    "from utils import init_gdb\n",
    "import os\n",
    "original_gdb, workspace, scratch_workspace = init_gdb()\n",
    "\n",
    "# update input when necessary\n",
    "accg_fc = os.path.join(workspace, \"accg_stkhldr_prjt_2021\") \n",
    "\n",
    "output_standardized = os.path.join(workspace, 'c_Standardized', \"ACCG_Stakeholder_standardized_20220828\")"
   ]
  },
  {
   "cell_type": "code",
   "execution_count": null,
   "metadata": {},
   "outputs": [],
   "source": [
    "pACCGStakeholderDraft(input_fc = accg_fc,output_standardized=output_standardized)"
   ]
  }
 ],
 "metadata": {
  "kernelspec": {
   "display_name": "arcgispro-py3-30",
   "language": "python",
   "name": "python3"
  },
  "language_info": {
   "name": "python",
   "version": "3.9.11 [MSC v.1931 64 bit (AMD64)]"
  },
  "orig_nbformat": 4,
  "vscode": {
   "interpreter": {
    "hash": "4e1abec938aa564085d88d5729e577a09a090f84c8252c84527a9a845926d2eb"
   }
  }
 },
 "nbformat": 4,
 "nbformat_minor": 2
}

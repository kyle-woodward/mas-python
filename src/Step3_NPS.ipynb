{
 "cells": [
  {
   "cell_type": "code",
   "execution_count": 1,
   "metadata": {},
   "outputs": [
    {
     "name": "stdout",
     "output_type": "stream",
     "text": [
      "Start Time 2024-02-14 18:07:12.766127\n",
      "NPS features copied from rest service\n",
      "Available for schema lock: c:\\Users\\sageg\\source\\repos\\mas-python\\Interagency Tracking System.gdb\\b_Originals\\nps_flat_fuels_20240214\n",
      "Dataset does not exist: c:\\Users\\sageg\\source\\repos\\mas-python\\Interagency Tracking System.gdb\\c_Enriched\\nps_flat_fuels_enriched_20240214\n"
     ]
    }
   ],
   "source": [
    "\"\"\"\n",
    "# Description: Converts the U.S. Department of Interior, National \n",
    "#              Park Service's fuels treatments dataset \n",
    "#              into the Task Force standardized schema.  Dataset\n",
    "#              is enriched with vegetation, ownership, county, WUI, \n",
    "#              Task Force Region, and year.               \n",
    "# Author: Spatial Informatics Group LLC\n",
    "# Version: 1.0.0\n",
    "# Date Created: Jan 24, 2024\n",
    "\"\"\"\n",
    "import os\n",
    "import datetime\n",
    "import arcpy\n",
    "from scripts.utils import init_gdb, check_schema_lock, og_file_input\n",
    "from scripts._3a_NPS import NPS\n",
    "\n",
    "workspace, scratch_workspace = init_gdb()\n",
    "arcpy.env.overwriteOutput = True\n",
    "\n",
    "date_id = datetime.datetime.now().strftime(\"%Y-%m-%d\").replace('-','') # like 20221216\n",
    "\n",
    "# INPUTS\n",
    "# NOTE: Update input as necessary\n",
    "# nps_poly = og_file_input(prefix = 'nps_flat_fuels_', filetype = 'Polygon', gdb = os.path.join(workspace, \"a_Originals\"))\n",
    "# input_fc = os.path.join(workspace,'b_Originals', nps_poly) # need to download this beforehand\n",
    "# nps_flat_fuels_20021102 = os.path.join(original_gdb, 'a_Originals', 'nps_flat_fuels_20021102')\n",
    "\n",
    "nps_api = 'https://services3.arcgis.com/T4QMspbfLg3qTGWY/ArcGIS/rest/services/s_Completed_Perimeters_Past_5FY_View/FeatureServer/0'\n",
    "nps_fs = arcpy.FeatureSet(nps_api)\n",
    "input_fc = os.path.join(workspace,'b_Originals', f'nps_flat_fuels_{date_id}')\n",
    "get_nps_pt = arcpy.CopyFeatures_management(nps_fs, input_fc)\n",
    "print(\"NPS features copied from rest service\")\n",
    "\n",
    "\n",
    "# START and END YEARS\n",
    "startyear = 2020\n",
    "endyear = 2025\n",
    "\n",
    "# OUTPUTS\n",
    "output_enriched = os.path.join(workspace,'c_Enriched',f'nps_flat_fuels_enriched_{date_id}')\n",
    "\n",
    "check_schema_lock(input_fc)\n",
    "check_schema_lock(output_enriched)"
   ]
  },
  {
   "cell_type": "code",
   "execution_count": 2,
   "metadata": {},
   "outputs": [
    {
     "name": "stdout",
     "output_type": "stream",
     "text": [
      "Performing Standardization\n",
      "      assigning domains\n",
      "Saving Output Standardized:\n",
      "          removing unnecessary fields\n",
      "standardized has 160 records\n",
      "Performing Enrichments\n",
      "   Executing Polygon Enrichments...\n",
      "     Polygon Enrichment Start Time 2024-02-14 18:07:12.769154\n",
      "     Calculating Broad Vegetation Type...\n",
      "       enrich step 1/32 summarize veg within polygons\n",
      "       enrich step 2/32 summarize attributes\n",
      "       enrich step 3/32 add join\n",
      "       enrich step 4/32 convert table to table\n",
      "       enrich step 5/32 delete identical\n",
      "         step has 160 records\n",
      "       enrich step 6/32 add join\n",
      "       enrich step 7/32 select layer by attribute\n",
      "       enrich step 8/32 calculate user defined veg field yes\n",
      "       enrich step 9/32 select layer by attribute\n",
      "       enrich step 10/32 calculate veg domain code\n",
      "       enrich step 11/32 calculate user defined veg field no\n",
      "       enrich step 12/32 remove join\n",
      "         step has 160 records\n",
      "     Calculating WUI...\n",
      "       enrich step 13/32 select layer by attribute\n",
      "       enrich step 14/32 select layer by WUI location\n",
      "       enrich step 15/32 calculate WUI yes\n",
      "       enrich step 16/32 select layer by attribute\n",
      "       enrich step 17/32 calculate WUI no\n",
      "       enrich step 18/32 clear selection\n",
      "       enrich step 19/32 feature to point\n",
      "     Calculating Ownership, Counties, and Regions...\n",
      "       enrich step 20/32 spatial join ownership\n",
      "       enrich step 21/32 spatial join veg\n",
      "       enrich step 22/32 add join\n",
      "       enrich step 23/32 calculate ownership field\n",
      "       enrich step 24/32 calculate county field\n",
      "       enrich step 25/32 calculate region field\n",
      "       enrich step 26/32 remove join\n",
      "         step has 160 records\n",
      "       enrich step 27/32 Calculating Years...\n",
      "       enrich step 28/32 Initiating Crosswalk...\n",
      "      Calculating Crosswalking Activites...\n",
      "          cross step 1/8 add join\n",
      "          cross step 2/8 calculate activities\n",
      "          cross step 3/8 calculate residue fate field\n",
      "          cross step 4/8 select attribute by layer\n",
      "          cross step 5/8 calculating objective...\n",
      "          cross step 6/8 calculate category\n",
      "      Calculate Activity Category Step 1/1\n",
      "          cross step 7/8 standardize domains\n",
      "          cross step 8/8 counts towards MAS\n",
      "      Calculating 'Counts to MAS'\n",
      "        counts step 1/8: set to 'NO'\n",
      "        counts step 2/8: select by bounding years (2020-2023)\n",
      "        counts step 3/8: set to 'YES' if activity description is in the list\n",
      "        counts step 3/8: set to 'NO' if not 'Acres'\n",
      "        counts step 4/8: set to 'NO' if status is 'Canceled', 'Planned', 'Outyear', or 'Proposed'\n",
      "        counts step 5/8: set to 'NO' if Activity Category is 'Watershed Improvement'\n",
      "        counts step 6/8: set to 'NO' if Agency is 'Other' and Admin is 'CARB'\n",
      "        counts step 7/8: set to 'NO' if Org is 'USFS' and Status is 'Active'\n",
      "        counts step 8/8: set to 'NO' if Admin is in the list\n",
      "          removing unnecessary fields\n",
      "     Crosswalk Complete, Continuing Enrichment...\n",
      "         step has 160 records\n",
      "       enrich step 29/32 Calculating Latitude and Longitude...\n",
      "       enrich step 30/32 calculate treatment acres\n",
      "       enrich step 31/32 removing unnecessary fields\n",
      "          removing unnecessary fields\n",
      "         step has 160 records\n",
      "         step has 160 records\n",
      "   Enrich Polygons Complete...\n",
      "     Enrichment Polygon script took: 0h, 2m, 49.0s to complete\n",
      "Saving Output Enriched\n",
      "enriched has 160 records\n",
      "      assigning domains\n",
      "Deleting Scratch Files\n",
      "NPS script took: 0h, 3m, 15.0s to complete\n"
     ]
    }
   ],
   "source": [
    "NPS(input_fc, startyear, endyear, output_enriched)"
   ]
  }
 ],
 "metadata": {
  "kernelspec": {
   "display_name": "arcgispro-py3-30",
   "language": "python",
   "name": "python3"
  },
  "language_info": {
   "codemirror_mode": {
    "name": "ipython",
    "version": 3
   },
   "file_extension": ".py",
   "mimetype": "text/x-python",
   "name": "python",
   "nbconvert_exporter": "python",
   "pygments_lexer": "ipython3",
   "version": "3.9.18"
  },
  "vscode": {
   "interpreter": {
    "hash": "4e1abec938aa564085d88d5729e577a09a090f84c8252c84527a9a845926d2eb"
   }
  }
 },
 "nbformat": 4,
 "nbformat_minor": 4
}

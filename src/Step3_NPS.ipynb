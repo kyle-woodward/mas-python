{
 "cells": [
  {
   "cell_type": "code",
   "execution_count": 3,
   "metadata": {},
   "outputs": [
    {
     "name": "stdout",
     "output_type": "stream",
     "text": [
      "Available for schema lock: c:\\Users\\kayla\\Documents\\SIG-GIS\\mas-python\\PC414 CWI Million Acres Testing.gdb\\a_Originals\\nps_treatment_areas_20220214\n",
      "Dataset does not exist: c:\\Users\\kayla\\Documents\\SIG-GIS\\mas-python\\PC414 CWI Million Acres Testing.gdb\\d_Enriched\\nps_flat_fuels_enriched_20230526\n",
      "Dataset does not exist: c:\\Users\\kayla\\Documents\\SIG-GIS\\mas-python\\PC414 CWI Million Acres Testing.gdb\\c_Standardized\\nps_flat_fuels_standardized_20230526\n"
     ]
    }
   ],
   "source": [
    "\"\"\"\n",
    "# Description: Converts the U.S. Department of Interior, National \n",
    "#              Park Service's fuels treatments dataset \n",
    "#              into the Task Force standardized schema.  Dataset\n",
    "#              is enriched with vegetation, ownership, county, WUI, \n",
    "#              Task Force Region, and year.               \n",
    "# Author: Spatial Informatics Group LLC\n",
    "# Version: 1.0.0\n",
    "# Date Created: Jan 24, 2024\n",
    "\"\"\"\n",
    "import os\n",
    "import datetime\n",
    "from scripts.utils import init_gdb, check_schema_lock, check_exists, og_file_input\n",
    "from scripts._3_NPS import NPS\n",
    "\n",
    "workspace, scratch_workspace = init_gdb()\n",
    "\n",
    "# INPUTS\n",
    "# update input as necessary\n",
    "nps_poly = og_file_input(prefix = 'nps_flat_fuels_', filetype = 'Polygon', gdb = os.path.join(workspace, \"a_Originals\"))\n",
    "input_fc = os.path.join(workspace,'a_Originals', nps_poly) # need to download this beforehand\n",
    "\n",
    "# nps_flat_fuels_20021102 = os.path.join(original_gdb, 'a_Originals', 'nps_flat_fuels_20021102')\n",
    "\n",
    "# OUTPUTS\n",
    "date_id = datetime.datetime.now().strftime(\"%Y-%m-%d\").replace('-','') # like 20221216\n",
    "output_enriched = os.path.join(workspace,'d_Enriched',f'nps_flat_fuels_enriched_{date_id}')\n",
    "output_standardized = os.path.join(workspace,'c_Standardized',f'nps_flat_fuels_standardized_{date_id}')\n",
    "\n",
    "check_schema_lock(input_fc)\n",
    "check_schema_lock(output_enriched)\n",
    "check_schema_lock(output_standardized)"
   ]
  },
  {
   "cell_type": "code",
   "execution_count": null,
   "metadata": {},
   "outputs": [],
   "source": [
    "NPS(input_fc, output_standardized, output_enriched)"
   ]
  }
 ],
 "metadata": {
  "kernelspec": {
   "display_name": "arcgispro-py3-30",
   "language": "python",
   "name": "python3"
  },
  "language_info": {
   "codemirror_mode": {
    "name": "ipython",
    "version": 3
   },
   "file_extension": ".py",
   "mimetype": "text/x-python",
   "name": "python",
   "nbconvert_exporter": "python",
   "pygments_lexer": "ipython3",
   "version": "3.9.11"
  },
  "vscode": {
   "interpreter": {
    "hash": "4e1abec938aa564085d88d5729e577a09a090f84c8252c84527a9a845926d2eb"
   }
  }
 },
 "nbformat": 4,
 "nbformat_minor": 4
}

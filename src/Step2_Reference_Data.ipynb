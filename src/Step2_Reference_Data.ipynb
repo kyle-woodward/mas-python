{
 "cells": [
  {
   "cell_type": "code",
   "execution_count": null,
   "metadata": {},
   "outputs": [],
   "source": [
    "\"\"\"\n",
    "# Description: \n",
    "#               \n",
    "#               \n",
    "#              \n",
    "# Author: Spatial Informatics Group LLC\n",
    "# Version: 1.0.0\n",
    "# Date Created: Jan 24, 2024\n",
    "\"\"\"\n",
    "import os\n",
    "import arcpy\n",
    "\n",
    "#TODO build scripts to import and format reference data\n",
    "\n",
    "\"\"\"\n",
    "CalVeg\n",
    "CalFire Ownership + USFS Forested Land Ownership\n",
    "State Boundary\n",
    "County boundaries\n",
    "State Legeslative Assembly and Senate Districts\n",
    "US Congressional Districts\n",
    "USFS Lands\n",
    "Wildfire & Forest Resilience Task Force Regions\n",
    "WUI\n",
    "\"\"\""
   ]
  }
 ],
 "metadata": {
  "language_info": {
   "name": "python"
  }
 },
 "nbformat": 4,
 "nbformat_minor": 2
}

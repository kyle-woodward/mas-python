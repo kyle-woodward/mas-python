{
 "cells": [
  {
   "cell_type": "code",
   "execution_count": null,
   "metadata": {},
   "outputs": [],
   "source": [
    "\"\"\"\n",
    "# Description: Pulls and formats reference data needed for enrichments\n",
    "#              \n",
    "# Author: Spatial Informatics Group LLC\n",
    "# Version: 1.0.0\n",
    "# Date Created: Jan 24, 2024\n",
    "\"\"\"\n",
    "import os\n",
    "import arcpy\n",
    "from scripts._2_veg_types import veg\n",
    "from scripts._2_ownership import ownership\n",
    "from scripts._2_wui import wui\n",
    "\n"
   ]
  },
  {
   "cell_type": "code",
   "execution_count": null,
   "metadata": {},
   "outputs": [],
   "source": [
    "California = \"https://services.arcgis.com/P3ePLMYs2RVChkJx/ArcGIS/rest/services/USA_Census_States/FeatureServer/0\"\n",
    "California2 = os.path.join(workspace, \"a_Reference\", \"California2\")\n",
    "California3 = arcpy.Select_analysis(California, California2, \"STATE_ABBR = 'CA'\")\n",
    "\n",
    "Counties = \"https://services.arcgis.com/P3ePLMYs2RVChkJx/ArcGIS/rest/services/USA_Census_Counties/FeatureServer/0\"\n",
    "Counties2 = os.path.join(workspace, \"a_Reference\", \"Counties2\")\n",
    "Counties3 = arcpy.Select_analysis(Counties, Counties2, \"STATE_ABBR = 'CA'\")"
   ]
  },
  {
   "cell_type": "code",
   "execution_count": null,
   "metadata": {},
   "outputs": [],
   "source": [
    "veg()\n"
   ]
  },
  {
   "cell_type": "code",
   "execution_count": null,
   "metadata": {},
   "outputs": [],
   "source": [
    "# Download Forest_own1.tif from https://www.fs.usda.gov/rds/archive/catalog/RDS-2020-0044\n",
    "ownership()\n"
   ]
  },
  {
   "cell_type": "code",
   "execution_count": null,
   "metadata": {},
   "outputs": [],
   "source": [
    "wui()"
   ]
  }
 ],
 "metadata": {
  "language_info": {
   "name": "python"
  }
 },
 "nbformat": 4,
 "nbformat_minor": 2
}

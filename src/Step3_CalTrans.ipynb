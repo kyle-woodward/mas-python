{
 "cells": [
  {
   "cell_type": "code",
   "execution_count": 1,
   "metadata": {},
   "outputs": [
    {
     "name": "stdout",
     "output_type": "stream",
     "text": [
      "Available for schema lock: c:\\Users\\sageg\\source\\repos\\mas-python\\Interagency Tracking System.gdb\\b_Originals\\VMP_Highway_Summary_2021a\n",
      "Available for schema lock: c:\\Users\\sageg\\source\\repos\\mas-python\\Interagency Tracking System.gdb\\b_Originals\\VMP_Highway_Summary_2022a\n",
      "Available for schema lock: c:\\Users\\sageg\\source\\repos\\mas-python\\Interagency Tracking System.gdb\\VMP_Activities_Table_2021_Closeout_Date_Added\n",
      "Available for schema lock: c:\\Users\\sageg\\source\\repos\\mas-python\\Interagency Tracking System.gdb\\VMP_Activities_Table_2022_Closeout_Date_Added\n",
      "Dataset does not exist: c:\\Users\\sageg\\source\\repos\\mas-python\\Interagency Tracking System.gdb\\c_Enriched\\CalTrans_act_ln_enriched_20240223\n"
     ]
    }
   ],
   "source": [
    "\"\"\"\n",
    "# Description: Converts the California Department of Transportation's Fuels  \n",
    "#              Treatments dataset into the Task Force standardized schema.  \n",
    "#              Dataset is enriched with vegetation, ownership, county, WUI, \n",
    "#              Task Force Region, and year.              \n",
    "# Author: Spatial Informatics Group LLC\n",
    "# Version: 1.0.0\n",
    "# Date Created: Jan 24, 2024\n",
    "\"\"\"\n",
    "import os\n",
    "import datetime\n",
    "from scripts._3a_CalTrans import CalTrans\n",
    "from scripts.utils import init_gdb, check_schema_lock #, og_file_input\n",
    "\n",
    "workspace, scratch_workspace = init_gdb()\n",
    "\n",
    "# INPUTS\n",
    "# will need to acquire updated versions and update file names\n",
    "input_lines21 = os.path.join(workspace, \"b_Originals\", \"VMP_Highway_Summary_2021\")\n",
    "input_lines22 = os.path.join(workspace, \"b_Originals\", \"VMP_Highway_Summary_2022\")\n",
    "input_table21 = os.path.join(workspace, \"VMP_Activities_Table_2021_Closeout_Date_Added\")\n",
    "input_table22 = os.path.join(workspace, \"VMP_Activities_Table_2022_Closeout_Date_Added\")\n",
    "\n",
    "date_id = datetime.datetime.now().strftime(\"%Y-%m-%d\").replace('-','') # like 20230711\n",
    "\n",
    "# OUTPUTS\n",
    "output_lines_enriched = os.path.join(workspace, \"c_Enriched\",f'CalTrans_act_ln_enriched_{date_id}') \n",
    "\n",
    "check_schema_lock(input_lines21)\n",
    "check_schema_lock(input_lines22)\n",
    "check_schema_lock(input_table21)\n",
    "check_schema_lock(input_table22)\n",
    "check_schema_lock(output_lines_enriched)\n"
   ]
  },
  {
   "cell_type": "code",
   "execution_count": 2,
   "metadata": {},
   "outputs": [
    {
     "name": "stdout",
     "output_type": "stream",
     "text": [
      "Start Time 2024-02-23 19:04:56.416481\n",
      "Part 1 join features and tables\n",
      "     step 1/8 add 2021 join\n",
      "     step 2/8 save features\n",
      "        input_table21_join_copy has 53 records\n",
      "     step 3/8 add 2022 join\n",
      "     step 4/8 save features\n",
      "        input_table22_join_copy has 98 records\n",
      "     step 5/8 combine 2021 and 2022\n",
      "   Appending Lines\n",
      "       CalTransLns_append has 151 records\n",
      "Part 2: Performing Standardization\n",
      "     step 6/8 repair geometry\n",
      "     step 7/8 alter & add fields\n",
      "      assigning domains\n",
      "     step 8/8 transfer attributes\n",
      "Saving Standardized Output\n",
      "          removing unnecessary fields\n",
      "Enriching Dataset\n",
      "   Executing Line Enrichments...\n",
      "     Line Enrichment Start Time 2024-02-23 19:05:19.614369\n",
      "       enrich step 1/4 convert to points\n",
      "       enrich step 2/4 execute enrich_points...\n",
      "   Executing Point Enrichments...\n",
      "     Point Enrichment Start Time 2024-02-23 19:05:19.614369\n",
      "     Calculating WUI...\n",
      "       enrich step 1/16 select layer by WUI\n",
      "       enrich step 2/16 calculate WUI yes\n",
      "       enrich step 3/16 switch selection\n",
      "       enrich step 4/16 calculate WUI no\n",
      "       enrich step 5/16 clear selection\n",
      "     Calculating Ownership, Counties, and Regions...\n",
      "       enrich step 6/16 spatial join ownership\n",
      "       enrich step 7/16 spatial join regions\n",
      "       enrich step 8/16 spatial join veg\n",
      "       enrich step 9/16 calculate ownership\n",
      "       enrich step 10/16 calculate county\n",
      "       enrich step 11/16 calculate region\n",
      "       enrich step 12/16 calculate veg type\n",
      "       enrich step 13/16 Initiating Crosswalk\n",
      "      Calculating Crosswalking Activites...\n",
      "          cross step 1/8 add join\n",
      "          cross step 2/8 calculate activities\n",
      "          cross step 3/8 calculate residue fate field\n",
      "          cross step 4/8 select attribute by layer\n",
      "          cross step 5/8 calculating objective...\n",
      "          cross step 6/8 calculate category\n",
      "      Calculate Activity Category Step 1/1\n",
      "          cross step 7/8 standardize domains\n",
      "          cross step 8/8 counts towards MAS\n",
      "      Calculating 'Counts to MAS'\n",
      "        counts step 1/8: set to 'NO'\n",
      "        counts step 2/8: select by bounding years (2020-2023)\n",
      "        counts step 3/8: set to 'YES' if activity description is in the list\n",
      "        counts step 3/8: set to 'NO' if not 'Acres'\n",
      "        counts step 4/8: set to 'NO' if status is 'Canceled', 'Planned', 'Outyear', or 'Proposed'\n",
      "        counts step 5/8: set to 'NO' if Activity Category is 'Watershed Improvement'\n",
      "        counts step 6/8: set to 'NO' if Agency is 'Other' and Admin is 'CARB'\n",
      "        counts step 7/8: set to 'NO' if Org is 'USFS' and Status is 'Active'\n",
      "        counts step 8/8: set to 'NO' if Admin is in the list\n",
      "          removing unnecessary fields\n",
      "     Crosswalk Complete, Continuing Enrichment\n",
      "       enrich step 14/16 Calculating Years\n",
      "       enrich step 15/16 Calculating Latitude and Longitude\n",
      "       enrich step 16/16 removing unnecessary fields\n",
      "          removing unnecessary fields\n",
      "   Enrich Points Complete...\n",
      "     Enrichment Points script took: 0h, 2m, 9.0s to complete\n",
      "       enrich step 3/4 importing attributes\n",
      "       enrich step 4/4 align to template\n",
      "   Enrich Lines Complete...\n",
      "     Enrichment Lines script took: 0h, 2m, 16.0s to complete\n",
      "Saving Enriched Output\n",
      "   output_enriched has 151 records\n",
      "      assigning domains\n"
     ]
    }
   ],
   "source": [
    "CalTrans(input_lines21, input_lines22, input_table21, input_table22, output_lines_enriched)\n"
   ]
  }
 ],
 "metadata": {
  "kernelspec": {
   "display_name": "arcgispro-py3-30",
   "language": "python",
   "name": "python3"
  },
  "language_info": {
   "codemirror_mode": {
    "name": "ipython",
    "version": 3
   },
   "file_extension": ".py",
   "mimetype": "text/x-python",
   "name": "python",
   "nbconvert_exporter": "python",
   "pygments_lexer": "ipython3",
   "version": "3.9.18"
  },
  "vscode": {
   "interpreter": {
    "hash": "4e1abec938aa564085d88d5729e577a09a090f84c8252c84527a9a845926d2eb"
   }
  }
 },
 "nbformat": 4,
 "nbformat_minor": 4
}

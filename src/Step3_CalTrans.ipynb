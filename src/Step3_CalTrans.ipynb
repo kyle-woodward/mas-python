{
 "cells": [
  {
   "cell_type": "code",
   "execution_count": 1,
   "metadata": {},
   "outputs": [
    {
     "ename": "ModuleNotFoundError",
     "evalue": "No module named 'scripts._4_Standardize_Domains'",
     "output_type": "error",
     "traceback": [
      "\u001b[1;31m---------------------------------------------------------------------------\u001b[0m",
      "\u001b[1;31mModuleNotFoundError\u001b[0m                       Traceback (most recent call last)",
      "\u001b[1;32m~\\AppData\\Local\\Temp\\ipykernel_12516\\367579900.py\u001b[0m in \u001b[0;36m<cell line: 13>\u001b[1;34m()\u001b[0m\n\u001b[0;32m     11\u001b[0m \u001b[1;32mimport\u001b[0m \u001b[0mdatetime\u001b[0m\u001b[1;33m\u001b[0m\u001b[1;33m\u001b[0m\u001b[0m\n\u001b[0;32m     12\u001b[0m \u001b[1;31m# import arcpy\u001b[0m\u001b[1;33m\u001b[0m\u001b[1;33m\u001b[0m\u001b[0m\n\u001b[1;32m---> 13\u001b[1;33m \u001b[1;32mfrom\u001b[0m \u001b[0mscripts\u001b[0m\u001b[1;33m.\u001b[0m\u001b[0m_3a_CalTrans\u001b[0m \u001b[1;32mimport\u001b[0m \u001b[0mCalTrans\u001b[0m\u001b[1;33m\u001b[0m\u001b[1;33m\u001b[0m\u001b[0m\n\u001b[0m\u001b[0;32m     14\u001b[0m \u001b[1;32mfrom\u001b[0m \u001b[0mscripts\u001b[0m\u001b[1;33m.\u001b[0m\u001b[0mutils\u001b[0m \u001b[1;32mimport\u001b[0m \u001b[0minit_gdb\u001b[0m\u001b[1;33m,\u001b[0m \u001b[0mcheck_schema_lock\u001b[0m\u001b[1;33m\u001b[0m\u001b[1;33m\u001b[0m\u001b[0m\n\u001b[0;32m     15\u001b[0m \u001b[1;33m\u001b[0m\u001b[0m\n",
      "\u001b[1;32mc:\\Users\\sageg\\source\\repos\\mas-python\\src\\scripts\\_3a_CalTrans.py\u001b[0m in \u001b[0;36m<module>\u001b[1;34m\u001b[0m\n\u001b[0;32m     13\u001b[0m \u001b[1;32mfrom\u001b[0m \u001b[1;33m.\u001b[0m\u001b[0m_1_add_fields\u001b[0m \u001b[1;32mimport\u001b[0m \u001b[0mAddFields\u001b[0m\u001b[1;33m\u001b[0m\u001b[1;33m\u001b[0m\u001b[0m\n\u001b[0;32m     14\u001b[0m \u001b[1;32mfrom\u001b[0m \u001b[1;33m.\u001b[0m\u001b[0m_1_assign_domains\u001b[0m \u001b[1;32mimport\u001b[0m \u001b[0mAssignDomains\u001b[0m\u001b[1;33m\u001b[0m\u001b[1;33m\u001b[0m\u001b[0m\n\u001b[1;32m---> 15\u001b[1;33m \u001b[1;32mfrom\u001b[0m \u001b[1;33m.\u001b[0m\u001b[0m_3_enrichments_lines\u001b[0m \u001b[1;32mimport\u001b[0m \u001b[0menrich_lines\u001b[0m\u001b[1;33m\u001b[0m\u001b[1;33m\u001b[0m\u001b[0m\n\u001b[0m\u001b[0;32m     16\u001b[0m \u001b[1;32mfrom\u001b[0m \u001b[1;33m.\u001b[0m\u001b[0m_3_keep_fields\u001b[0m \u001b[1;32mimport\u001b[0m \u001b[0mKeepFields\u001b[0m\u001b[1;33m\u001b[0m\u001b[1;33m\u001b[0m\u001b[0m\n\u001b[0;32m     17\u001b[0m \u001b[1;32mfrom\u001b[0m \u001b[1;33m.\u001b[0m\u001b[0mutils\u001b[0m \u001b[1;32mimport\u001b[0m \u001b[0minit_gdb\u001b[0m\u001b[1;33m,\u001b[0m \u001b[0mdelete_scratch_files\u001b[0m\u001b[1;33m\u001b[0m\u001b[1;33m\u001b[0m\u001b[0m\n",
      "\u001b[1;32mc:\\Users\\sageg\\source\\repos\\mas-python\\src\\scripts\\_3_enrichments_lines.py\u001b[0m in \u001b[0;36m<module>\u001b[1;34m\u001b[0m\n\u001b[0;32m      8\u001b[0m \u001b[1;32mimport\u001b[0m \u001b[0mos\u001b[0m\u001b[1;33m\u001b[0m\u001b[1;33m\u001b[0m\u001b[0m\n\u001b[0;32m      9\u001b[0m \u001b[1;32mimport\u001b[0m \u001b[0marcpy\u001b[0m\u001b[1;33m\u001b[0m\u001b[1;33m\u001b[0m\u001b[0m\n\u001b[1;32m---> 10\u001b[1;33m \u001b[1;32mfrom\u001b[0m \u001b[1;33m.\u001b[0m\u001b[0m_3_enrichments_pts\u001b[0m \u001b[1;32mimport\u001b[0m \u001b[0menrich_points\u001b[0m\u001b[1;33m\u001b[0m\u001b[1;33m\u001b[0m\u001b[0m\n\u001b[0m\u001b[0;32m     11\u001b[0m \u001b[1;32mfrom\u001b[0m \u001b[1;33m.\u001b[0m\u001b[0m_3_keep_fields\u001b[0m \u001b[1;32mimport\u001b[0m \u001b[0mKeepFields\u001b[0m\u001b[1;33m\u001b[0m\u001b[1;33m\u001b[0m\u001b[0m\n\u001b[0;32m     12\u001b[0m \u001b[1;32mfrom\u001b[0m \u001b[1;33m.\u001b[0m\u001b[0mutils\u001b[0m \u001b[1;32mimport\u001b[0m \u001b[0minit_gdb\u001b[0m\u001b[1;33m,\u001b[0m \u001b[0mdelete_scratch_files\u001b[0m\u001b[1;33m\u001b[0m\u001b[1;33m\u001b[0m\u001b[0m\n",
      "\u001b[1;32mc:\\Users\\sageg\\source\\repos\\mas-python\\src\\scripts\\_3_enrichments_pts.py\u001b[0m in \u001b[0;36m<module>\u001b[1;34m\u001b[0m\n\u001b[0;32m     10\u001b[0m \u001b[1;32mfrom\u001b[0m \u001b[1;33m.\u001b[0m\u001b[0m_3_calculate_year\u001b[0m \u001b[1;32mimport\u001b[0m \u001b[0mYear\u001b[0m\u001b[1;33m\u001b[0m\u001b[1;33m\u001b[0m\u001b[0m\n\u001b[0;32m     11\u001b[0m \u001b[1;32mfrom\u001b[0m \u001b[1;33m.\u001b[0m\u001b[0m_3_keep_fields\u001b[0m \u001b[1;32mimport\u001b[0m \u001b[0mKeepFields\u001b[0m\u001b[1;33m\u001b[0m\u001b[1;33m\u001b[0m\u001b[0m\n\u001b[1;32m---> 12\u001b[1;33m \u001b[1;32mfrom\u001b[0m \u001b[1;33m.\u001b[0m\u001b[0m_3_crosswalk\u001b[0m \u001b[1;32mimport\u001b[0m \u001b[0mCrosswalk\u001b[0m\u001b[1;33m\u001b[0m\u001b[1;33m\u001b[0m\u001b[0m\n\u001b[0m\u001b[0;32m     13\u001b[0m \u001b[1;32mfrom\u001b[0m \u001b[1;33m.\u001b[0m\u001b[0mutils\u001b[0m \u001b[1;32mimport\u001b[0m \u001b[0minit_gdb\u001b[0m\u001b[1;33m\u001b[0m\u001b[1;33m\u001b[0m\u001b[0m\n\u001b[0;32m     14\u001b[0m \u001b[1;33m\u001b[0m\u001b[0m\n",
      "\u001b[1;32mc:\\Users\\sageg\\source\\repos\\mas-python\\src\\scripts\\_3_crosswalk.py\u001b[0m in \u001b[0;36m<module>\u001b[1;34m\u001b[0m\n\u001b[0;32m     11\u001b[0m \u001b[1;32mfrom\u001b[0m \u001b[1;33m.\u001b[0m\u001b[0m_3_calculate_category\u001b[0m \u001b[1;32mimport\u001b[0m \u001b[0mCategory\u001b[0m\u001b[1;33m\u001b[0m\u001b[1;33m\u001b[0m\u001b[0m\n\u001b[0;32m     12\u001b[0m \u001b[1;32mfrom\u001b[0m \u001b[1;33m.\u001b[0m\u001b[0m_3_keep_fields\u001b[0m \u001b[1;32mimport\u001b[0m \u001b[0mKeepFields\u001b[0m\u001b[1;33m\u001b[0m\u001b[1;33m\u001b[0m\u001b[0m\n\u001b[1;32m---> 13\u001b[1;33m \u001b[1;32mfrom\u001b[0m \u001b[1;33m.\u001b[0m\u001b[0m_4_Standardize_Domains\u001b[0m \u001b[1;32mimport\u001b[0m \u001b[0mStandardizeDomains\u001b[0m\u001b[1;33m\u001b[0m\u001b[1;33m\u001b[0m\u001b[0m\n\u001b[0m\u001b[0;32m     14\u001b[0m \u001b[1;32mfrom\u001b[0m \u001b[1;33m.\u001b[0m\u001b[0m_4_counts_to_mas\u001b[0m \u001b[1;32mimport\u001b[0m \u001b[0mCountsToMAS\u001b[0m\u001b[1;33m\u001b[0m\u001b[1;33m\u001b[0m\u001b[0m\n\u001b[0;32m     15\u001b[0m \u001b[1;32mfrom\u001b[0m \u001b[1;33m.\u001b[0m\u001b[0mutils\u001b[0m \u001b[1;32mimport\u001b[0m \u001b[0minit_gdb\u001b[0m\u001b[1;33m\u001b[0m\u001b[1;33m\u001b[0m\u001b[0m\n",
      "\u001b[1;31mModuleNotFoundError\u001b[0m: No module named 'scripts._4_Standardize_Domains'"
     ]
    }
   ],
   "source": [
    "\"\"\"\n",
    "# Description: Converts the California Department of Transportation's Fuels  \n",
    "#              Treatments dataset into the Task Force standardized schema.  \n",
    "#              Dataset is enriched with vegetation, ownership, county, WUI, \n",
    "#              Task Force Region, and year.              \n",
    "# Author: Spatial Informatics Group LLC\n",
    "# Version: 1.0.0\n",
    "# Date Created: Jan 24, 2024\n",
    "\"\"\"\n",
    "import os\n",
    "import datetime\n",
    "# import arcpy\n",
    "from scripts._3a_CalTrans import CalTrans\n",
    "from scripts.utils import init_gdb, check_schema_lock\n",
    "\n",
    "workspace, scratch_workspace = init_gdb()\n",
    "\n",
    "# INPUTS\n",
    "# will need to acquire updated versions and update file names\n",
    "input_lines21 = os.path.join(workspace, \"b_Originals\", \"VMP_Highway_Summary_2021\")\n",
    "input_lines22 = os.path.join(workspace, \"b_Originals\", \"VMP_Highway_Summary_2022\")\n",
    "input_table21 = os.path.join(workspace, \"VMP_Activities_Table_2021_Closeout_Date_Added\")\n",
    "input_table22 = os.path.join(workspace, \"VMP_Activities_Table_2022_Closeout_Date_Added\")\n",
    "\n",
    "date_id = datetime.datetime.now().strftime(\"%Y-%m-%d\").replace('-','') # like 20230711\n",
    "\n",
    "# OUTPUTS\n",
    "output_lines_enriched = os.path.join(workspace, \"c_Enriched\",f'CalTrans_act_ln_enriched__{date_id}') \n",
    "\n",
    "check_schema_lock(input_lines21)\n",
    "check_schema_lock(input_lines22)\n",
    "check_schema_lock(input_table21)\n",
    "check_schema_lock(input_table22)\n",
    "check_schema_lock(output_lines_enriched)"
   ]
  },
  {
   "cell_type": "code",
   "execution_count": null,
   "metadata": {},
   "outputs": [],
   "source": [
    "CalTrans(input_lines21, input_lines22, input_table21, input_table22, output_lines_enriched)\n",
    "#NOTE Last run took 15hrs to process 47,000 records"
   ]
  }
 ],
 "metadata": {
  "kernelspec": {
   "display_name": "arcgispro-py3-30",
   "language": "python",
   "name": "python3"
  },
  "language_info": {
   "codemirror_mode": {
    "name": "ipython",
    "version": 3
   },
   "file_extension": ".py",
   "mimetype": "text/x-python",
   "name": "python",
   "nbconvert_exporter": "python",
   "pygments_lexer": "ipython3",
   "version": "3.9.18"
  },
  "vscode": {
   "interpreter": {
    "hash": "4e1abec938aa564085d88d5729e577a09a090f84c8252c84527a9a845926d2eb"
   }
  }
 },
 "nbformat": 4,
 "nbformat_minor": 4
}

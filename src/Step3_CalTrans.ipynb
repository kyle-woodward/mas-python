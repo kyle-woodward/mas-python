{
 "cells": [
  {
   "cell_type": "code",
   "execution_count": 1,
   "metadata": {},
   "outputs": [
    {
     "name": "stdout",
     "output_type": "stream",
     "text": [
      "Available for schema lock: c:\\Users\\sageg\\source\\repos\\mas-python\\Interagency Tracking System.gdb\\b_Originals\\VMP_Highway_Summary_2021\n",
      "Available for schema lock: c:\\Users\\sageg\\source\\repos\\mas-python\\Interagency Tracking System.gdb\\b_Originals\\VMP_Highway_Summary_2022\n",
      "Available for schema lock: c:\\Users\\sageg\\source\\repos\\mas-python\\Interagency Tracking System.gdb\\VMP_Activities_Table_2021_Closeout_Date_Added\n",
      "Available for schema lock: c:\\Users\\sageg\\source\\repos\\mas-python\\Interagency Tracking System.gdb\\VMP_Activities_Table_2022_Closeout_Date_Added\n",
      "Available for schema lock: c:\\Users\\sageg\\source\\repos\\mas-python\\Interagency Tracking System.gdb\\c_Enriched\\CalTrans_act_ln_enriched_20240204\n"
     ]
    }
   ],
   "source": [
    "\"\"\"\n",
    "# Description: Converts the California Department of Transportation's Fuels  \n",
    "#              Treatments dataset into the Task Force standardized schema.  \n",
    "#              Dataset is enriched with vegetation, ownership, county, WUI, \n",
    "#              Task Force Region, and year.              \n",
    "# Author: Spatial Informatics Group LLC\n",
    "# Version: 1.0.0\n",
    "# Date Created: Jan 24, 2024\n",
    "\"\"\"\n",
    "import os\n",
    "import datetime\n",
    "# import arcpy\n",
    "from scripts._3_CalTrans import CalTrans\n",
    "from scripts.utils import init_gdb, check_schema_lock\n",
    "\n",
    "workspace, scratch_workspace = init_gdb()\n",
    "\n",
    "# INPUTS\n",
    "# will need to acquire updated versions and update file names\n",
    "input_lines21 = os.path.join(workspace, \"b_Originals\", \"VMP_Highway_Summary_2021\")\n",
    "input_lines22 = os.path.join(workspace, \"b_Originals\", \"VMP_Highway_Summary_2022\")\n",
    "input_table21 = os.path.join(workspace, \"VMP_Activities_Table_2021_Closeout_Date_Added\")\n",
    "input_table22 = os.path.join(workspace, \"VMP_Activities_Table_2022_Closeout_Date_Added\")\n",
    "\n",
    "date_id = datetime.datetime.now().strftime(\"%Y-%m-%d\").replace('-','') # like 20230711\n",
    "\n",
    "# OUTPUTS\n",
    "output_lines_enriched = os.path.join(workspace, \"c_Enriched\",f'CalTrans_act_ln_enriched_{date_id}') \n",
    "\n",
    "check_schema_lock(input_lines21)\n",
    "check_schema_lock(input_lines22)\n",
    "check_schema_lock(input_table21)\n",
    "check_schema_lock(input_table22)\n",
    "check_schema_lock(output_lines_enriched)"
   ]
  },
  {
   "cell_type": "code",
   "execution_count": 2,
   "metadata": {},
   "outputs": [
    {
     "name": "stdout",
     "output_type": "stream",
     "text": [
      "Start Time Sun Feb  4 14:38:33 2024\n",
      "     step 1/?? add join\n",
      "Appending Lines\n",
      "Performing Line Standardization\n",
      "Saving Output Lines Standardized\n",
      "Executing Line Enrichments...\n",
      "   step 1 convert to points\n",
      "   step 2 execute enrich_points...\n",
      "Executing Point Enrichments...\n",
      "   Calculating WUI...\n",
      "     step 1/18 select layer by attribute\n",
      "     step 2/18 intersect WUI\n",
      "     step 3/18 calculate WUI yes\n",
      "     step 4/18 select layer by attribute\n",
      "     step 5/18 calculate WUI no\n",
      "     step 6/18 clear selection\n",
      "   Calculating Ownership, Counties, and Regions...\n",
      "     step 7/18 spatial join ownership\n",
      "     step 8/18 spatial join regions\n",
      "     step 9/18 spatial join veg\n",
      "     step 10/18 calculate ownership field\n",
      "     step 11/18 calculate county field\n",
      "     step 12/18 calculate region field\n",
      "     step 13/18 calculate veg type\n",
      "     step 14/18 initiating crosswalk..\n",
      "   Calculating Crosswalking Activites...\n",
      "     step 1/7 add join\n",
      "     step 2/7 copy features\n",
      "     step 2/7 calculate activities\n",
      "     step 3/7 calculate residue fate field\n",
      "     step 4/7 select attribute by layer\n",
      "     step 5/7 calculating objective...\n",
      "     step 7/7 keep fields\n",
      "   Crosswalk Complete, Continuing Enrichment..\n",
      "     step 15/18 Calculating Years...\n",
      "     step 16/18 Calculating Latitude and Longitude..\n",
      "     step 17/18 counts to MAS\n",
      "     step 18/18 removing unnecessary fields\n",
      "Enrich Points Complete..\n",
      "   step 3 importing point attributes\n",
      "         Copy joined\n",
      "          Transfering attributes\n",
      "2\n",
      "3\n",
      "4\n",
      "5\n",
      "6\n",
      "7\n",
      "8\n",
      "9\n"
     ]
    },
    {
     "ename": "ExecuteError",
     "evalue": "ERROR 999999: Something unexpected caused the tool to fail. Contact Esri Technical Support (http://esriurl.com/support) to Report a Bug, and refer to the error help for potential solutions or workarounds.\nGeneral function failure [Line_Layer_Temp_CopyFeatures]\nGeneral function failure [Line_Layer_Temp_CopyFeatures]\nFailed to execute (CalculateField).\n",
     "output_type": "error",
     "traceback": [
      "\u001b[1;31m---------------------------------------------------------------------------\u001b[0m",
      "\u001b[1;31mExecuteError\u001b[0m                              Traceback (most recent call last)",
      "\u001b[1;32m~\\AppData\\Local\\Temp\\ipykernel_25368\\2488154114.py\u001b[0m in \u001b[0;36m<cell line: 1>\u001b[1;34m()\u001b[0m\n\u001b[1;32m----> 1\u001b[1;33m \u001b[0mCalTrans\u001b[0m\u001b[1;33m(\u001b[0m\u001b[0minput_lines21\u001b[0m\u001b[1;33m,\u001b[0m \u001b[0minput_lines22\u001b[0m\u001b[1;33m,\u001b[0m \u001b[0minput_table21\u001b[0m\u001b[1;33m,\u001b[0m \u001b[0minput_table22\u001b[0m\u001b[1;33m,\u001b[0m \u001b[0moutput_lines_enriched\u001b[0m\u001b[1;33m)\u001b[0m\u001b[1;33m\u001b[0m\u001b[1;33m\u001b[0m\u001b[0m\n\u001b[0m",
      "\u001b[1;32mc:\\Users\\sageg\\source\\repos\\mas-python\\src\\scripts\\_3_CalTrans.py\u001b[0m in \u001b[0;36mCalTrans\u001b[1;34m(input_lines21, input_lines22, input_table21, input_table22, output_lines_enriched, delete_scratch)\u001b[0m\n\u001b[0;32m    637\u001b[0m \u001b[1;33m\u001b[0m\u001b[0m\n\u001b[0;32m    638\u001b[0m         \u001b[1;31m# Process: 7c Enrichments Lines (2) (7c Enrichments Lines)\u001b[0m\u001b[1;33m\u001b[0m\u001b[1;33m\u001b[0m\u001b[0m\n\u001b[1;32m--> 639\u001b[1;33m         caltrans_lines_enriched = enrich_lines(\n\u001b[0m\u001b[0;32m    640\u001b[0m             \u001b[0mline_fc\u001b[0m\u001b[1;33m=\u001b[0m\u001b[0moutput_lines_standardized\u001b[0m\u001b[1;33m\u001b[0m\u001b[1;33m\u001b[0m\u001b[0m\n\u001b[0;32m    641\u001b[0m         )\n",
      "\u001b[1;32mc:\\Users\\sageg\\source\\repos\\mas-python\\src\\scripts\\_7c_enrichments_lines.py\u001b[0m in \u001b[0;36menrich_lines\u001b[1;34m(line_fc)\u001b[0m\n\u001b[0;32m    175\u001b[0m         \u001b[0mprint\u001b[0m\u001b[1;33m(\u001b[0m\u001b[1;34m\"9\"\u001b[0m\u001b[1;33m)\u001b[0m\u001b[1;33m\u001b[0m\u001b[1;33m\u001b[0m\u001b[0m\n\u001b[0;32m    176\u001b[0m         \u001b[1;31m# Process: Calculate Veg (Calculate Field) (management)\u001b[0m\u001b[1;33m\u001b[0m\u001b[1;33m\u001b[0m\u001b[0m\n\u001b[1;32m--> 177\u001b[1;33m         CDFW_lines_stand_SpatialJoin2_3_ = arcpy.management.CalculateField(\n\u001b[0m\u001b[0;32m    178\u001b[0m             \u001b[0min_table\u001b[0m\u001b[1;33m=\u001b[0m\u001b[0mUpdated_Input_Table_5_\u001b[0m\u001b[1;33m,\u001b[0m\u001b[1;33m\u001b[0m\u001b[1;33m\u001b[0m\u001b[0m\n\u001b[0;32m    179\u001b[0m             \u001b[0mfield\u001b[0m\u001b[1;33m=\u001b[0m\u001b[1;34m\"BROAD_VEGETATION_TYPE\"\u001b[0m\u001b[1;33m,\u001b[0m\u001b[1;33m\u001b[0m\u001b[1;33m\u001b[0m\u001b[0m\n",
      "\u001b[1;32mC:\\Program Files\\ArcGIS\\Pro\\Resources\\ArcPy\\arcpy\\management.py\u001b[0m in \u001b[0;36mCalculateField\u001b[1;34m(in_table, field, expression, expression_type, code_block, field_type, enforce_domains)\u001b[0m\n\u001b[0;32m   5604\u001b[0m         \u001b[1;32mreturn\u001b[0m \u001b[0mretval\u001b[0m\u001b[1;33m\u001b[0m\u001b[1;33m\u001b[0m\u001b[0m\n\u001b[0;32m   5605\u001b[0m     \u001b[1;32mexcept\u001b[0m \u001b[0mException\u001b[0m \u001b[1;32mas\u001b[0m \u001b[0me\u001b[0m\u001b[1;33m:\u001b[0m\u001b[1;33m\u001b[0m\u001b[1;33m\u001b[0m\u001b[0m\n\u001b[1;32m-> 5606\u001b[1;33m         \u001b[1;32mraise\u001b[0m \u001b[0me\u001b[0m\u001b[1;33m\u001b[0m\u001b[1;33m\u001b[0m\u001b[0m\n\u001b[0m\u001b[0;32m   5607\u001b[0m \u001b[1;33m\u001b[0m\u001b[0m\n\u001b[0;32m   5608\u001b[0m \u001b[1;33m@\u001b[0m\u001b[0mgptooldoc\u001b[0m\u001b[1;33m(\u001b[0m\u001b[1;34m'CalculateFields_management'\u001b[0m\u001b[1;33m,\u001b[0m \u001b[1;32mNone\u001b[0m\u001b[1;33m)\u001b[0m\u001b[1;33m\u001b[0m\u001b[1;33m\u001b[0m\u001b[0m\n",
      "\u001b[1;32mC:\\Program Files\\ArcGIS\\Pro\\Resources\\ArcPy\\arcpy\\management.py\u001b[0m in \u001b[0;36mCalculateField\u001b[1;34m(in_table, field, expression, expression_type, code_block, field_type, enforce_domains)\u001b[0m\n\u001b[0;32m   5601\u001b[0m     \u001b[1;32mfrom\u001b[0m \u001b[0marcpy\u001b[0m\u001b[1;33m.\u001b[0m\u001b[0marcobjects\u001b[0m\u001b[1;33m.\u001b[0m\u001b[0marcobjectconversion\u001b[0m \u001b[1;32mimport\u001b[0m \u001b[0mconvertArcObjectToPythonObject\u001b[0m\u001b[1;33m\u001b[0m\u001b[1;33m\u001b[0m\u001b[0m\n\u001b[0;32m   5602\u001b[0m     \u001b[1;32mtry\u001b[0m\u001b[1;33m:\u001b[0m\u001b[1;33m\u001b[0m\u001b[1;33m\u001b[0m\u001b[0m\n\u001b[1;32m-> 5603\u001b[1;33m         \u001b[0mretval\u001b[0m \u001b[1;33m=\u001b[0m \u001b[0mconvertArcObjectToPythonObject\u001b[0m\u001b[1;33m(\u001b[0m\u001b[0mgp\u001b[0m\u001b[1;33m.\u001b[0m\u001b[0mCalculateField_management\u001b[0m\u001b[1;33m(\u001b[0m\u001b[1;33m*\u001b[0m\u001b[0mgp_fixargs\u001b[0m\u001b[1;33m(\u001b[0m\u001b[1;33m(\u001b[0m\u001b[0min_table\u001b[0m\u001b[1;33m,\u001b[0m \u001b[0mfield\u001b[0m\u001b[1;33m,\u001b[0m \u001b[0mexpression\u001b[0m\u001b[1;33m,\u001b[0m \u001b[0mexpression_type\u001b[0m\u001b[1;33m,\u001b[0m \u001b[0mcode_block\u001b[0m\u001b[1;33m,\u001b[0m \u001b[0mfield_type\u001b[0m\u001b[1;33m,\u001b[0m \u001b[0menforce_domains\u001b[0m\u001b[1;33m)\u001b[0m\u001b[1;33m,\u001b[0m \u001b[1;32mTrue\u001b[0m\u001b[1;33m)\u001b[0m\u001b[1;33m)\u001b[0m\u001b[1;33m)\u001b[0m\u001b[1;33m\u001b[0m\u001b[1;33m\u001b[0m\u001b[0m\n\u001b[0m\u001b[0;32m   5604\u001b[0m         \u001b[1;32mreturn\u001b[0m \u001b[0mretval\u001b[0m\u001b[1;33m\u001b[0m\u001b[1;33m\u001b[0m\u001b[0m\n\u001b[0;32m   5605\u001b[0m     \u001b[1;32mexcept\u001b[0m \u001b[0mException\u001b[0m \u001b[1;32mas\u001b[0m \u001b[0me\u001b[0m\u001b[1;33m:\u001b[0m\u001b[1;33m\u001b[0m\u001b[1;33m\u001b[0m\u001b[0m\n",
      "\u001b[1;32mC:\\Program Files\\ArcGIS\\Pro\\Resources\\ArcPy\\arcpy\\geoprocessing\\_base.py\u001b[0m in \u001b[0;36m<lambda>\u001b[1;34m(*args)\u001b[0m\n\u001b[0;32m    518\u001b[0m         \u001b[0mval\u001b[0m \u001b[1;33m=\u001b[0m \u001b[0mgetattr\u001b[0m\u001b[1;33m(\u001b[0m\u001b[0mself\u001b[0m\u001b[1;33m.\u001b[0m\u001b[0m_gp\u001b[0m\u001b[1;33m,\u001b[0m \u001b[0mattr\u001b[0m\u001b[1;33m)\u001b[0m\u001b[1;33m\u001b[0m\u001b[1;33m\u001b[0m\u001b[0m\n\u001b[0;32m    519\u001b[0m         \u001b[1;32mif\u001b[0m \u001b[0mcallable\u001b[0m\u001b[1;33m(\u001b[0m\u001b[0mval\u001b[0m\u001b[1;33m)\u001b[0m\u001b[1;33m:\u001b[0m\u001b[1;33m\u001b[0m\u001b[1;33m\u001b[0m\u001b[0m\n\u001b[1;32m--> 520\u001b[1;33m             \u001b[1;32mreturn\u001b[0m \u001b[1;32mlambda\u001b[0m \u001b[1;33m*\u001b[0m\u001b[0margs\u001b[0m\u001b[1;33m:\u001b[0m \u001b[0mval\u001b[0m\u001b[1;33m(\u001b[0m\u001b[1;33m*\u001b[0m\u001b[0mgp_fixargs\u001b[0m\u001b[1;33m(\u001b[0m\u001b[0margs\u001b[0m\u001b[1;33m,\u001b[0m \u001b[1;32mTrue\u001b[0m\u001b[1;33m)\u001b[0m\u001b[1;33m)\u001b[0m\u001b[1;33m\u001b[0m\u001b[1;33m\u001b[0m\u001b[0m\n\u001b[0m\u001b[0;32m    521\u001b[0m         \u001b[1;32melse\u001b[0m\u001b[1;33m:\u001b[0m\u001b[1;33m\u001b[0m\u001b[1;33m\u001b[0m\u001b[0m\n\u001b[0;32m    522\u001b[0m             \u001b[1;32mreturn\u001b[0m \u001b[0mconvertArcObjectToPythonObject\u001b[0m\u001b[1;33m(\u001b[0m\u001b[0mval\u001b[0m\u001b[1;33m)\u001b[0m\u001b[1;33m\u001b[0m\u001b[1;33m\u001b[0m\u001b[0m\n",
      "\u001b[1;31mExecuteError\u001b[0m: ERROR 999999: Something unexpected caused the tool to fail. Contact Esri Technical Support (http://esriurl.com/support) to Report a Bug, and refer to the error help for potential solutions or workarounds.\nGeneral function failure [Line_Layer_Temp_CopyFeatures]\nGeneral function failure [Line_Layer_Temp_CopyFeatures]\nFailed to execute (CalculateField).\n"
     ]
    }
   ],
   "source": [
    "CalTrans(input_lines21, input_lines22, input_table21, input_table22, output_lines_enriched)\n",
    "#NOTE Last run took 15hrs to process 47,000 records"
   ]
  }
 ],
 "metadata": {
  "kernelspec": {
   "display_name": "arcgispro-py3-30",
   "language": "python",
   "name": "python3"
  },
  "language_info": {
   "codemirror_mode": {
    "name": "ipython",
    "version": 3
   },
   "file_extension": ".py",
   "mimetype": "text/x-python",
   "name": "python",
   "nbconvert_exporter": "python",
   "pygments_lexer": "ipython3",
   "version": "3.9.18"
  },
  "vscode": {
   "interpreter": {
    "hash": "4e1abec938aa564085d88d5729e577a09a090f84c8252c84527a9a845926d2eb"
   }
  }
 },
 "nbformat": 4,
 "nbformat_minor": 4
}

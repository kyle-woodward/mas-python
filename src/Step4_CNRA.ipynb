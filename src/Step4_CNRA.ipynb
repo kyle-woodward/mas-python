{
 "cells": [
  {
   "cell_type": "code",
   "execution_count": 1,
   "metadata": {},
   "outputs": [
    {
     "name": "stdout",
     "output_type": "stream",
     "text": [
      "Available for schema lock: ..\\CNRA_TRMTTRACKER_20240117.gdb\\Treatment_Point\n",
      "Available for schema lock: ..\\CNRA_TRMTTRACKER_20240117.gdb\\Activities\n",
      "Available for schema lock: ..\\CNRA_TRMTTRACKER_20240117.gdb\\Project_Poly\n",
      "Dataset does not exist: c:\\Users\\sageg\\source\\repos\\mas-python\\PC414 CWI Million Acres.gdb\\d_Enriched\\CNRA_enriched_pt_20240124\n"
     ]
    }
   ],
   "source": [
    "\"\"\"\n",
    "# Description: \n",
    "#               \n",
    "#               \n",
    "#              \n",
    "# Author: Spatial Informatics Group LLC\n",
    "# Version: 1.0.0\n",
    "# Date Created: Jan 24, 2024\n",
    "\"\"\"\n",
    "import os\n",
    "import datetime\n",
    "import arcpy\n",
    "from scripts.utils import init_gdb, check_schema_lock\n",
    "from scripts._6o_CNRA_Points_20230821 import CNRA_pts_Model\n",
    "\n",
    "original_gdb, workspace, scratch_workspace = init_gdb()\n",
    "date_id = datetime.datetime.now().strftime(\"%Y-%m-%d\").replace(\"-\", \"\")  # like 20221216\n",
    "# arcpy.env.overwriteOutput = True\n",
    "\n",
    "# INPUTS\n",
    "# will need to be downloaded from ArcGIS.com CNRA TRMT_DATA \n",
    "# change path to the most updated inputs\n",
    "cnra_gdb = os.path.join(\"..\", \"CNRA_TRMTTRACKER_20240117.gdb\")\n",
    "input_pt_fc = os.path.join(cnra_gdb, \"Treatment_Point\")\n",
    "Activity_Table = os.path.join(cnra_gdb, \"Activities\")\n",
    "Project_Poly= os.path.join(cnra_gdb, \"Project_Poly\")\n",
    "WFR_TF_Template = os.path.join(workspace, \"b_Reference\", \"WFR_TF_Template\")\n",
    "\n",
    "# OUTPUTS\n",
    "# output_mpt_enriched = os.path.join(workspace, \"d_Enriched\", f\"CNRA_enriched_mpt_{date_id}\")\n",
    "output_pt_enriched = os.path.join(workspace, \"d_Enriched\", f\"CNRA_enriched_pt_{date_id}\")\n",
    "\n",
    "# data = arcpy.GetParameterAsText(0)\n",
    "\n",
    "check_schema_lock(input_pt_fc)\n",
    "check_schema_lock(Activity_Table)\n",
    "check_schema_lock(Project_Poly)\n",
    "# check_schema_lock(output_mpt_enriched)\n",
    "check_schema_lock(output_pt_enriched)"
   ]
  },
  {
   "cell_type": "code",
   "execution_count": 2,
   "metadata": {},
   "outputs": [
    {
     "ename": "NameError",
     "evalue": "name 'CNRA_plns_Model' is not defined",
     "output_type": "error",
     "traceback": [
      "\u001b[1;31m---------------------------------------------------------------------------\u001b[0m",
      "\u001b[1;31mNameError\u001b[0m                                 Traceback (most recent call last)",
      "\u001b[1;32m~\\AppData\\Local\\Temp\\ipykernel_15980\\2556601959.py\u001b[0m in \u001b[0;36m<cell line: 1>\u001b[1;34m()\u001b[0m\n\u001b[1;32m----> 1\u001b[1;33m \u001b[0mCNRA_plns_Model\u001b[0m\u001b[1;33m(\u001b[0m\u001b[1;33m)\u001b[0m\u001b[1;33m\u001b[0m\u001b[1;33m\u001b[0m\u001b[0m\n\u001b[0m",
      "\u001b[1;31mNameError\u001b[0m: name 'CNRA_plns_Model' is not defined"
     ]
    }
   ],
   "source": [
    "CNRA_plns_Model()"
   ]
  },
  {
   "cell_type": "code",
   "execution_count": null,
   "metadata": {},
   "outputs": [],
   "source": [
    "CNRA_pts_Model(input_pt_fc, Activity_Table, Project_Poly, WFR_TF_Template, output_pt_enriched)\n",
    "# multi_pt_to_pt = arcpy.management.FeatureToPoint(output_mpt_enriched, output_pt_enriched, \"INSIDE\")"
   ]
  }
 ],
 "metadata": {
  "kernelspec": {
   "display_name": "arcgispro-py3",
   "language": "python",
   "name": "python3"
  },
  "language_info": {
   "codemirror_mode": {
    "name": "ipython",
    "version": 3
   },
   "file_extension": ".py",
   "mimetype": "text/x-python",
   "name": "python",
   "nbconvert_exporter": "python",
   "pygments_lexer": "ipython3",
   "version": "3.9.18"
  },
  "orig_nbformat": 4
 },
 "nbformat": 4,
 "nbformat_minor": 2
}

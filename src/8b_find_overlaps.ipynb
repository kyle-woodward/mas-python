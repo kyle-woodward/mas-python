{
 "cells": [
  {
   "cell_type": "code",
   "execution_count": null,
   "metadata": {},
   "outputs": [],
   "source": [
    "from scripts.utils import init_gdb, check_schema_lock\n",
    "import os\n",
    "import datetime\n",
    "import arcpy\n",
    "# from scripts._6a_usfs_common_attributes import Model_USFS\n",
    "original_gdb, workspace, scratch_workspace = init_gdb()\n",
    "\n",
    "date_id = datetime.datetime.now().strftime(\"%Y-%m-%d\").replace('-','') # like 20221216\n",
    "\n",
    "# INPUTS\n",
    "input_fc = os.path.join(workspace,'e_Appended','Treat_n_harvests_polygons_20230822')\n",
    "\n",
    "# OUTPUTS\n",
    "output_fc = os.path.join(workspace,'h_Duplicates',f'treat_n_harvests_polygons_20230822_duplicates_marked_{date_id}')\n",
    "\n",
    "data = arcpy.GetParameterAsText(0)\n",
    "\n",
    "# START and END YEARS\n",
    "startyear = 2020\n",
    "endyear = 2023\n",
    "\n",
    "check_schema_lock(input_fc)\n",
    "check_schema_lock(output_fc)\n"
   ]
  },
  {
   "cell_type": "code",
   "execution_count": null,
   "metadata": {},
   "outputs": [],
   "source": [
    "# def Model_USFS(output_enriched, output_standardized, input_fc):\n",
    "start = time.time()\n",
    "print(f'Start Time {time.ctime()}')\n",
    "arcpy.env.overwriteOutput = True\n",
    "    \n",
    "# START and END YEARS\n",
    "Years = [2020, 2021, 2022, 2023]\n",
    "\n",
    "# define intermediary objects in scratch\n",
    "overlap_intermediate_scratch = os.path.join(scratch_workspace,'overlap_intermediate_scratch')\n",
    "\n",
    "for value in Years\n",
    "    select_year = arcpy.management.SelectLayerByAttribute(\n",
    "        in_layer_or_view=input_fc, \n",
    "        selection_type=\"NEW_SELECTION\", \n",
    "        where_clause=\"Year = \" value, \n",
    "        invert_where_clause=\"\"\n",
    "        )"
   ]
  }
 ],
 "metadata": {
  "language_info": {
   "name": "python"
  },
  "orig_nbformat": 4
 },
 "nbformat": 4,
 "nbformat_minor": 2
}

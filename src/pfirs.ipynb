{
 "cells": [
  {
   "cell_type": "code",
   "execution_count": 24,
   "metadata": {},
   "outputs": [
    {
     "ename": "ImportError",
     "evalue": "cannot import name 'og_file_input' from 'scripts.utils' (c:\\Users\\kayla\\Documents\\SIG-GIS\\mas-python\\src\\scripts\\utils.py)",
     "output_type": "error",
     "traceback": [
      "\u001b[1;31m---------------------------------------------------------------------------\u001b[0m",
      "\u001b[1;31mImportError\u001b[0m                               Traceback (most recent call last)",
      "\u001b[1;32m<ipython-input-24-cc0de5c0ea72>\u001b[0m in \u001b[0;36m<module>\u001b[1;34m\u001b[0m\n\u001b[0;32m      1\u001b[0m \u001b[1;32mfrom\u001b[0m \u001b[0mscripts\u001b[0m\u001b[1;33m.\u001b[0m\u001b[0m_6q_pfirs\u001b[0m \u001b[1;32mimport\u001b[0m \u001b[0mModel72\u001b[0m\u001b[1;33m\u001b[0m\u001b[1;33m\u001b[0m\u001b[0m\n\u001b[0;32m      2\u001b[0m \u001b[1;32mfrom\u001b[0m \u001b[0msys\u001b[0m \u001b[1;32mimport\u001b[0m \u001b[0margv\u001b[0m\u001b[1;33m\u001b[0m\u001b[1;33m\u001b[0m\u001b[0m\n\u001b[1;32m----> 3\u001b[1;33m \u001b[1;32mfrom\u001b[0m \u001b[0mscripts\u001b[0m\u001b[1;33m.\u001b[0m\u001b[0mutils\u001b[0m \u001b[1;32mimport\u001b[0m \u001b[0minit_gdb\u001b[0m\u001b[1;33m,\u001b[0m \u001b[0mcheck_exists\u001b[0m\u001b[1;33m,\u001b[0m \u001b[0mog_file_input\u001b[0m\u001b[1;33m\u001b[0m\u001b[1;33m\u001b[0m\u001b[0m\n\u001b[0m\u001b[0;32m      4\u001b[0m \u001b[1;32mimport\u001b[0m \u001b[0mos\u001b[0m\u001b[1;33m\u001b[0m\u001b[1;33m\u001b[0m\u001b[0m\n\u001b[0;32m      5\u001b[0m \u001b[1;32mimport\u001b[0m \u001b[0mdatetime\u001b[0m\u001b[1;33m\u001b[0m\u001b[1;33m\u001b[0m\u001b[0m\n",
      "\u001b[1;31mImportError\u001b[0m: cannot import name 'og_file_input' from 'scripts.utils' (c:\\Users\\kayla\\Documents\\SIG-GIS\\mas-python\\src\\scripts\\utils.py)"
     ]
    }
   ],
   "source": [
    "from scripts._6q_pfirs import Model72\n",
    "from sys import argv\n",
    "from scripts.utils import init_gdb, check_exists, og_file_input\n",
    "import os\n",
    "import datetime\n",
    "original_gdb, workspace, scratch_workspace = init_gdb()\n",
    "\n",
    "date_id = datetime.datetime.utcnow().strftime(\"%Y-%m-%d\").replace('-','') # like 20221216\n",
    "\n",
    "pfirs = og_file_input(prefix = 'PFIRS', filetype = 'Point')\n",
    "\n",
    "# INPUTS\n",
    "# update input dataset as necessary\n",
    "input_fc = os.path.join(workspace, \"a_Originals\", pfirs)\n",
    "\n",
    "# OUTPUTS\n",
    "# timestamped outputs\n",
    "output_standardized = os.path.join(workspace, \"c_Standardized\", f'PFIRS_standardized_{date_id}')\n",
    "output_enriched = os.path.join(workspace, \"d_Enriched\",f'PFIRS_enriched_{date_id}') \n",
    "\n",
    "# REFERENCE (must exist already)\n",
    "# Appended polygon dataset must already exist, check it is correct version (most up to date)\n",
    "treat_poly = os.path.join(workspace, \"e_Appended\",\"Treat_n_harvests_polygons_20221115\")\n",
    "\n",
    "# Check that all your input datasets exist before you start, \n",
    "# if nothing is printed out you're good to go\n",
    "check_exists(\n",
    "    fc_list = [input_fc, treat_poly],\n",
    "    workspace=workspace\n",
    "    )"
   ]
  },
  {
   "cell_type": "code",
   "execution_count": 22,
   "metadata": {},
   "outputs": [],
   "source": [
    "def og_file_input(prefix:str, filetype:str):\n",
    "    \"\"\"\n",
    "    Finds input file in the \"a_Originals\" folder in the workspace\n",
    "    \n",
    "    args:\n",
    "\n",
    "    prefix: prefix of desired file\n",
    "\n",
    "    filetype: type of feature class desired (Point, Line, Polyline, Polygon, etc.)\n",
    "    \n",
    "    \"\"\"\n",
    "    arcpy.env.workspace = os.path.join(workspace, \"a_Originals\")\n",
    "    for filename in arcpy.ListFeatureClasses(feature_type = filetype):\n",
    "        if filename.startswith(prefix):\n",
    "            return filename"
   ]
  },
  {
   "cell_type": "code",
   "execution_count": 23,
   "metadata": {},
   "outputs": [
    {
     "name": "stdout",
     "output_type": "stream",
     "text": [
      "PFIRS_2018_2022\n"
     ]
    }
   ],
   "source": [
    "pfirs = og_file_input(prefix = 'PFIRS', filetype = 'Point')\n",
    "print(pfirs)"
   ]
  },
  {
   "cell_type": "code",
   "execution_count": null,
   "metadata": {},
   "outputs": [],
   "source": []
  },
  {
   "cell_type": "code",
   "execution_count": null,
   "metadata": {},
   "outputs": [],
   "source": [
    "Model72(input_fc, output_standardized, output_enriched, treat_poly)"
   ]
  }
 ],
 "metadata": {
  "kernelspec": {
   "display_name": "arcgispro-py3",
   "language": "python",
   "name": "python3"
  },
  "language_info": {
   "codemirror_mode": {
    "name": "ipython",
    "version": 3
   },
   "file_extension": ".py",
   "mimetype": "text/x-python",
   "name": "python",
   "nbconvert_exporter": "python",
   "pygments_lexer": "ipython3",
   "version": "3.9.11"
  },
  "orig_nbformat": 4,
  "vscode": {
   "interpreter": {
    "hash": "dfb7d5aaaca8a37c535d5c4c194ece0961ab7c6e47ef736ca548aab41e0510e3"
   }
  }
 },
 "nbformat": 4,
 "nbformat_minor": 2
}

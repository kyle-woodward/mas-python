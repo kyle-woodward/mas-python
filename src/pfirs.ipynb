{
 "cells": [
  {
   "cell_type": "code",
   "execution_count": 1,
   "metadata": {},
   "outputs": [],
   "source": [
    "from scripts._6q_pfirs import Model72\n",
    "from sys import argv\n",
    "from scripts.utils import init_gdb, check_exists\n",
    "import os\n",
    "import datetime\n",
    "original_gdb, workspace, scratch_workspace = init_gdb()\n",
    "\n",
    "date_id = datetime.datetime.utcnow().strftime(\"%Y-%m-%d\").replace('-','') # like 20221216\n",
    "\n",
    "# INPUTS\n",
    "# update input dataset as necessary\n",
    "input_fc = os.path.join(workspace, \"a_Originals\", \"PFIRS_2018_2022\")\n",
    "\n",
    "# OUTPUTS\n",
    "# timestamped outputs\n",
    "output_standardized = os.path.join(workspace, \"c_Standardized\", f'PFIRS_standardized_{date_id}')\n",
    "output_enriched = os.path.join(workspace, \"d_Enriched\",f'PFIRS_enriched_{date_id}') \n",
    "\n",
    "# REFERENCE (must exist already)\n",
    "# Appended polygon dataset must already exist, check it is correct version (most up to date)\n",
    "treat_poly = os.path.join(workspace, \"e_Appended\",\"Treat_n_harvests_polygons_20221115\")\n",
    "\n",
    "# Check that all your input datasets exist before you start, \n",
    "# if nothing is printed out you're good to go\n",
    "check_exists(\n",
    "    fc_list = [input_fc, treat_poly],\n",
    "    workspace=workspace\n",
    "    )"
   ]
  },
  {
   "cell_type": "code",
   "execution_count": 2,
   "metadata": {},
   "outputs": [
    {
     "name": "stdout",
     "output_type": "stream",
     "text": [
      "Start Time Tue Jan 24 16:03:23 2023\n",
      "Performing Standardization\n",
      "Saving Output Standardized: c:\\mas-python\\PC414 CWI Million Acres Testing.gdb\\c_Standardized\\PFIRS_standardized_20230124\n",
      "Performing Enrichments\n",
      "Saving Output Enriched: c:\\mas-python\\PC414 CWI Million Acres Testing.gdb\\d_Enriched\\PFIRS_enriched_20230124\n",
      "Deleting Scratch Files\n",
      "Time Elapsed: 20.862999526659646 minutes\n"
     ]
    }
   ],
   "source": [
    "Model72(input_fc, output_standardized, output_enriched, treat_poly)"
   ]
  }
 ],
 "metadata": {
  "kernelspec": {
   "display_name": "arcgispro-py3-30",
   "language": "python",
   "name": "python3"
  },
  "language_info": {
   "codemirror_mode": {
    "name": "ipython",
    "version": 3
   },
   "file_extension": ".py",
   "mimetype": "text/x-python",
   "name": "python",
   "nbconvert_exporter": "python",
   "pygments_lexer": "ipython3",
   "version": "3.9.11"
  },
  "orig_nbformat": 4,
  "vscode": {
   "interpreter": {
    "hash": "4e1abec938aa564085d88d5729e577a09a090f84c8252c84527a9a845926d2eb"
   }
  }
 },
 "nbformat": 4,
 "nbformat_minor": 2
}

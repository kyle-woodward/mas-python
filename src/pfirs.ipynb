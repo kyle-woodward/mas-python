{
 "cells": [
  {
   "cell_type": "code",
   "execution_count": 4,
   "metadata": {},
   "outputs": [],
   "source": [
    "from scripts._6q_pfirs import Model72\n",
    "from sys import argv\n",
    "from scripts.utils import init_gdb, check_exists, og_file_input\n",
    "import os\n",
    "import datetime\n",
    "original_gdb, workspace, scratch_workspace = init_gdb()\n",
    "\n",
    "date_id = datetime.datetime.now().strftime(\"%Y-%m-%d\").replace('-','') # like 20221216\n",
    "\n",
    "# INPUTS\n",
    "# update input dataset as necessary\n",
    "pfirs = og_file_input(prefix = 'PFIRS_', filetype = 'Point', gdb = os.path.join(workspace, \"a_Originals\"))\n",
    "input_fc = os.path.join(workspace, \"a_Originals\", pfirs)\n",
    "\n",
    "# OUTPUTS\n",
    "# timestamped outputs\n",
    "output_standardized = os.path.join(workspace, \"c_Standardized\", f'PFIRS_standardized_{date_id}')\n",
    "output_enriched = os.path.join(workspace, \"d_Enriched\",f'PFIRS_enriched_{date_id}') \n",
    "\n",
    "# REFERENCE (must exist already)\n",
    "# Appended polygon dataset must already exist, check it is correct version (most up to date)\n",
    "treat_poly = os.path.join(workspace, \"e_Appended\",\"Treat_n_harvests_polygons_20221115\")"
   ]
  },
  {
   "cell_type": "code",
   "execution_count": null,
   "metadata": {},
   "outputs": [],
   "source": [
    "Model72(input_fc, output_standardized, output_enriched, treat_poly)"
   ]
  }
 ],
 "metadata": {
  "kernelspec": {
   "display_name": "Python 3",
   "language": "python",
   "name": "python3"
  },
  "language_info": {
   "codemirror_mode": {
    "name": "ipython",
    "version": 3
   },
   "file_extension": ".py",
   "mimetype": "text/x-python",
   "name": "python",
   "nbconvert_exporter": "python",
   "pygments_lexer": "ipython3",
   "version": "3.9.11"
  },
  "vscode": {
   "interpreter": {
    "hash": "ce21b655b4d6c9e397d5ad93d5666c623f49909f6d0cc2f72076dafcf1b3ecfb"
   }
  }
 },
 "nbformat": 4,
 "nbformat_minor": 4
}

{
 "cells": [
  {
   "cell_type": "code",
   "execution_count": 1,
   "metadata": {},
   "outputs": [],
   "source": [
    "from scripts._6q_pfirs import Model72\n",
    "from sys import argv\n",
    "from scripts.utils import init_gdb, check_exists, og_file_input\n",
    "import os\n",
    "import datetime\n",
    "original_gdb, workspace, scratch_workspace = init_gdb()\n",
    "\n",
    "date_id = datetime.datetime.utcnow().strftime(\"%Y-%m-%d\").replace('-','') # like 20221216\n",
    "\n",
    "# INPUTS\n",
    "# update input dataset as necessary\n",
    "pfirs = og_file_input(prefix = 'PFIRS', filetype = 'Point', gdb = os.path.join(workspace, \"a_Originals\"))\n",
    "input_fc = os.path.join(workspace, \"a_Originals\", pfirs)\n",
    "\n",
    "# OUTPUTS\n",
    "# timestamped outputs\n",
    "output_standardized = os.path.join(workspace, \"c_Standardized\", f'PFIRS_standardized_{date_id}')\n",
    "output_enriched = os.path.join(workspace, \"d_Enriched\",f'PFIRS_enriched_{date_id}') \n",
    "\n",
    "# REFERENCE (must exist already)\n",
    "# Appended polygon dataset must already exist, check it is correct version (most up to date)\n",
    "treat_poly = os.path.join(workspace, \"e_Appended\",\"Treat_n_harvests_polygons_20221115\")\n",
    "\n",
    "# Check that all your input datasets exist before you start, \n",
    "# if nothing is printed out you're good to go\n",
    "check_exists(\n",
    "    fc_list = [input_fc, treat_poly],\n",
    "    workspace=workspace\n",
    "    )"
   ]
  },
  {
   "cell_type": "code",
   "execution_count": null,
   "metadata": {},
   "outputs": [],
   "source": [
    "Model72(input_fc, output_standardized, output_enriched, treat_poly)"
   ]
  }
 ],
 "metadata": {
  "kernelspec": {
   "display_name": "Python 3.9 (XPython)",
   "language": "python",
   "name": "xpython"
  },
  "language_info": {
   "codemirror_mode": {
    "name": "ipython",
    "version": 3
   },
   "file_extension": ".py",
   "mimetype": "text/x-python",
   "name": "python",
   "nbconvert_exporter": "python",
   "pygments_lexer": "ipython3",
   "version": "3.9.11 [MSC v.1931 64 bit (AMD64)]"
  },
  "vscode": {
   "interpreter": {
    "hash": "dfb7d5aaaca8a37c535d5c4c194ece0961ab7c6e47ef736ca548aab41e0510e3"
   }
  }
 },
 "nbformat": 4,
 "nbformat_minor": 4
}

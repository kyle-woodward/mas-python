{
 "cells": [
  {
   "cell_type": "code",
   "execution_count": null,
   "metadata": {},
   "outputs": [],
   "source": [
    "\"\"\"\n",
    "# Description: \n",
    "#               \n",
    "#               \n",
    "#              \n",
    "# Author: Spatial Informatics Group LLC\n",
    "# Version: 1.0.0\n",
    "# Date Created: Jan 24, 2024\n",
    "\"\"\"\n",
    "import arcpy\n",
    "from scripts._9_Transform_20230307 import Transform2\n",
    "from scripts.utils import init_gdb\n",
    "import os\n",
    "workspace, scratch_workspace = init_gdb()\n",
    "\n",
    "# Inputs\n",
    "CNRA_Activities = os.path.join(workspace, 'Activity_Table')\n",
    "CNRA_Projects = os.path.join(workspace, 'Project_Poly')\n",
    "CNRA_Projects_2_ = os.path.join(workspace, 'Project_Poly')\n",
    "CNRA_Projects_3_ = os.path.join(workspace, 'Project_Poly')\n",
    "CNRA_Treatments = os.path.join(workspace, 'Treatment_Poly')\n",
    "CNRA_Treatments_2_= os.path.join(workspace, 'Treatment_Point')\n",
    "CNRA_Treatments_3_ = os.path.join(workspace, 'Treatment_Line')\n",
    "\n",
    "# Outputs\n",
    "Treat_n_harvests_polygons = os.path.join(workspace, 'e_Appended', 'Treat_n_harvests_polygons_20221115')\n",
    "Treat_n_harvests_points = os.path.join(workspace, 'e_Appended', 'Treat_n_harvests_points_20221115')\n",
    "Treat_n_harvests_lines = os.path.join(workspace, 'e_Appended', 'Treat_n_harvests_lines_20230201')\n",
    "Treatments_Activities_poly = os.path.join(workspace, 'f_Transformed', 'Treatments_Activities_poly')\n",
    "Treatments_Activities_pts = os.path.join(workspace, 'f_Transformed', 'Treatments_Activities_pts')\n",
    "Treatments_Activities_lns = os.path.join(workspace, 'f_Transformed', 'Treatments_Activities_lns')"
   ]
  },
  {
   "cell_type": "code",
   "execution_count": null,
   "metadata": {},
   "outputs": [],
   "source": [
    "Transform2(Treat_n_harvests_polygons,  \n",
    "               Treat_n_harvests_points, \n",
    "               Treat_n_harvests_lines, \n",
    "               Treatments_Activities_poly,\n",
    "               Treatments_Activities_pts, \n",
    "               Treatments_Activities_lns, \n",
    "               CNRA_Activities, \n",
    "               CNRA_Projects_2_, \n",
    "               CNRA_Projects_3_, \n",
    "               CNRA_Treatments_2_, \n",
    "               CNRA_Projects, \n",
    "               CNRA_Treatments, \n",
    "               CNRA_Treatments_3_)"
   ]
  }
 ],
 "metadata": {
  "language_info": {
   "name": "python"
  },
  "orig_nbformat": 4
 },
 "nbformat": 4,
 "nbformat_minor": 2
}

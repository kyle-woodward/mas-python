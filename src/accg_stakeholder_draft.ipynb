{
 "cells": [
  {
   "cell_type": "code",
   "execution_count": null,
   "metadata": {},
   "outputs": [],
   "source": [
    "from scripts._6p_accg_stakeholder_draft import pACCGStakeholderDraft\n",
    "from sys import argv\n",
    "from scripts.utils import init_gdb, check_exists\n",
    "import os\n",
    "import datetime\n",
    "original_gdb, workspace, scratch_workspace = init_gdb()\n",
    "\n",
    "# INPUTS\n",
    "accg_fc = os.path.join(workspace, \"accg_stkhldr_prjt_2021\") \n",
    "\n",
    "# OUTPUTS\n",
    "date_id = datetime.datetime.utcnow().strftime(\"%Y-%m-%d\").replace('-','') # like 20221216\n",
    "output_standardized = os.path.join(workspace, 'c_Standardized', f\"ACCG_Stakeholder_standardized_{date_id}\")\n",
    "\n",
    "# Check that all your input datasets exist before you start, \n",
    "# if nothing is printed out you're good to go\n",
    "check_exists(\n",
    "    fc_list = [accg_fc],\n",
    "    workspace=workspace\n",
    "    )"
   ]
  },
  {
   "cell_type": "code",
   "execution_count": null,
   "metadata": {},
   "outputs": [],
   "source": [
    "pACCGStakeholderDraft(input_fc = accg_fc,output_standardized=output_standardized)"
   ]
  }
 ],
 "metadata": {
  "kernelspec": {
   "display_name": "Python 3.9 (XPython)",
   "language": "python",
   "name": "xpython"
  },
  "language_info": {
   "name": "python",
   "version": "3.9.11 [MSC v.1931 64 bit (AMD64)]"
  },
  "orig_nbformat": 4,
  "vscode": {
   "interpreter": {
    "hash": "4e1abec938aa564085d88d5729e577a09a090f84c8252c84527a9a845926d2eb"
   }
  }
 },
 "nbformat": 4,
 "nbformat_minor": 2
}

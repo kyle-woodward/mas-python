{
 "cells": [
  {
   "cell_type": "code",
   "execution_count": null,
   "metadata": {},
   "outputs": [],
   "source": [
    "from scripts._6p_accg_stakeholder_draft import pACCGStakeholderDraft\n",
    "from sys import argv\n",
    "from scripts.utils import init_gdb, og_file_input, check_schema_lock\n",
    "import os\n",
    "import datetime\n",
    "original_gdb, workspace, scratch_workspace = init_gdb()\n",
    "\n",
    "# INPUTS\n",
    "accg = og_file_input(prefix = 'accg_stkhldr_prjt', filetype = 'Polygon', gdb = os.path.join(workspace))\n",
    "accg_fc = os.path.join(workspace, accg) \n",
    "\n",
    "# OUTPUTS\n",
    "date_id = datetime.datetime.now().strftime(\"%Y-%m-%d\").replace('-','') # like 20221216\n",
    "output_standardized = os.path.join(workspace, 'c_Standardized', f\"ACCG_Stakeholder_standardized_{date_id}\")\n",
    "\n",
    "check_schema_lock(accg_fc)\n",
    "check_schema_lock(output_standardized)"
   ]
  },
  {
   "cell_type": "code",
   "execution_count": null,
   "metadata": {},
   "outputs": [],
   "source": [
    "pACCGStakeholderDraft(input_fc = accg_fc,output_standardized=output_standardized)"
   ]
  }
 ],
 "metadata": {
  "kernelspec": {
   "display_name": "Python 3",
   "language": "python",
   "name": "python3"
  },
  "language_info": {
   "codemirror_mode": {
    "name": "ipython",
    "version": 3
   },
   "file_extension": ".py",
   "mimetype": "text/x-python",
   "name": "python",
   "nbconvert_exporter": "python",
   "pygments_lexer": "ipython3",
   "version": "3.9.11"
  },
  "vscode": {
   "interpreter": {
    "hash": "ce21b655b4d6c9e397d5ad93d5666c623f49909f6d0cc2f72076dafcf1b3ecfb"
   }
  }
 },
 "nbformat": 4,
 "nbformat_minor": 4
}

{
 "cells": [
  {
   "cell_type": "code",
   "execution_count": 1,
   "metadata": {},
   "outputs": [
    {
     "name": "stdout",
     "output_type": "stream",
     "text": [
      "Available for schema lock: c:\\Users\\sageg\\source\\repos\\mas-python\\Interagency Tracking System.gdb\\b_Originals\\PFIRS_2018_2022\n",
      "Dataset does not exist: c:\\Users\\sageg\\source\\repos\\mas-python\\Interagency Tracking System.gdb\\c_Enriched\\PFIRS_enriched_20240215\n"
     ]
    }
   ],
   "source": [
    "\"\"\"\n",
    "# Description: Converts the California Department of Environmental Quality's \n",
    "#              Prescribed Fire Information Reporting System (PFIRS) dataset \n",
    "#              into the Task Force standardized schema.  Dataset\n",
    "#              is enriched with vegetation, ownership, county, WUI, \n",
    "#              Task Force Region, and year.               \n",
    "# Author: Spatial Informatics Group LLC\n",
    "# Version: 1.0.0\n",
    "# Date Created: Jan 24, 2024\n",
    "\"\"\"\n",
    "import os\n",
    "import datetime\n",
    "from scripts._3a_PFIRS import PFIRS\n",
    "from scripts.utils import init_gdb, check_schema_lock, og_file_input\n",
    "\n",
    "workspace, scratch_workspace = init_gdb()\n",
    "\n",
    "date_id = datetime.datetime.now().strftime(\"%Y-%m-%d\").replace('-','') # like 20221216\n",
    "\n",
    "# INPUTS\n",
    "# NOTE: Update input dataset as necessary\n",
    "# pfirs = og_file_input(prefix = 'PFIRS_', filetype = 'Point', gdb = os.path.join(workspace, \"b_Originals\"))\n",
    "pfirs = \"PFIRS_2018_2022\"\n",
    "input_fc = os.path.join(workspace, \"b_Originals\", pfirs)\n",
    "\n",
    "# OUTPUTS\n",
    "# timestamped outputs\n",
    "output_enriched = os.path.join(workspace, \"c_Enriched\",f'PFIRS_enriched_{date_id}') \n",
    "\n",
    "# REFERENCE (must exist already)\n",
    "# NOTE: Appended polygon dataset must already exist\n",
    "treat = og_file_input(prefix = 'Treat_n_harvests_polygons_', filetype = 'Polygon', gdb = os.path.join(workspace, \"d_Appended\"))\n",
    "treat_poly = os.path.join(workspace, \"d_Appended\", treat)\n",
    "\n",
    "check_schema_lock(input_fc)\n",
    "check_schema_lock(output_enriched)"
   ]
  },
  {
   "cell_type": "code",
   "execution_count": 2,
   "metadata": {},
   "outputs": [
    {
     "name": "stdout",
     "output_type": "stream",
     "text": [
      "Start Time 2024-02-15 11:36:44.121143\n",
      "Performing Standardization\n",
      "   step 1/13 remove some agencies\n",
      "   step 3/13 rename and add fields\n",
      "      assigning domains\n",
      "   step 3/13 import attributes\n",
      "Saving Output Standardized\n",
      "standardized has 3838 records\n",
      "          removing unnecessary fields\n",
      "standardized subset has 3439 records\n",
      "Performing Enrichments\n",
      "   Executing Point Enrichments...\n",
      "     Point Enrichment Start Time 2024-02-15 11:37:07.582385\n",
      "     Calculating WUI...\n",
      "       enrich step 1/16 select layer by WUI\n",
      "       enrich step 2/16 calculate WUI yes\n",
      "       enrich step 3/16 switch selection\n",
      "       enrich step 4/16 calculate WUI no\n",
      "       enrich step 5/16 clear selection\n",
      "     Calculating Ownership, Counties, and Regions...\n",
      "       enrich step 6/16 spatial join ownership\n",
      "       enrich step 7/16 spatial join regions\n",
      "       enrich step 8/16 spatial join veg\n",
      "       enrich step 9/16 calculate ownership\n",
      "       enrich step 10/16 calculate county\n",
      "       enrich step 11/16 calculate region\n",
      "       enrich step 12/16 calculate veg type\n",
      "       enrich step 13/16 Initiating Crosswalk\n",
      "      Calculating Crosswalking Activites...\n",
      "          cross step 1/8 add join\n",
      "          cross step 2/8 calculate activities\n",
      "          cross step 3/8 calculate residue fate field\n",
      "          cross step 4/8 select attribute by layer\n",
      "          cross step 5/8 calculating objective...\n",
      "          cross step 6/8 calculate category\n",
      "      Calculate Activity Category Step 1/1\n",
      "          cross step 7/8 standardize domains\n",
      "          cross step 8/8 counts towards MAS\n",
      "      Calculating 'Counts to MAS'\n",
      "        counts step 1/8: set to 'NO'\n",
      "        counts step 2/8: select by bounding years (2020-2023)\n",
      "        counts step 3/8: set to 'YES' if activity description is in the list\n",
      "        counts step 3/8: set to 'NO' if not 'Acres'\n",
      "        counts step 4/8: set to 'NO' if status is 'Canceled', 'Planned', 'Outyear', or 'Proposed'\n",
      "        counts step 5/8: set to 'NO' if Activity Category is 'Watershed Improvement'\n",
      "        counts step 6/8: set to 'NO' if Agency is 'Other' and Admin is 'CARB'\n",
      "        counts step 7/8: set to 'NO' if Org is 'USFS' and Status is 'Active'\n",
      "        counts step 8/8: set to 'NO' if Admin is in the list\n",
      "          removing unnecessary fields\n",
      "     Crosswalk Complete, Continuing Enrichment\n",
      "       enrich step 14/16 Calculating Years\n",
      "       enrich step 15/16 Calculating Latitude and Longitude\n",
      "       enrich step 16/16 removing unnecessary fields\n",
      "          removing unnecessary fields\n",
      "   Enrich Points Complete...\n",
      "     Enrichment Points script took: 0h, 11m, 37.0s to complete\n",
      "Saving Output Enriched\n",
      "senriched has 3439 records\n",
      "      assigning domains\n",
      "PFIRS script took: 0h, 12m, 23.0s to complete\n"
     ]
    }
   ],
   "source": [
    "PFIRS(\n",
    "    input_fc, \n",
    "    output_enriched, \n",
    "    treat_poly\n",
    "    )"
   ]
  }
 ],
 "metadata": {
  "kernelspec": {
   "display_name": "Python 3",
   "language": "python",
   "name": "python3"
  },
  "language_info": {
   "codemirror_mode": {
    "name": "ipython",
    "version": 3
   },
   "file_extension": ".py",
   "mimetype": "text/x-python",
   "name": "python",
   "nbconvert_exporter": "python",
   "pygments_lexer": "ipython3",
   "version": "3.9.18"
  },
  "vscode": {
   "interpreter": {
    "hash": "ce21b655b4d6c9e397d5ad93d5666c623f49909f6d0cc2f72076dafcf1b3ecfb"
   }
  }
 },
 "nbformat": 4,
 "nbformat_minor": 4
}

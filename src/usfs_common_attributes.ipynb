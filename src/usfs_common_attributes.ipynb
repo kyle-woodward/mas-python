{
 "cells": [
  {
   "cell_type": "code",
   "execution_count": 1,
   "metadata": {},
   "outputs": [
    {
     "name": "stdout",
     "output_type": "stream",
     "text": [
      "Available for schema lock: C:/Users/sageg/Documents/ArcGIS/Projects/PC414 CWI Million Acres/1-Spatial Data/EDW_Actv_CommonAttribute_PL_20230626.gdb/Actv_CommonAttribute_PL\n",
      "Available for schema lock: c:\\Users\\sageg\\source\\repos\\mas-python\\PC414 CWI Million Acres Testing.gdb\\c_Standardized\\usfs_edw_facts_common_attributes_standardized_20230717\n",
      "Dataset does not exist: c:\\Users\\sageg\\source\\repos\\mas-python\\PC414 CWI Million Acres Testing.gdb\\d_Enriched\\usfs_edw_facts_common_attributes_enriched_20230717\n"
     ]
    }
   ],
   "source": [
    "from scripts.utils import init_gdb, check_schema_lock\n",
    "import os\n",
    "import datetime\n",
    "import arcpy\n",
    "from scripts._6a_usfs_common_attributes import Model_USFS\n",
    "original_gdb, workspace, scratch_workspace = init_gdb()\n",
    "\n",
    "date_id = datetime.datetime.now().strftime(\"%Y-%m-%d\").replace('-','') # like 20221216\n",
    "\n",
    "# INPUTS\n",
    "# will need to be downloaded from here https://apps.fs.usda.gov/arcx/rest/services/EDW/EDW_ActivityFactsCommonAttributes_01/MapServer/0\n",
    "# change path to the most updated inputs\n",
    "# input_fc = os.path.join(workspace,'a_Originals','usfs_facts_edw_common_test')\n",
    "input_fc = 'C:/Users/sageg/Documents/ArcGIS/Projects/PC414 CWI Million Acres/1-Spatial Data/EDW_Actv_CommonAttribute_PL_20230626.gdb/Actv_CommonAttribute_PL'\n",
    "\n",
    "# OUTPUTS\n",
    "# output_standardized = os.path.join(workspace,'c_Standardized',f'usfs_edw_facts_common_attributes_standardized_{date_id}_test')\n",
    "# output_enriched = os.path.join(workspace,'d_Enriched',f'usfs_edw_facts_common_attributes_enriched_{date_id}_test')\n",
    "output_standardized = os.path.join(workspace,'c_Standardized',f'usfs_edw_facts_common_attributes_standardized_{date_id}')\n",
    "output_enriched = os.path.join(workspace,'d_Enriched',f'usfs_edw_facts_common_attributes_enriched_{date_id}')\n",
    "\n",
    "data = arcpy.GetParameterAsText(0)\n",
    "\n",
    "# START and END YEARS\n",
    "startyear = 2020\n",
    "endyear = 2025\n",
    "\n",
    "check_schema_lock(input_fc)\n",
    "check_schema_lock(output_standardized)\n",
    "check_schema_lock(output_enriched)"
   ]
  },
  {
   "cell_type": "code",
   "execution_count": 2,
   "metadata": {},
   "outputs": [
    {
     "name": "stdout",
     "output_type": "stream",
     "text": [
      "Start Time Mon Jul 17 14:39:29 2023\n",
      "Performing Standardization...\n",
      "   step 1/8 Selecting Features...\n",
      "   step 2/8 Repairing Geometry...\n",
      "   step 3/8 Adding Fields...\n",
      "   step 4/8 Transfering Attributes...\n",
      "   step 5/8 Calculating End Date...\n",
      "   step 6/8 Calculating Status...\n",
      "   step 7/8 Activity Quantity...\n",
      "   step 8/8 Enter Field Values...\n",
      "Saving Standardized Output: c:\\Users\\sageg\\source\\repos\\mas-python\\PC414 CWI Million Acres Testing.gdb\\c_Standardized\\usfs_edw_facts_common_attributes_standardized_20230717\n",
      "Executing Polygon Enrichments...\n",
      "   Calculating Broad Vegetation Type...\n",
      "     step 1/33 summarize veg within polygons\n",
      "     step 2/33 summarize attributes\n",
      "     step 3/33 add join\n",
      "     step 4/33 convert table to table\n",
      "     step 5/33 delete identical\n",
      "c:\\Users\\sageg\\source\\repos\\mas-python\\scratch.gdb\\WHR13NAME_Summary_temp has 23206 records\n",
      "     step 6/33 add join\n",
      "     step 7/33 select layer by attribute\n",
      "     step 8/33 calculate user defined veg field yes\n",
      "     step 9/33 select layer by attribute\n",
      "     step 10/33 calculate veg domain code\n",
      "     step 11/33 calculate user defined veg field no\n",
      "     step 12/33 remove join\n",
      "Veg_Summarized_Polygons_Laye has 23208 records\n",
      "   Calculating WUI...\n",
      "     step 13/33 select layer by attribute\n",
      "     step 14/33 select layer by WUI location\n",
      "     step 15/33 calculate WUI yes\n",
      "     step 16/33 select layer by attribute\n",
      "     step 17/33 calculate WUI no\n",
      "     step 18/33 clear selection\n",
      "Veg_Summarized_Polygons_Laye has 23208 records\n",
      "     step 19/33 feature to point\n",
      "   Calculating Ownership, Counties, and Regions...\n",
      "     step 20/33 spatial join\n",
      "     step 21/33 spatial join\n",
      "     step 22/33 add join\n",
      "     step 23/33 calculate ownership field\n",
      "     step 24/33 calculate county field\n",
      "     step 25/33 calculate region field\n",
      "     step 26/33 remove join\n",
      "GPLYR_{CBE941CF-B29B-46AB-A02E-2ECCD216B52D} has 23208 records\n",
      "   Initiating Crosswalk...\n",
      "   Calculating Crosswalking Activites...\n",
      "     step 1/13 add join\n"
     ]
    },
    {
     "ename": "KeyError",
     "evalue": "'CBE941CF-B29B-46AB-A02E-2ECCD216B52D'",
     "output_type": "error",
     "traceback": [
      "\u001b[1;31m---------------------------------------------------------------------------\u001b[0m",
      "\u001b[1;31mKeyError\u001b[0m                                  Traceback (most recent call last)",
      "\u001b[1;32m~\\AppData\\Local\\Temp\\ipykernel_11484\\2449744825.py\u001b[0m in \u001b[0;36m<cell line: 1>\u001b[1;34m()\u001b[0m\n\u001b[1;32m----> 1\u001b[1;33m \u001b[0mModel_USFS\u001b[0m\u001b[1;33m(\u001b[0m\u001b[0moutput_enriched\u001b[0m\u001b[1;33m,\u001b[0m\u001b[0moutput_standardized\u001b[0m\u001b[1;33m,\u001b[0m\u001b[0minput_fc\u001b[0m\u001b[1;33m)\u001b[0m\u001b[1;33m\u001b[0m\u001b[1;33m\u001b[0m\u001b[0m\n\u001b[0m",
      "\u001b[1;32mc:\\Users\\sageg\\source\\repos\\mas-python\\src\\scripts\\_6a_usfs_common_attributes.py\u001b[0m in \u001b[0;36mModel_USFS\u001b[1;34m(output_enriched, output_standardized, input_fc)\u001b[0m\n\u001b[0;32m    635\u001b[0m         \u001b[1;31m# print(\"Enriching Dataset\")\u001b[0m\u001b[1;33m\u001b[0m\u001b[1;33m\u001b[0m\u001b[0m\n\u001b[0;32m    636\u001b[0m         \u001b[1;31m# Process: 7a Enrichments Polygon (2) (7a Enrichments Polygon) (PC414CWIMillionAcres)\u001b[0m\u001b[1;33m\u001b[0m\u001b[1;33m\u001b[0m\u001b[0m\n\u001b[1;32m--> 637\u001b[1;33m         enrich_polygons(\n\u001b[0m\u001b[0;32m    638\u001b[0m             \u001b[0menrich_in\u001b[0m\u001b[1;33m=\u001b[0m\u001b[0musfs_standardized_w_domains\u001b[0m\u001b[1;33m,\u001b[0m\u001b[1;33m\u001b[0m\u001b[1;33m\u001b[0m\u001b[0m\n\u001b[0;32m    639\u001b[0m             \u001b[0menrich_out\u001b[0m\u001b[1;33m=\u001b[0m\u001b[0moutput_enriched\u001b[0m\u001b[1;33m\u001b[0m\u001b[1;33m\u001b[0m\u001b[0m\n",
      "\u001b[1;32mc:\\Users\\sageg\\source\\repos\\mas-python\\src\\scripts\\_7a_enrichments_polygon.py\u001b[0m in \u001b[0;36menrich_polygons\u001b[1;34m(enrich_out, enrich_in, delete_scratch)\u001b[0m\n\u001b[0;32m    523\u001b[0m         \u001b[0mprint\u001b[0m\u001b[1;33m(\u001b[0m\u001b[1;34m\"   Initiating Crosswalk...\"\u001b[0m\u001b[1;33m)\u001b[0m\u001b[1;33m\u001b[0m\u001b[1;33m\u001b[0m\u001b[0m\n\u001b[0;32m    524\u001b[0m         \u001b[1;31m# Process: Crosswalk\u001b[0m\u001b[1;33m\u001b[0m\u001b[1;33m\u001b[0m\u001b[0m\n\u001b[1;32m--> 525\u001b[1;33m         \u001b[0mcrosswalk_table\u001b[0m \u001b[1;33m=\u001b[0m \u001b[0mCrosswalk\u001b[0m\u001b[1;33m(\u001b[0m\u001b[0mInput_Table\u001b[0m\u001b[1;33m=\u001b[0m\u001b[0mVeg_Summarized_Polygons_Laye2\u001b[0m\u001b[1;33m)\u001b[0m\u001b[1;33m\u001b[0m\u001b[1;33m\u001b[0m\u001b[0m\n\u001b[0m\u001b[0;32m    526\u001b[0m         \u001b[0mprint\u001b[0m\u001b[1;33m(\u001b[0m\u001b[1;34m\"   Crosswalk Complete, Continuing Enrichment...\"\u001b[0m\u001b[1;33m)\u001b[0m\u001b[1;33m\u001b[0m\u001b[1;33m\u001b[0m\u001b[0m\n\u001b[0;32m    527\u001b[0m \u001b[1;33m\u001b[0m\u001b[0m\n",
      "\u001b[1;32mc:\\Users\\sageg\\source\\repos\\mas-python\\src\\scripts\\_2l_Crosswalk.py\u001b[0m in \u001b[0;36mCrosswalk\u001b[1;34m(Input_Table)\u001b[0m\n\u001b[0;32m     22\u001b[0m     \u001b[1;31m# Process: Add Join (Add Join) (management)\u001b[0m\u001b[1;33m\u001b[0m\u001b[1;33m\u001b[0m\u001b[0m\n\u001b[0;32m     23\u001b[0m     \u001b[0mprint\u001b[0m\u001b[1;33m(\u001b[0m\u001b[1;34m\"     step 1/13 add join\"\u001b[0m\u001b[1;33m)\u001b[0m\u001b[1;33m\u001b[0m\u001b[1;33m\u001b[0m\u001b[0m\n\u001b[1;32m---> 24\u001b[1;33m     add_join_w_xwalk = arcpy.management.AddJoin(in_layer_or_view=Input_Table.__str__().format(**locals(),**globals()), \n\u001b[0m\u001b[0;32m     25\u001b[0m                                                       \u001b[0min_field\u001b[0m\u001b[1;33m=\u001b[0m\u001b[1;34m\"Crosswalk\"\u001b[0m\u001b[1;33m,\u001b[0m\u001b[1;33m\u001b[0m\u001b[1;33m\u001b[0m\u001b[0m\n\u001b[0;32m     26\u001b[0m                                                       \u001b[0mjoin_table\u001b[0m\u001b[1;33m=\u001b[0m\u001b[0mCrosswalk_Table\u001b[0m\u001b[1;33m,\u001b[0m\u001b[1;33m\u001b[0m\u001b[1;33m\u001b[0m\u001b[0m\n",
      "\u001b[1;31mKeyError\u001b[0m: 'CBE941CF-B29B-46AB-A02E-2ECCD216B52D'"
     ]
    }
   ],
   "source": [
    "Model_USFS(output_enriched,output_standardized,input_fc)"
   ]
  }
 ],
 "metadata": {
  "kernelspec": {
   "display_name": "arcgispro-py3",
   "language": "python",
   "name": "python3"
  },
  "language_info": {
   "codemirror_mode": {
    "name": "ipython",
    "version": 3
   },
   "file_extension": ".py",
   "mimetype": "text/x-python",
   "name": "python",
   "nbconvert_exporter": "python",
   "pygments_lexer": "ipython3",
   "version": "3.9.16"
  },
  "orig_nbformat": 4
 },
 "nbformat": 4,
 "nbformat_minor": 2
}

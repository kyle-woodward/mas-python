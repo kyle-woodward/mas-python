{
 "cells": [
  {
   "cell_type": "code",
   "execution_count": 1,
   "metadata": {},
   "outputs": [
    {
     "name": "stdout",
     "output_type": "stream",
     "text": [
      "The version of the binaries in the active Python environment do\n",
      "  not match the version of the binaries in the ArcGIS application.\n",
      "\n",
      "Active environment version : 3.0\n",
      "arcgispro-py3 environment version : 3.1\n",
      "\n",
      "To update the existing environment see the conda proup subcommand \n",
      "        > conda proup --help\n",
      "\n",
      "To manually create a new environment for use with the current ArcGIS application:\n",
      " 1. Generate a list of additional packages installed in your current environment,\n",
      "    with the conda command:\n",
      "        > conda env export > env.yaml\n",
      " 2. (Optional) If you have additional dependencies installed through pip,\n",
      "    find those with pip freeze:\n",
      "        > pip freeze > requirements.txt\n",
      " 3. Create a new environment by cloning arcgispro-py3, and activate it:\n",
      "        > conda create --clone arcgispro-py3 --name my-env --pinned\n",
      "        > activate my-env\n",
      " 4. Add back missing conda packages from your current environment:\n",
      "        > conda env update -n my-env -f env.yaml\n",
      " 5. (Optional) Add back missing packages from pip:\n",
      "        > pip install -r requirements.txt\n",
      " 6. (Optional) Make it the default for the ArcGIS application and the\n",
      "     \"Python Command Prompt\":\n",
      "        > proswap my-env\n",
      "\n"
     ]
    },
    {
     "ename": "ImportError",
     "evalue": "version mis-match",
     "output_type": "error",
     "traceback": [
      "\u001b[1;31m---------------------------------------------------------------------------\u001b[0m",
      "\u001b[1;31mImportError\u001b[0m                               Traceback (most recent call last)",
      "Cell \u001b[1;32mIn[1], line 1\u001b[0m\n\u001b[1;32m----> 1\u001b[0m \u001b[39mfrom\u001b[39;00m \u001b[39mscripts\u001b[39;00m\u001b[39m.\u001b[39;00m\u001b[39mutils\u001b[39;00m \u001b[39mimport\u001b[39;00m init_gdb, check_exists\n\u001b[0;32m      2\u001b[0m \u001b[39mimport\u001b[39;00m \u001b[39mos\u001b[39;00m\n\u001b[0;32m      3\u001b[0m \u001b[39mimport\u001b[39;00m \u001b[39mdatetime\u001b[39;00m\n",
      "File \u001b[1;32mc:\\Users\\sageg\\source\\repos\\mas-python\\src\\scripts\\utils.py:3\u001b[0m\n\u001b[0;32m      1\u001b[0m \u001b[39m#%%\u001b[39;00m\n\u001b[0;32m      2\u001b[0m \u001b[39mimport\u001b[39;00m \u001b[39mos\u001b[39;00m \n\u001b[1;32m----> 3\u001b[0m \u001b[39mimport\u001b[39;00m \u001b[39marcpy\u001b[39;00m\n\u001b[0;32m      4\u001b[0m \u001b[39mimport\u001b[39;00m \u001b[39myaml\u001b[39;00m\n\u001b[0;32m      5\u001b[0m \u001b[39mfrom\u001b[39;00m \u001b[39mdatetime\u001b[39;00m \u001b[39mimport\u001b[39;00m datetime\n",
      "File \u001b[1;32mC:\\Program Files\\ArcGIS\\Pro\\Resources\\ArcPy\\arcpy\\__init__.py:77\u001b[0m\n\u001b[0;32m     74\u001b[0m         sys\u001b[39m.\u001b[39margv \u001b[39m=\u001b[39m [\u001b[39m'\u001b[39m\u001b[39m'\u001b[39m]\n\u001b[0;32m     75\u001b[0m     \u001b[39mimport\u001b[39;00m \u001b[39m_initagsenv\u001b[39;00m\n\u001b[1;32m---> 77\u001b[0m \u001b[39mfrom\u001b[39;00m \u001b[39marcpy\u001b[39;00m\u001b[39m.\u001b[39;00m\u001b[39mgeoprocessing\u001b[39;00m \u001b[39mimport\u001b[39;00m gp\n\u001b[0;32m     78\u001b[0m \u001b[39mfrom\u001b[39;00m \u001b[39marcpy\u001b[39;00m\u001b[39m.\u001b[39;00m\u001b[39mgeoprocessing\u001b[39;00m \u001b[39mimport\u001b[39;00m env\n\u001b[0;32m     79\u001b[0m \u001b[39mfrom\u001b[39;00m \u001b[39marcpy\u001b[39;00m\u001b[39m.\u001b[39;00m\u001b[39mgeoprocessing\u001b[39;00m\u001b[39m.\u001b[39;00m\u001b[39m_base\u001b[39;00m \u001b[39mimport\u001b[39;00m gptooldoc \u001b[39mas\u001b[39;00m _gptooldoc\n",
      "File \u001b[1;32mC:\\Program Files\\ArcGIS\\Pro\\Resources\\ArcPy\\arcpy\\geoprocessing\\__init__.py:14\u001b[0m\n\u001b[0;32m      1\u001b[0m \u001b[39m#COPYRIGHT 2018 ESRI\u001b[39;00m\n\u001b[0;32m      2\u001b[0m \u001b[39m#\u001b[39;00m\n\u001b[0;32m      3\u001b[0m \u001b[39m#TRADE SECRETS: ESRI PROPRIETARY AND CONFIDENTIAL\u001b[39;00m\n\u001b[1;32m   (...)\u001b[0m\n\u001b[0;32m     12\u001b[0m \u001b[39m#\u001b[39;00m\n\u001b[0;32m     13\u001b[0m \u001b[39m#email: contracts@esri.com\u001b[39;00m\n\u001b[1;32m---> 14\u001b[0m \u001b[39mfrom\u001b[39;00m \u001b[39m.\u001b[39;00m\u001b[39m_base\u001b[39;00m \u001b[39mimport\u001b[39;00m \u001b[39m*\u001b[39m\n",
      "File \u001b[1;32mC:\\Program Files\\ArcGIS\\Pro\\Resources\\ArcPy\\arcpy\\geoprocessing\\_base.py:14\u001b[0m\n\u001b[0;32m      1\u001b[0m \u001b[39m#COPYRIGHT 2018 ESRI\u001b[39;00m\n\u001b[0;32m      2\u001b[0m \u001b[39m#\u001b[39;00m\n\u001b[0;32m      3\u001b[0m \u001b[39m#TRADE SECRETS: ESRI PROPRIETARY AND CONFIDENTIAL\u001b[39;00m\n\u001b[1;32m   (...)\u001b[0m\n\u001b[0;32m     12\u001b[0m \u001b[39m#\u001b[39;00m\n\u001b[0;32m     13\u001b[0m \u001b[39m#email: contracts@esri.com\u001b[39;00m\n\u001b[1;32m---> 14\u001b[0m \u001b[39mimport\u001b[39;00m \u001b[39marcgisscripting\u001b[39;00m\n\u001b[0;32m     15\u001b[0m \u001b[39mimport\u001b[39;00m \u001b[39mfunctools\u001b[39;00m\n\u001b[0;32m     17\u001b[0m \u001b[39m\"\"\"Geoprocessing wrapper for the arcgisscripting library. Attempts to organize/make usage easier.\"\"\"\u001b[39;00m\n",
      "File \u001b[1;32mc:\\Users\\sageg\\anaconda3\\envs\\arcgispro-py3\\lib\\site-packages\\arcgisscripting\\__init__.py:115\u001b[0m\n\u001b[0;32m    113\u001b[0m \u001b[39mexcept\u001b[39;00m \u001b[39mAssertionError\u001b[39;00m:\n\u001b[0;32m    114\u001b[0m     \u001b[39mprint\u001b[39m(msg\u001b[39m.\u001b[39mformat(active_pyd_ver, pristine_pyd_ver))\n\u001b[1;32m--> 115\u001b[0m     \u001b[39mraise\u001b[39;00m \u001b[39mImportError\u001b[39;00m(\u001b[39m\"\u001b[39m\u001b[39mversion mis-match\u001b[39m\u001b[39m\"\u001b[39m) \u001b[39mfrom\u001b[39;00m \u001b[39mNone\u001b[39m\n\u001b[0;32m    117\u001b[0m \u001b[39mexcept\u001b[39;00m:\n\u001b[0;32m    118\u001b[0m     \u001b[39m# don't raise if problem occurred elsewhere with version check\u001b[39;00m\n\u001b[0;32m    119\u001b[0m     \u001b[39mpass\u001b[39;00m\n",
      "\u001b[1;31mImportError\u001b[0m: version mis-match"
     ]
    }
   ],
   "source": [
    "from scripts.utils import init_gdb, check_exists\n",
    "import os\n",
    "import datetime\n",
    "from scripts._6a_usfs_common_attributes import Model7\n",
    "original_gdb, workspace, scratch_workspace = init_gdb()\n",
    "\n",
    "date_id = datetime.datetime.utcnow().strftime(\"%Y-%m-%d\").replace('-','') # like 20221216\n",
    "\n",
    "# INPUTS\n",
    "# will need to be downloaded from here https://apps.fs.usda.gov/arcx/rest/services/EDW/EDW_ActivityFactsCommonAttributes_01/MapServer/0\n",
    "# change path to the most updated inputs\n",
    "#input_fc = os.path.join(workspace,'a_Originals','Actv_CommonAtt_ExportFeature')\n",
    "input_fc = os.path.join(workspace,'a_Originals','usfs_facts_edw_common_test')\n",
    "\n",
    "# OUTPUTS\n",
    "output_enriched = os.path.join(workspace,'d_Enriched',f'usfs_edw_facts_common_attributes_enriched_{date_id}')\n",
    "output_standardized = os.path.join(workspace,'c_Standardized',f'usfs_edw_facts_common_attributes_standardized_{date_id}')\n",
    "\n",
    "# Check that all your datasets exist before you start, \n",
    "# if nothing is printed out you're good to go\n",
    "check_exists(\n",
    "    fc_list = [input_fc],\n",
    "    workspace=workspace\n",
    "    )"
   ]
  },
  {
   "cell_type": "code",
   "execution_count": null,
   "metadata": {},
   "outputs": [
    {
     "ename": "",
     "evalue": "",
     "output_type": "error",
     "traceback": [
      "\u001b[1;31mFailed to start the Kernel. \n",
      "\u001b[1;31mView Jupyter <a href='command:jupyter.viewOutput'>log</a> for further details."
     ]
    }
   ],
   "source": [
    "Model7(output_enriched,output_standardized,input_fc)"
   ]
  }
 ],
 "metadata": {
  "kernelspec": {
   "display_name": "arcgispro-py3",
   "language": "python",
   "name": "python3"
  },
  "language_info": {
   "codemirror_mode": {
    "name": "ipython",
    "version": 3
   },
   "file_extension": ".py",
   "mimetype": "text/x-python",
   "name": "python",
   "nbconvert_exporter": "python",
   "pygments_lexer": "ipython3",
   "version": "3.9.11"
  },
  "orig_nbformat": 4
 },
 "nbformat": 4,
 "nbformat_minor": 2
}

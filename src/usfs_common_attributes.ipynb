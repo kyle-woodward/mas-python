{
 "cells": [
  {
   "cell_type": "code",
   "execution_count": 1,
   "metadata": {},
   "outputs": [
    {
     "name": "stdout",
     "output_type": "stream",
     "text": [
      "Unable to acquire the necessary schema lock to Standardized\n",
      "Unable to acquire the necessary schema lock to Enriched\n"
     ]
    }
   ],
   "source": [
    "from scripts.utils import init_gdb, check_exists, og_file_input\n",
    "import os\n",
    "import datetime\n",
    "import arcpy\n",
    "from scripts._6a_usfs_common_attributes import Model_USFS\n",
    "workspace, scratch_workspace = init_gdb()\n",
    "\n",
    "date_id = datetime.datetime.now().strftime(\"%Y-%m-%d\").replace('-','') # like 20221216\n",
    "\n",
    "# INPUTS\n",
    "# will need to be downloaded from here https://apps.fs.usda.gov/arcx/rest/services/EDW/EDW_ActivityFactsCommonAttributes_01/MapServer/0\n",
    "# change path to the most updated inputs\n",
    "input_fc = os.path.join(workspace,'a_Originals','usfs_facts_edw_common_test')\n",
    "# input_fc = 'C:/Users/sageg/Documents/ArcGIS/Projects/PC414 CWI Million Acres/1-Spatial Data/EDW_Actv_CommonAttribute_PL_20230225.gdb/Actv_CommonAttribute_PL'\n",
    "\n",
    "# OUTPUTS\n",
    "output_standardized = os.path.join(workspace,'c_Standardized',f'usfs_edw_facts_common_attributes_standardized_{date_id}_test')\n",
    "output_enriched = os.path.join(workspace,'d_Enriched',f'usfs_edw_facts_common_attributes_enriched_{date_id}_test')\n",
    "\n",
    "data = arcpy.GetParameterAsText(0)\n",
    "\n",
    "# Test if a schema lock can be applied\n",
    "# if arcpy.TestSchemaLock(output_standardized):\n",
    "#     print(\"Standardized not locked\")\n",
    "# else:\n",
    "#     print(\"Unable to acquire the necessary schema lock to Standardized\")\n",
    "\n",
    "# if arcpy.TestSchemaLock(output_enriched):\n",
    "#     print(\"Enriched not locked\")\n",
    "# else:\n",
    "#     print(\"Unable to acquire the necessary schema lock to Enriched\")"
   ]
  },
  {
   "cell_type": "code",
   "execution_count": 3,
   "metadata": {},
   "outputs": [
    {
     "name": "stdout",
     "output_type": "stream",
     "text": [
      "Start Time Wed May 24 09:49:39 2023\n",
      "Performing Standardization...\n",
      "Selecting Features...\n",
      "Repairing Geometry...\n",
      "Adding Fields...\n",
      "Transfering Attributes...\n",
      "Calculating End Date...\n",
      "Calculating Status...\n",
      "Saving Output Standardized: c:\\Users\\sageg\\source\\repos\\mas-python\\PC414 CWI Million Acres.gdb\\c_Standardized\\usfs_edw_facts_common_attributes_standardized_20230524\n",
      "Executing Polygon Enrichments...\n",
      "Calculating Broad Vegetation Type...\n",
      "Calculating WUI...\n",
      "Calculating Ownership and Counties...\n",
      "Calculating Task Force Regions...\n",
      "Calculating Crosswalking Activites...\n",
      "Calculating Residue Fate...\n",
      "Calculating Counts to Million Acres...\n",
      "Calculating Objective...\n",
      "Calculating Activity Category...\n",
      "Calculating Years...\n",
      "Calculating Latitude and Longitude...\n",
      "Saving Output Enriched: c:\\Users\\sageg\\source\\repos\\mas-python\\PC414 CWI Million Acres.gdb\\d_Enriched\\usfs_edw_facts_common_attributes_enriched_20230524\n",
      "Deleting files from c:\\Users\\sageg\\source\\repos\\mas-python\\scratch.gdb\n",
      "Time Elapsed: 114.84277648528418 minutes\n"
     ]
    }
   ],
   "source": [
    "Model_USFS(output_enriched,output_standardized,input_fc)"
   ]
  }
 ],
 "metadata": {
  "kernelspec": {
   "display_name": "arcgispro-py3",
   "language": "python",
   "name": "python3"
  },
  "language_info": {
   "codemirror_mode": {
    "name": "ipython",
    "version": 3
   },
   "file_extension": ".py",
   "mimetype": "text/x-python",
   "name": "python",
   "nbconvert_exporter": "python",
   "pygments_lexer": "ipython3",
   "version": "3.9.16"
  },
  "orig_nbformat": 4
 },
 "nbformat": 4,
 "nbformat_minor": 2
}

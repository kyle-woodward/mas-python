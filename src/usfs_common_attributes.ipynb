{
 "cells": [
  {
   "cell_type": "code",
   "execution_count": 3,
   "metadata": {},
   "outputs": [
    {
     "name": "stdout",
     "output_type": "stream",
     "text": [
      "Unable to acquire the necessary schema lock for c:\\Users\\kayla\\Documents\\SIG-GIS\\Kayla_Updates\\mas-python\\PC414 CWI Million Acres Testing.gdb\\a_Originals\\usfs_facts_edw_common_test\n",
      "Unable to acquire the necessary schema lock for c:\\Users\\kayla\\Documents\\SIG-GIS\\Kayla_Updates\\mas-python\\PC414 CWI Million Acres Testing.gdb\\c_Standardized\\usfs_edw_facts_common_attributes_standardized_20230524_test\n",
      "Unable to acquire the necessary schema lock for c:\\Users\\kayla\\Documents\\SIG-GIS\\Kayla_Updates\\mas-python\\PC414 CWI Million Acres Testing.gdb\\d_Enriched\\usfs_edw_facts_common_attributes_enriched_20230524_test\n"
     ]
    }
   ],
   "source": [
    "from scripts.utils import init_gdb, check_schema_lock\n",
    "import os\n",
    "import datetime\n",
    "import arcpy\n",
    "from scripts._6a_usfs_common_attributes import Model_USFS\n",
    "original_gdb, workspace, scratch_workspace = init_gdb()\n",
    "\n",
    "date_id = datetime.datetime.now().strftime(\"%Y-%m-%d\").replace('-','') # like 20221216\n",
    "\n",
    "# INPUTS\n",
    "# will need to be downloaded from here https://apps.fs.usda.gov/arcx/rest/services/EDW/EDW_ActivityFactsCommonAttributes_01/MapServer/0\n",
    "# change path to the most updated inputs\n",
    "input_fc = os.path.join(workspace,'a_Originals','usfs_facts_edw_common_test')\n",
    "# input_fc = 'C:/Users/sageg/Documents/ArcGIS/Projects/PC414 CWI Million Acres/1-Spatial Data/EDW_Actv_CommonAttribute_PL_20230225.gdb/Actv_CommonAttribute_PL'\n",
    "\n",
    "# OUTPUTS\n",
    "output_standardized = os.path.join(workspace,'c_Standardized',f'usfs_edw_facts_common_attributes_standardized_{date_id}_test')\n",
    "output_enriched = os.path.join(workspace,'d_Enriched',f'usfs_edw_facts_common_attributes_enriched_{date_id}_test')\n",
    "\n",
    "data = arcpy.GetParameterAsText(0)\n",
    "\n",
    "check_schema_lock(input_fc)\n",
    "check_schema_lock(output_standardized)\n",
    "check_schema_lock(output_enriched)"
   ]
  },
  {
   "cell_type": "code",
   "execution_count": 4,
   "metadata": {},
   "outputs": [
    {
     "name": "stdout",
     "output_type": "stream",
     "text": [
      "Start Time Wed May 24 16:31:51 2023\n",
      "Performing Standardization...\n"
     ]
    },
    {
     "ename": "ExecuteError",
     "evalue": "Failed to execute. Parameters are not valid.\nERROR 000732: Layer Name or Table View: Dataset c:\\Users\\kayla\\Documents\\SIG-GIS\\Kayla_Updates\\mas-python\\PC414 CWI Million Acres Testing.gdb\\a_Originals\\usfs_facts_edw_common_test does not exist or is not supported\nFailed to execute (SelectLayerByAttribute).\n",
     "output_type": "error",
     "traceback": [
      "\u001b[1;31m---------------------------------------------------------------------------\u001b[0m",
      "\u001b[1;31mExecuteError\u001b[0m                              Traceback (most recent call last)",
      "\u001b[1;32m<ipython-input-4-724f61064dcd>\u001b[0m in \u001b[0;36m<module>\u001b[1;34m\u001b[0m\n\u001b[1;32m----> 1\u001b[1;33m \u001b[0mModel_USFS\u001b[0m\u001b[1;33m(\u001b[0m\u001b[0moutput_enriched\u001b[0m\u001b[1;33m,\u001b[0m\u001b[0moutput_standardized\u001b[0m\u001b[1;33m,\u001b[0m\u001b[0minput_fc\u001b[0m\u001b[1;33m)\u001b[0m\u001b[1;33m\u001b[0m\u001b[1;33m\u001b[0m\u001b[0m\n\u001b[0m",
      "\u001b[1;32mc:\\Users\\kayla\\Documents\\SIG-GIS\\Kayla_Updates\\mas-python\\src\\scripts\\_6a_usfs_common_attributes.py\u001b[0m in \u001b[0;36mModel_USFS\u001b[1;34m(output_enriched, output_standardized, input_fc)\u001b[0m\n\u001b[0;32m     29\u001b[0m         \u001b[0mprint\u001b[0m\u001b[1;33m(\u001b[0m\u001b[1;34m'Performing Standardization...'\u001b[0m\u001b[1;33m)\u001b[0m\u001b[1;33m\u001b[0m\u001b[1;33m\u001b[0m\u001b[0m\n\u001b[0;32m     30\u001b[0m         \u001b[1;31m# Process: Select Layer By Attribute California (Select Layer By Attribute) (management)\u001b[0m\u001b[1;33m\u001b[0m\u001b[1;33m\u001b[0m\u001b[0m\n\u001b[1;32m---> 31\u001b[1;33m         Actv_CommonAttribute_PL_Laye2, Count_4_ = arcpy.management.SelectLayerByAttribute(\n\u001b[0m\u001b[0;32m     32\u001b[0m             \u001b[0min_layer_or_view\u001b[0m\u001b[1;33m=\u001b[0m\u001b[0minput_fc\u001b[0m\u001b[1;33m,\u001b[0m\u001b[1;33m\u001b[0m\u001b[1;33m\u001b[0m\u001b[0m\n\u001b[0;32m     33\u001b[0m             \u001b[0mselection_type\u001b[0m\u001b[1;33m=\u001b[0m\u001b[1;34m\"NEW_SELECTION\"\u001b[0m\u001b[1;33m,\u001b[0m\u001b[1;33m\u001b[0m\u001b[1;33m\u001b[0m\u001b[0m\n",
      "\u001b[1;32mC:\\Program Files\\ArcGIS\\Pro\\Resources\\ArcPy\\arcpy\\management.py\u001b[0m in \u001b[0;36mSelectLayerByAttribute\u001b[1;34m(in_layer_or_view, selection_type, where_clause, invert_where_clause)\u001b[0m\n\u001b[0;32m  10778\u001b[0m         \u001b[1;32mreturn\u001b[0m \u001b[0mretval\u001b[0m\u001b[1;33m\u001b[0m\u001b[1;33m\u001b[0m\u001b[0m\n\u001b[0;32m  10779\u001b[0m     \u001b[1;32mexcept\u001b[0m \u001b[0mException\u001b[0m \u001b[1;32mas\u001b[0m \u001b[0me\u001b[0m\u001b[1;33m:\u001b[0m\u001b[1;33m\u001b[0m\u001b[1;33m\u001b[0m\u001b[0m\n\u001b[1;32m> 10780\u001b[1;33m         \u001b[1;32mraise\u001b[0m \u001b[0me\u001b[0m\u001b[1;33m\u001b[0m\u001b[1;33m\u001b[0m\u001b[0m\n\u001b[0m\u001b[0;32m  10781\u001b[0m \u001b[1;33m\u001b[0m\u001b[0m\n\u001b[0;32m  10782\u001b[0m \u001b[1;33m@\u001b[0m\u001b[0mgptooldoc\u001b[0m\u001b[1;33m(\u001b[0m\u001b[1;34m'SelectLayerByLocation_management'\u001b[0m\u001b[1;33m,\u001b[0m \u001b[1;32mNone\u001b[0m\u001b[1;33m)\u001b[0m\u001b[1;33m\u001b[0m\u001b[1;33m\u001b[0m\u001b[0m\n",
      "\u001b[1;32mC:\\Program Files\\ArcGIS\\Pro\\Resources\\ArcPy\\arcpy\\management.py\u001b[0m in \u001b[0;36mSelectLayerByAttribute\u001b[1;34m(in_layer_or_view, selection_type, where_clause, invert_where_clause)\u001b[0m\n\u001b[0;32m  10775\u001b[0m     \u001b[1;32mfrom\u001b[0m \u001b[0marcpy\u001b[0m\u001b[1;33m.\u001b[0m\u001b[0marcobjects\u001b[0m\u001b[1;33m.\u001b[0m\u001b[0marcobjectconversion\u001b[0m \u001b[1;32mimport\u001b[0m \u001b[0mconvertArcObjectToPythonObject\u001b[0m\u001b[1;33m\u001b[0m\u001b[1;33m\u001b[0m\u001b[0m\n\u001b[0;32m  10776\u001b[0m     \u001b[1;32mtry\u001b[0m\u001b[1;33m:\u001b[0m\u001b[1;33m\u001b[0m\u001b[1;33m\u001b[0m\u001b[0m\n\u001b[1;32m> 10777\u001b[1;33m         \u001b[0mretval\u001b[0m \u001b[1;33m=\u001b[0m \u001b[0mconvertArcObjectToPythonObject\u001b[0m\u001b[1;33m(\u001b[0m\u001b[0mgp\u001b[0m\u001b[1;33m.\u001b[0m\u001b[0mSelectLayerByAttribute_management\u001b[0m\u001b[1;33m(\u001b[0m\u001b[1;33m*\u001b[0m\u001b[0mgp_fixargs\u001b[0m\u001b[1;33m(\u001b[0m\u001b[1;33m(\u001b[0m\u001b[0min_layer_or_view\u001b[0m\u001b[1;33m,\u001b[0m \u001b[0mselection_type\u001b[0m\u001b[1;33m,\u001b[0m \u001b[0mwhere_clause\u001b[0m\u001b[1;33m,\u001b[0m \u001b[0minvert_where_clause\u001b[0m\u001b[1;33m)\u001b[0m\u001b[1;33m,\u001b[0m \u001b[1;32mTrue\u001b[0m\u001b[1;33m)\u001b[0m\u001b[1;33m)\u001b[0m\u001b[1;33m)\u001b[0m\u001b[1;33m\u001b[0m\u001b[1;33m\u001b[0m\u001b[0m\n\u001b[0m\u001b[0;32m  10778\u001b[0m         \u001b[1;32mreturn\u001b[0m \u001b[0mretval\u001b[0m\u001b[1;33m\u001b[0m\u001b[1;33m\u001b[0m\u001b[0m\n\u001b[0;32m  10779\u001b[0m     \u001b[1;32mexcept\u001b[0m \u001b[0mException\u001b[0m \u001b[1;32mas\u001b[0m \u001b[0me\u001b[0m\u001b[1;33m:\u001b[0m\u001b[1;33m\u001b[0m\u001b[1;33m\u001b[0m\u001b[0m\n",
      "\u001b[1;32mC:\\Program Files\\ArcGIS\\Pro\\Resources\\ArcPy\\arcpy\\geoprocessing\\_base.py\u001b[0m in \u001b[0;36m<lambda>\u001b[1;34m(*args)\u001b[0m\n\u001b[0;32m    510\u001b[0m         \u001b[0mval\u001b[0m \u001b[1;33m=\u001b[0m \u001b[0mgetattr\u001b[0m\u001b[1;33m(\u001b[0m\u001b[0mself\u001b[0m\u001b[1;33m.\u001b[0m\u001b[0m_gp\u001b[0m\u001b[1;33m,\u001b[0m \u001b[0mattr\u001b[0m\u001b[1;33m)\u001b[0m\u001b[1;33m\u001b[0m\u001b[1;33m\u001b[0m\u001b[0m\n\u001b[0;32m    511\u001b[0m         \u001b[1;32mif\u001b[0m \u001b[0mcallable\u001b[0m\u001b[1;33m(\u001b[0m\u001b[0mval\u001b[0m\u001b[1;33m)\u001b[0m\u001b[1;33m:\u001b[0m\u001b[1;33m\u001b[0m\u001b[1;33m\u001b[0m\u001b[0m\n\u001b[1;32m--> 512\u001b[1;33m             \u001b[1;32mreturn\u001b[0m \u001b[1;32mlambda\u001b[0m \u001b[1;33m*\u001b[0m\u001b[0margs\u001b[0m\u001b[1;33m:\u001b[0m \u001b[0mval\u001b[0m\u001b[1;33m(\u001b[0m\u001b[1;33m*\u001b[0m\u001b[0mgp_fixargs\u001b[0m\u001b[1;33m(\u001b[0m\u001b[0margs\u001b[0m\u001b[1;33m,\u001b[0m \u001b[1;32mTrue\u001b[0m\u001b[1;33m)\u001b[0m\u001b[1;33m)\u001b[0m\u001b[1;33m\u001b[0m\u001b[1;33m\u001b[0m\u001b[0m\n\u001b[0m\u001b[0;32m    513\u001b[0m         \u001b[1;32melse\u001b[0m\u001b[1;33m:\u001b[0m\u001b[1;33m\u001b[0m\u001b[1;33m\u001b[0m\u001b[0m\n\u001b[0;32m    514\u001b[0m             \u001b[1;32mreturn\u001b[0m \u001b[0mconvertArcObjectToPythonObject\u001b[0m\u001b[1;33m(\u001b[0m\u001b[0mval\u001b[0m\u001b[1;33m)\u001b[0m\u001b[1;33m\u001b[0m\u001b[1;33m\u001b[0m\u001b[0m\n",
      "\u001b[1;31mExecuteError\u001b[0m: Failed to execute. Parameters are not valid.\nERROR 000732: Layer Name or Table View: Dataset c:\\Users\\kayla\\Documents\\SIG-GIS\\Kayla_Updates\\mas-python\\PC414 CWI Million Acres Testing.gdb\\a_Originals\\usfs_facts_edw_common_test does not exist or is not supported\nFailed to execute (SelectLayerByAttribute).\n"
     ]
    }
   ],
   "source": [
    "Model_USFS(output_enriched,output_standardized,input_fc)"
   ]
  }
 ],
 "metadata": {
  "kernelspec": {
   "display_name": "arcgispro-py3",
   "language": "python",
   "name": "python3"
  },
  "language_info": {
   "codemirror_mode": {
    "name": "ipython",
    "version": 3
   },
   "file_extension": ".py",
   "mimetype": "text/x-python",
   "name": "python",
   "nbconvert_exporter": "python",
   "pygments_lexer": "ipython3",
   "version": "3.9.11"
  },
  "orig_nbformat": 4
 },
 "nbformat": 4,
 "nbformat_minor": 2
}

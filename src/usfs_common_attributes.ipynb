{
 "cells": [
  {
   "cell_type": "code",
   "execution_count": null,
   "metadata": {},
   "outputs": [],
   "source": [
    "from scripts.utils import init_gdb, check_exists, og_file_input\n",
    "import os\n",
    "import datetime\n",
    "from scripts._6a_usfs_common_attributes import Model7\n",
    "original_gdb, workspace, scratch_workspace = init_gdb()\n",
    "\n",
    "date_id = datetime.datetime.utcnow().strftime(\"%Y-%m-%d\").replace('-','') # like 20221216\n",
    "\n",
    "# INPUTS\n",
    "# will need to be downloaded from here https://apps.fs.usda.gov/arcx/rest/services/EDW/EDW_ActivityFactsCommonAttributes_01/MapServer/0\n",
    "# change path to the most updated inputs\n",
    "actv_poly = og_file_input(prefix = 'Actv', filetype = 'Polygon', gdb = os.path.join(workspace, \"a_Originals\"))\n",
    "input_fc = os.path.join(workspace,'a_Originals',actv_poly)\n",
    "\n",
    "# OUTPUTS\n",
    "output_enriched = os.path.join(workspace,'d_Enriched',f'usfs_edw_facts_common_attributes_enriched_{date_id}')\n",
    "output_standardized = os.path.join(workspace,'c_Standardized',f'usfs_edw_facts_common_attributes_standardized_{date_id}')\n",
    "\n",
    "# Check that all your datasets exist before you start, \n",
    "# if nothing is printed out you're good to go\n",
    "check_exists(\n",
    "    fc_list = [input_fc],\n",
    "    workspace=workspace\n",
    "    )"
   ]
  },
  {
   "cell_type": "code",
   "execution_count": null,
   "metadata": {},
   "outputs": [],
   "source": [
    "Model7(output_enriched,output_standardized,input_fc)"
   ]
  }
 ],
 "metadata": {
  "kernelspec": {
   "display_name": "Python 3.9 (XPython)",
   "language": "python",
   "name": "xpython"
  },
  "language_info": {
   "name": "python",
   "version": "3.9.15 (main, Nov 24 2022, 14:39:17) [MSC v.1916 64 bit (AMD64)]"
  },
  "orig_nbformat": 4,
  "vscode": {
   "interpreter": {
    "hash": "ce4904bfce8e062eb0b3e875066e2d19a2f855b0a87bbd16c8c04933823b2820"
   }
  }
 },
 "nbformat": 4,
 "nbformat_minor": 2
}

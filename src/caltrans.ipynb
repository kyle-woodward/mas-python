{
 "cells": [
  {
   "cell_type": "code",
   "execution_count": 9,
   "metadata": {},
   "outputs": [],
   "source": [
    "import arcpy\n",
    "from scripts._6m_caltrans_activities import CalTrans\n",
    "from sys import argv\n",
    "from scripts.utils import init_gdb, check_exists, og_file_input\n",
    "import os\n",
    "import datetime\n",
    "original_gdb, workspace, scratch_workspace = init_gdb()\n",
    "\n",
    "# INPUTS\n",
    "# will need to download updated versions and update file names\n",
    "veg_pt = og_file_input(prefix = 'Vegetation_Control', filetype = 'Point', gdb = os.path.join(workspace, \"a_Originals\"))\n",
    "input_pts = os.path.join(workspace, \"a_Originals\", veg_pt)\n",
    "\n",
    "veg_poly = og_file_input(prefix = 'Vegetation_Control', filetype = 'Polyline', gdb = os.path.join(workspace, \"a_Originals\"))\n",
    "input_polys = os.path.join(workspace, \"a_Originals\", veg_poly)\n",
    "\n",
    "# OUTPUTS\n",
    "date_id = datetime.datetime.utcnow().strftime(\"%Y-%m-%d\").replace('-','') # like 20221216\n",
    "output_lines_standardized = os.path.join(workspace, \"c_standardized\", f'CalTrans_act_ln_standardized_{date_id}')\n",
    "output_points_standardized = os.path.join(workspace, \"c_standardized\", f'CalTrans_act_pts_standardized_{date_id}')\n",
    "output_points_enriched = os.path.join(workspace, \"d_Enriched\",f'CalTrans_act_pts_enriched_{date_id}') \n",
    "output_lines_enriched = os.path.join(workspace, \"d_Enriched\",f'CalTrans_act_ln_enriched_{date_id}') \n",
    "\n",
    "# Check that all your datasets exist before you start, \n",
    "# if nothing is printed out you're good to go\n",
    "check_exists(\n",
    "    fc_list = [input_pts,\n",
    "                input_polys],\n",
    "    workspace=workspace\n",
    "    )"
   ]
  },
  {
   "cell_type": "code",
   "execution_count": null,
   "metadata": {},
   "outputs": [],
   "source": [
    "CalTrans(input_pts, input_polys, output_lines_standardized, output_points_standardized, output_points_enriched, output_lines_enriched)"
   ]
  }
 ],
 "metadata": {
  "kernelspec": {
   "display_name": "arcgispro-py3",
   "language": "python",
   "name": "python3"
  },
  "language_info": {
   "codemirror_mode": {
    "name": "ipython",
    "version": 3
   },
   "file_extension": ".py",
   "mimetype": "text/x-python",
   "name": "python",
   "nbconvert_exporter": "python",
   "pygments_lexer": "ipython3",
   "version": "3.9.11 [MSC v.1931 64 bit (AMD64)]"
  },
  "orig_nbformat": 4,
  "vscode": {
   "interpreter": {
    "hash": "dfb7d5aaaca8a37c535d5c4c194ece0961ab7c6e47ef736ca548aab41e0510e3"
   }
  }
 },
 "nbformat": 4,
 "nbformat_minor": 2
}

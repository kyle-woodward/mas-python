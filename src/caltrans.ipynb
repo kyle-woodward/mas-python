{
 "cells": [
  {
   "cell_type": "code",
   "execution_count": 5,
   "metadata": {},
   "outputs": [],
   "source": [
    "import arcpy\n",
    "from scripts._6m_caltrans_activities import CalTrans\n",
    "from sys import argv\n",
    "from scripts.utils import init_gdb, check_exists, og_file_input\n",
    "import os\n",
    "import datetime\n",
    "original_gdb, workspace, scratch_workspace = init_gdb()\n",
    "\n",
    "# INPUTS\n",
    "# will need to download updated versions and update file names\n",
    "veg_pt = og_file_input(prefix = 'Vegetation_Control_', filetype = 'Point', gdb = os.path.join(workspace, \"a_Originals\"))\n",
    "input_pts = os.path.join(workspace, \"a_Originals\", veg_pt)\n",
    "\n",
    "veg_poly = og_file_input(prefix = 'Vegetation_Control_', filetype = 'Polyline', gdb = os.path.join(workspace, \"a_Originals\"))\n",
    "input_polys = os.path.join(workspace, \"a_Originals\", veg_poly)\n",
    "\n",
    "# OUTPUTS\n",
    "date_id = datetime.datetime.now().strftime(\"%Y-%m-%d\").replace('-','') # like 20221216\n",
    "output_lines_standardized = os.path.join(workspace, \"c_standardized\", f'CalTrans_act_ln_standardized_{date_id}')\n",
    "output_points_standardized = os.path.join(workspace, \"c_standardized\", f'CalTrans_act_pts_standardized_{date_id}')\n",
    "output_points_enriched = os.path.join(workspace, \"d_Enriched\",f'CalTrans_act_pts_enriched_{date_id}') \n",
    "output_lines_enriched = os.path.join(workspace, \"d_Enriched\",f'CalTrans_act_ln_enriched_{date_id}') "
   ]
  },
  {
   "cell_type": "code",
   "execution_count": null,
   "metadata": {},
   "outputs": [],
   "source": [
    "CalTrans(input_pts, input_polys, output_lines_standardized, output_points_standardized, output_points_enriched, output_lines_enriched)"
   ]
  }
 ],
 "metadata": {
  "kernelspec": {
   "display_name": "arcgispro-py3-30",
   "language": "python",
   "name": "python3"
  },
  "language_info": {
   "codemirror_mode": {
    "name": "ipython",
    "version": 3
   },
   "file_extension": ".py",
   "mimetype": "text/x-python",
   "name": "python",
   "nbconvert_exporter": "python",
   "pygments_lexer": "ipython3",
   "version": "3.9.11 [MSC v.1931 64 bit (AMD64)]"
  },
  "vscode": {
   "interpreter": {
    "hash": "4e1abec938aa564085d88d5729e577a09a090f84c8252c84527a9a845926d2eb"
   }
  }
 },
 "nbformat": 4,
 "nbformat_minor": 4
}

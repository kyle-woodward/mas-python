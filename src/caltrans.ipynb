{
 "cells": [
  {
   "cell_type": "code",
   "execution_count": 1,
   "metadata": {},
   "outputs": [
    {
     "name": "stdout",
     "output_type": "stream",
     "text": [
      "Available for schema lock: C:/Users/sageg/Documents/ArcGIS/Projects/PC414 CWI Million Acres/1-Spatial Data/CalTrans/Caltrans_Vegetation_Management_Program_20230614.gdb/VMP_Highway_Summary_2021\n",
      "Available for schema lock: C:/Users/sageg/Documents/ArcGIS/Projects/PC414 CWI Million Acres/1-Spatial Data/CalTrans/Caltrans_Vegetation_Management_Program_20230614.gdb/VMP_Highway_Summary_2022\n",
      "Available for schema lock: C:/Users/sageg/Documents/ArcGIS/Projects/PC414 CWI Million Acres/1-Spatial Data/CalTrans/ITS CalTrans 20230711.gdb/VMP_Activities_Table_2021_Closeout_Date_Added\n",
      "Available for schema lock: C:/Users/sageg/Documents/ArcGIS/Projects/PC414 CWI Million Acres/1-Spatial Data/CalTrans/ITS CalTrans 20230711.gdb/VMP_Activities_Table_2022_Closeout_Date_Added\n",
      "Available for schema lock: c:\\Users\\sageg\\source\\repos\\mas-python\\PC414 CWI Million Acres.gdb\\c_Standardized\\CalTrans_act_ln_standardized_20230908\n",
      "Available for schema lock: c:\\Users\\sageg\\source\\repos\\mas-python\\PC414 CWI Million Acres.gdb\\d_Enriched\\CalTrans_act_ln_enriched_20230908\n"
     ]
    }
   ],
   "source": [
    "import arcpy\n",
    "from scripts._6m_caltrans_activities import CalTrans\n",
    "from sys import argv\n",
    "from scripts.utils import init_gdb, check_exists, og_file_input, check_schema_lock\n",
    "import os\n",
    "import datetime\n",
    "original_gdb, workspace, scratch_workspace = init_gdb()\n",
    "\n",
    "# INPUTS\n",
    "# will need to download updated versions and update file names\n",
    "\n",
    "# veg_poly = og_file_input(prefix = 'Vegetation_Control_', filetype = 'Polyline', gdb = os.path.join(workspace, \"a_Originals\"))\n",
    "# input_polys = os.path.join(workspace, \"a_Originals\", veg_poly)\n",
    "input_lines21 = 'C:/Users/sageg/Documents/ArcGIS/Projects/PC414 CWI Million Acres/1-Spatial Data/CalTrans/Caltrans_Vegetation_Management_Program_20230614.gdb/VMP_Highway_Summary_2021'\n",
    "input_lines22 = 'C:/Users/sageg/Documents/ArcGIS/Projects/PC414 CWI Million Acres/1-Spatial Data/CalTrans/Caltrans_Vegetation_Management_Program_20230614.gdb/VMP_Highway_Summary_2022'\n",
    "\n",
    "input_table21 = 'C:/Users/sageg/Documents/ArcGIS/Projects/PC414 CWI Million Acres/1-Spatial Data/CalTrans/ITS CalTrans 20230711.gdb/VMP_Activities_Table_2021_Closeout_Date_Added'\n",
    "input_table22 = 'C:/Users/sageg/Documents/ArcGIS/Projects/PC414 CWI Million Acres/1-Spatial Data/CalTrans/ITS CalTrans 20230711.gdb/VMP_Activities_Table_2022_Closeout_Date_Added'\n",
    "\n",
    "# OUTPUTS\n",
    "date_id = datetime.datetime.now().strftime(\"%Y-%m-%d\").replace('-','') # like 20230711\n",
    "output_lines_standardized = os.path.join(workspace, \"c_Standardized\", f'CalTrans_act_ln_standardized_{date_id}')\n",
    "output_lines_enriched = os.path.join(workspace, \"d_Enriched\",f'CalTrans_act_ln_enriched_{date_id}') \n",
    "\n",
    "check_schema_lock(input_lines21)\n",
    "check_schema_lock(input_lines22)\n",
    "check_schema_lock(input_table21)\n",
    "check_schema_lock(input_table22)\n",
    "check_schema_lock(output_lines_standardized)\n",
    "check_schema_lock(output_lines_enriched)"
   ]
  },
  {
   "cell_type": "code",
   "execution_count": 2,
   "metadata": {},
   "outputs": [
    {
     "name": "stdout",
     "output_type": "stream",
     "text": [
      "Start Time Fri Sep  8 19:57:35 2023\n",
      "     step 3/33 add join\n",
      "Appending Lines\n",
      "Performing Line Standardization\n",
      "Saving Output Lines Standardized: c:\\Users\\sageg\\source\\repos\\mas-python\\PC414 CWI Million Acres.gdb\\c_Standardized\\CalTrans_act_ln_standardized_20230908\n",
      "Performing Lines Enrichments\n",
      "Executing FeatureToPoint...\n",
      "Executing enrich_points...\n",
      "   step 28/34 Initiating Crosswalk...\n",
      "   Calculating Crosswalking Activites...\n",
      "     step 1/8 add join\n",
      "     step 2/8 calculate activities\n",
      "     step 3/8 calculate residue fate field\n",
      "     step 4/8 select attribute by layer\n",
      "     step 5/8 calculating objective...\n",
      "     step 6/8 calculate category\n",
      "     step 7/8 standardize domains\n",
      "     step 8/8 counts towards MAS\n",
      "   Crosswalk Complete, Continuing Enrichment...\n",
      "Performing Field Modifications...\n",
      "Creating New FC off of Template, Appending final output to it...\n",
      "Saving Output Lines Enriched: c:\\Users\\sageg\\source\\repos\\mas-python\\PC414 CWI Million Acres.gdb\\d_Enriched\\CalTrans_act_ln_enriched_20230908\n",
      "Time Elapsed: 17.51669297218323 minutes\n"
     ]
    }
   ],
   "source": [
    "CalTrans(input_lines21, input_lines22, input_table21, input_table22, output_lines_standardized, output_lines_enriched)"
   ]
  }
 ],
 "metadata": {
  "kernelspec": {
   "display_name": "arcgispro-py3-30",
   "language": "python",
   "name": "python3"
  },
  "language_info": {
   "codemirror_mode": {
    "name": "ipython",
    "version": 3
   },
   "file_extension": ".py",
   "mimetype": "text/x-python",
   "name": "python",
   "nbconvert_exporter": "python",
   "pygments_lexer": "ipython3",
   "version": "3.9.16"
  },
  "vscode": {
   "interpreter": {
    "hash": "4e1abec938aa564085d88d5729e577a09a090f84c8252c84527a9a845926d2eb"
   }
  }
 },
 "nbformat": 4,
 "nbformat_minor": 4
}

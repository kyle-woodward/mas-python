{
 "cells": [
  {
   "cell_type": "code",
   "execution_count": 14,
   "metadata": {},
   "outputs": [],
   "source": [
    "import arcpy\n",
    "from sys import argv\n",
    "from scripts.utils import init_gdb\n",
    "import os\n",
    "import datetime"
   ]
  },
  {
   "cell_type": "code",
   "execution_count": 104,
   "metadata": {},
   "outputs": [],
   "source": [
    "def og_file_input(prefix:str, filetype:str, gdb):\n",
    "    \"\"\"\n",
    "    Finds input file in the \"a_Originals\" folder in the workspace\n",
    "    \n",
    "    args:\n",
    "\n",
    "    gdb: full file path to GDB from which you want to delete all files\n",
    "    \n",
    "    prefix: prefix of desired file\n",
    "\n",
    "    filetype: type of feature class desired (Point, Line, Polyline, Polygon, etc.)\n",
    "    \n",
    "    \"\"\"\n",
    "    arcpy.env.workspace = gdb\n",
    "    file_list = arcpy.ListFeatureClasses(feature_type = filetype)\n",
    "    files_w_prefix = []\n",
    "    for filename in file_list:\n",
    "        if filename.startswith(prefix):\n",
    "            files_w_prefix.append(filename) \n",
    "    files_w_prefix.sort(key = lambda x: x.split('_')[-1])\n",
    "    try:\n",
    "        most_recent = files_w_prefix[-1]\n",
    "        return most_recent\n",
    "    except IndexError:\n",
    "        print (\"FileNotFoundError: File with that file path & prefix does not exist\") "
   ]
  },
  {
   "cell_type": "code",
   "execution_count": 105,
   "metadata": {},
   "outputs": [],
   "source": [
    "\n",
    "original_gdb, workspace, scratch_workspace = init_gdb()\n",
    "\n",
    "date_id = datetime.datetime.utcnow().strftime(\"%Y-%m-%d\").replace('-','') # like 20221216\n",
    "\n",
    "# INPUTS\n",
    "# update input dataset as necessary\n",
    "test = og_file_input(prefix = 'PFIRS_', filetype = 'Point', gdb = os.path.join(workspace, \"d_Enriched\"))"
   ]
  },
  {
   "cell_type": "code",
   "execution_count": 106,
   "metadata": {},
   "outputs": [
    {
     "name": "stdout",
     "output_type": "stream",
     "text": [
      "PFIRS_enriched_20230106\n"
     ]
    }
   ],
   "source": [
    "print(test)"
   ]
  },
  {
   "cell_type": "code",
   "execution_count": null,
   "metadata": {},
   "outputs": [],
   "source": [
    "\n",
    "        else:"
   ]
  }
 ],
 "metadata": {
  "kernelspec": {
   "display_name": "Python 3",
   "language": "python",
   "name": "python3"
  },
  "language_info": {
   "codemirror_mode": {
    "name": "ipython",
    "version": 3
   },
   "file_extension": ".py",
   "mimetype": "text/x-python",
   "name": "python",
   "nbconvert_exporter": "python",
   "pygments_lexer": "ipython3",
   "version": "3.9.11"
  },
  "vscode": {
   "interpreter": {
    "hash": "dfb7d5aaaca8a37c535d5c4c194ece0961ab7c6e47ef736ca548aab41e0510e3"
   }
  }
 },
 "nbformat": 4,
 "nbformat_minor": 4
}

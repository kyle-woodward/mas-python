{
 "cells": [
  {
   "cell_type": "code",
   "execution_count": 1,
   "metadata": {},
   "outputs": [
    {
     "name": "stdout",
     "output_type": "stream",
     "text": [
      "Available for schema lock: c:\\Users\\sageg\\source\\repos\\mas-python\\PC414 CWI Million Acres Testing.gdb\\a_Originals\\usfs_facts_edw_common_test\n",
      "Available for schema lock: c:\\Users\\sageg\\source\\repos\\mas-python\\PC414 CWI Million Acres Testing.gdb\\c_Standardized\\usfs_edw_facts_common_attributes_standardized_20230831\n",
      "Available for schema lock: c:\\Users\\sageg\\source\\repos\\mas-python\\PC414 CWI Million Acres Testing.gdb\\d_Enriched\\usfs_edw_facts_common_attributes_enriched2_20230831\n"
     ]
    }
   ],
   "source": [
    "\"\"\"\n",
    "# Description: Converts the U.S. Forest Service EDW FACTS Common Attributes dataset \n",
    "#              into the Task Force standardized schema.  Dataset\n",
    "#              is enriched with vegetation, ownership, county, WUI, \n",
    "#              Task Force Region, and year.            \n",
    "# Author: Spatial Informatics Group LLC\n",
    "# Version: 1.0.0\n",
    "# Date Created: Jan 24, 2024\n",
    "\"\"\"\n",
    "import os\n",
    "import datetime\n",
    "import arcpy\n",
    "from scripts._3_USFS import Model_USFS\n",
    "from scripts.utils import init_gdb, check_schema_lock\n",
    "\n",
    "workspace, scratch_workspace = init_gdb()\n",
    "\n",
    "date_id = datetime.datetime.now().strftime(\"%Y-%m-%d\").replace('-','') # like 20221216\n",
    "\n",
    "# INPUTS\n",
    "# will need to be downloaded from here https://apps.fs.usda.gov/arcx/rest/services/EDW/EDW_ActivityFactsCommonAttributes_01/MapServer/0\n",
    "# change path to the most updated inputs\n",
    "input_fc = os.path.join(workspace,'a_Originals','usfs_facts_edw_common_test')\n",
    "\n",
    "# OUTPUTS\n",
    "# output_standardized = os.path.join(workspace,'c_Standardized',f'usfs_edw_facts_common_attributes_standardized_{date_id}_test')\n",
    "# output_enriched = os.path.join(workspace,'d_Enriched',f'usfs_edw_facts_common_attributes_enriched_{date_id}_test')\n",
    "output_standardized = os.path.join(workspace,'c_Standardized',f'usfs_edw_facts_common_attributes_standardized_{date_id}')\n",
    "output_enriched = os.path.join(workspace,'d_Enriched',f'usfs_edw_facts_common_attributes_enriched2_{date_id}')\n",
    "\n",
    "data = arcpy.GetParameterAsText(0)\n",
    "\n",
    "# START and END YEARS\n",
    "startyear = 2020\n",
    "endyear = 2025\n",
    "\n",
    "check_schema_lock(input_fc)\n",
    "check_schema_lock(output_standardized)\n",
    "check_schema_lock(output_enriched)"
   ]
  },
  {
   "cell_type": "code",
   "execution_count": 2,
   "metadata": {},
   "outputs": [
    {
     "name": "stdout",
     "output_type": "stream",
     "text": [
      "Start Time Thu Aug 31 09:27:12 2023\n",
      "Performing Standardization...\n",
      "   step 1/8 Selecting Features...\n",
      "   step 2/8 Repairing Geometry...\n",
      "   step 3/8 Adding Fields...\n",
      "   step 4/8 Transfering Attributes...\n",
      "   step 5/8 Calculating End Date...\n",
      "   step 6/8 Calculating Status...\n",
      "   step 7/8 Activity Quantity...\n",
      "   step 8/8 Enter Field Values...\n",
      "Saving Standardized Output: c:\\Users\\sageg\\source\\repos\\mas-python\\PC414 CWI Million Acres Testing.gdb\\c_Standardized\\usfs_edw_facts_common_attributes_standardized_20230831\n",
      "Executing Polygon Enrichments...\n",
      "   Calculating Broad Vegetation Type...\n",
      "     step 1/34 summarize veg within polygons\n",
      "     step 2/34 summarize attributes\n",
      "     step 3/34 add join\n",
      "     step 4/34 convert table to table\n",
      "     step 5/34 delete identical\n",
      "c:\\Users\\sageg\\source\\repos\\mas-python\\scratch.gdb\\WHR13NAME_Summary_temp has 9 records\n",
      "     step 6/34 add join\n",
      "     step 7/34 select layer by attribute\n",
      "     step 8/34 calculate user defined veg field yes\n",
      "     step 9/34 select layer by attribute\n",
      "     step 10/34 calculate veg domain code\n",
      "     step 11/34 calculate user defined veg field no\n",
      "     step 12/34 remove join\n",
      "Veg_Summarized_Polygons_Laye has 9 records\n",
      "   Calculating WUI...\n",
      "     step 13/34 select layer by attribute\n",
      "     step 14/34 select layer by WUI location\n",
      "     step 15/34 calculate WUI yes\n",
      "     step 16/34 select layer by attribute\n",
      "     step 17/34 calculate WUI no\n",
      "     step 18/34 clear selection\n",
      "Veg_Summarized_Polygons_Laye has 9 records\n",
      "     step 19/34 feature to point\n",
      "   Calculating Ownership, Counties, and Regions...\n",
      "     step 20/34 spatial join\n",
      "     step 21/34 spatial join\n",
      "     step 22/34 add join\n",
      "     step 23/34 calculate ownership field\n",
      "     step 24/34 calculate county field\n",
      "     step 25/34 calculate region field\n",
      "     step 26/34 remove join\n",
      "GPLYR_{B4B93739-1FCB-4EFE-BE4A-BB467FA73F99} has 9 records\n",
      "     step 27/34 Calculating Years...\n",
      "   step 28/34 Initiating Crosswalk...\n",
      "   Calculating Crosswalking Activites...\n",
      "     step 1/8 add join\n",
      "     step 2/8 calculate activities\n",
      "     step 3/8 calculate residue fate field\n",
      "     step 4/8 select attribute by layer\n",
      "     step 5/8 calculating objective...\n",
      "     step 6/8 calculate category\n",
      "     step 7/8 standardize domains\n",
      "     step 8/8 counts towards MAS\n",
      "   Crosswalk Complete, Continuing Enrichment...\n",
      "GPLYR_{B4B93739-1FCB-4EFE-BE4A-BB467FA73F99} has 9 records\n",
      "     step 29/34 Calculating Latitude and Longitude...\n",
      "     step 30/34 calculate treatment acres\n",
      "     step 31/34 removing unnecessary fields\n",
      "GPLYR_{B4B93739-1FCB-4EFE-BE4A-BB467FA73F99} has 9 records\n",
      "     step 33/34 delete if County is Null\n",
      "     step 34/34 delete scratch files\n",
      "Enrich Polygons Complete...\n",
      "Saving Enriched Output: c:\\Users\\sageg\\source\\repos\\mas-python\\PC414 CWI Million Acres Testing.gdb\\d_Enriched\\usfs_edw_facts_common_attributes_enriched2_20230831\n",
      "Time Elapsed: 3.507139766216278 minutes\n"
     ]
    }
   ],
   "source": [
    "Model_USFS(output_enriched,output_standardized,input_fc, startyear, endyear)"
   ]
  }
 ],
 "metadata": {
  "kernelspec": {
   "display_name": "arcgispro-py3",
   "language": "python",
   "name": "python3"
  },
  "language_info": {
   "codemirror_mode": {
    "name": "ipython",
    "version": 3
   },
   "file_extension": ".py",
   "mimetype": "text/x-python",
   "name": "python",
   "nbconvert_exporter": "python",
   "pygments_lexer": "ipython3",
   "version": "3.9.18"
  },
  "orig_nbformat": 4
 },
 "nbformat": 4,
 "nbformat_minor": 2
}

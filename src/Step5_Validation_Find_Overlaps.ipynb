{
 "cells": [
  {
   "cell_type": "code",
   "execution_count": 1,
   "metadata": {},
   "outputs": [
    {
     "name": "stdout",
     "output_type": "stream",
     "text": [
      "Available for schema lock: c:\\Users\\sageg\\source\\repos\\mas-python\\PC414 CWI Million Acres.gdb\\e_Appended\\Treat_n_harvests_polygons_20230822\n",
      "Dataset does not exist: c:\\Users\\sageg\\source\\repos\\mas-python\\PC414 CWI Million Acres.gdb\\h_Duplicates\\treat_n_harvests_polygons_20230822_duplicates_marked_20240117\n"
     ]
    }
   ],
   "source": [
    "\"\"\"\n",
    "# Description: This is the start of the dataset validation scripts.\n",
    "#              This script and following scripts are not complete.\n",
    "#               \n",
    "#              \n",
    "# Author: Spatial Informatics Group LLC\n",
    "# Version: 1.0.0\n",
    "# Date Created: Jan 24, 2024\n",
    "\"\"\"\n",
    "from scripts.utils import init_gdb, check_schema_lock\n",
    "import os\n",
    "import datetime\n",
    "import arcpy\n",
    "# from scripts._6a_usfs_common_attributes import Model_USFS\n",
    "workspace, scratch_workspace = init_gdb()\n",
    "\n",
    "date_id = datetime.datetime.now().strftime(\"%Y-%m-%d\").replace('-','') # like 20221216\n",
    "\n",
    "# INPUTS\n",
    "input_fc = os.path.join(workspace,'e_Appended','Treat_n_harvests_polygons_20230822')\n",
    "\n",
    "# OUTPUTS\n",
    "output_fc = os.path.join(workspace,'h_Duplicates',f'treat_n_harvests_polygons_20230822_duplicates_marked_{date_id}')\n",
    "\n",
    "data = arcpy.GetParameterAsText(0)\n",
    "\n",
    "# START and END YEARS\n",
    "startyear = 2020\n",
    "endyear = 2023\n",
    "\n",
    "check_schema_lock(input_fc)\n",
    "check_schema_lock(output_fc)\n"
   ]
  },
  {
   "cell_type": "code",
   "execution_count": 2,
   "metadata": {},
   "outputs": [
    {
     "ename": "SyntaxError",
     "evalue": "invalid syntax (972775864.py, line 12)",
     "output_type": "error",
     "traceback": [
      "\u001b[1;36m  File \u001b[1;32m\"C:\\Users\\sageg\\AppData\\Local\\Temp\\ipykernel_73488\\972775864.py\"\u001b[1;36m, line \u001b[1;32m12\u001b[0m\n\u001b[1;33m    for value in Years\u001b[0m\n\u001b[1;37m                      ^\u001b[0m\n\u001b[1;31mSyntaxError\u001b[0m\u001b[1;31m:\u001b[0m invalid syntax\n"
     ]
    }
   ],
   "source": [
    "# def Model_Overlaps(output_enriched, output_standardized, input_fc):\n",
    "start = time.time()\n",
    "print(f'Start Time {time.ctime()}')\n",
    "arcpy.env.overwriteOutput = True\n",
    "    \n",
    "# START and END YEARS\n",
    "Years = [2020, 2021, 2022, 2023]:\n",
    "\n",
    "# define intermediary objects in scratch\n",
    "overlap_intermediate_scratch = os.path.join(scratch_workspace,'overlap_intermediate_scratch')\n",
    "\n",
    "for value in Years\n",
    "    select_year = arcpy.management.SelectLayerByAttribute(\n",
    "        in_layer_or_view=input_fc, \n",
    "        selection_type=\"NEW_SELECTION\", \n",
    "        where_clause=\"Year = \" value, \n",
    "        invert_where_clause=\"\"\n",
    "        )"
   ]
  }
 ],
 "metadata": {
  "kernelspec": {
   "display_name": "arcgispro-py3",
   "language": "python",
   "name": "python3"
  },
  "language_info": {
   "codemirror_mode": {
    "name": "ipython",
    "version": 3
   },
   "file_extension": ".py",
   "mimetype": "text/x-python",
   "name": "python",
   "nbconvert_exporter": "python",
   "pygments_lexer": "ipython3",
   "version": "3.9.18"
  },
  "orig_nbformat": 4
 },
 "nbformat": 4,
 "nbformat_minor": 2
}

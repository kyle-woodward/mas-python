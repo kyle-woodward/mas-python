{
 "cells": [
  {
   "cell_type": "code",
   "execution_count": 3,
   "metadata": {},
   "outputs": [
    {
     "name": "stdout",
     "output_type": "stream",
     "text": [
      "FileNotFoundError: File with that file path & prefix does not exist\n"
     ]
    },
    {
     "ename": "TypeError",
     "evalue": "join() argument must be str, bytes, or os.PathLike object, not 'NoneType'",
     "output_type": "error",
     "traceback": [
      "\u001b[1;31m---------------------------------------------------------------------------\u001b[0m",
      "\u001b[1;31mTypeError\u001b[0m                                 Traceback (most recent call last)",
      "\u001b[1;32m<ipython-input-3-1b87acf54711>\u001b[0m in \u001b[0;36m<module>\u001b[1;34m\u001b[0m\n\u001b[0;32m     11\u001b[0m \u001b[1;31m# downloaded with Dan's Download Service script tool from the below web service URLS, will need to re-download for updates\u001b[0m\u001b[1;33m\u001b[0m\u001b[1;33m\u001b[0m\u001b[0m\n\u001b[0;32m     12\u001b[0m \u001b[0mbia_poly\u001b[0m \u001b[1;33m=\u001b[0m \u001b[0mog_file_input\u001b[0m\u001b[1;33m(\u001b[0m\u001b[0mprefix\u001b[0m \u001b[1;33m=\u001b[0m \u001b[1;34m'NFPORSCurrentFYTreatmentsBIA'\u001b[0m\u001b[1;33m,\u001b[0m \u001b[0mfiletype\u001b[0m \u001b[1;33m=\u001b[0m \u001b[1;34m'Polygon'\u001b[0m\u001b[1;33m,\u001b[0m \u001b[0mgdb\u001b[0m \u001b[1;33m=\u001b[0m \u001b[0mos\u001b[0m\u001b[1;33m.\u001b[0m\u001b[0mpath\u001b[0m\u001b[1;33m.\u001b[0m\u001b[0mjoin\u001b[0m\u001b[1;33m(\u001b[0m\u001b[0mworkspace\u001b[0m\u001b[1;33m,\u001b[0m \u001b[1;34m\"a_Originals\"\u001b[0m\u001b[1;33m)\u001b[0m\u001b[1;33m)\u001b[0m\u001b[1;33m\u001b[0m\u001b[1;33m\u001b[0m\u001b[0m\n\u001b[1;32m---> 13\u001b[1;33m \u001b[0minput_original_pts_BIA\u001b[0m \u001b[1;33m=\u001b[0m \u001b[0mos\u001b[0m\u001b[1;33m.\u001b[0m\u001b[0mpath\u001b[0m\u001b[1;33m.\u001b[0m\u001b[0mjoin\u001b[0m\u001b[1;33m(\u001b[0m\u001b[0mworkspace\u001b[0m\u001b[1;33m,\u001b[0m\u001b[1;34m'a_Originals'\u001b[0m\u001b[1;33m,\u001b[0m\u001b[0mbia_poly\u001b[0m\u001b[1;33m)\u001b[0m \u001b[1;31m# https://usgs.nfpors.gov/arcgis/rest/services/nfpors_WM/MapServer/1\u001b[0m\u001b[1;33m\u001b[0m\u001b[1;33m\u001b[0m\u001b[0m\n\u001b[0m\u001b[0;32m     14\u001b[0m \u001b[1;33m\u001b[0m\u001b[0m\n\u001b[0;32m     15\u001b[0m \u001b[0mfws_poly\u001b[0m \u001b[1;33m=\u001b[0m \u001b[0mog_file_input\u001b[0m\u001b[1;33m(\u001b[0m\u001b[0mprefix\u001b[0m \u001b[1;33m=\u001b[0m \u001b[1;34m'NFPORSCurrentFYTreatmentsFWS'\u001b[0m\u001b[1;33m,\u001b[0m \u001b[0mfiletype\u001b[0m \u001b[1;33m=\u001b[0m \u001b[1;34m'Polygon'\u001b[0m\u001b[1;33m,\u001b[0m \u001b[0mgdb\u001b[0m \u001b[1;33m=\u001b[0m \u001b[0mos\u001b[0m\u001b[1;33m.\u001b[0m\u001b[0mpath\u001b[0m\u001b[1;33m.\u001b[0m\u001b[0mjoin\u001b[0m\u001b[1;33m(\u001b[0m\u001b[0mworkspace\u001b[0m\u001b[1;33m,\u001b[0m \u001b[1;34m\"a_Originals\"\u001b[0m\u001b[1;33m)\u001b[0m\u001b[1;33m)\u001b[0m\u001b[1;33m\u001b[0m\u001b[1;33m\u001b[0m\u001b[0m\n",
      "\u001b[1;32m~\\.conda\\envs\\arcgispro-py3\\lib\\ntpath.py\u001b[0m in \u001b[0;36mjoin\u001b[1;34m(path, *paths)\u001b[0m\n\u001b[0;32m    115\u001b[0m         \u001b[1;32mreturn\u001b[0m \u001b[0mresult_drive\u001b[0m \u001b[1;33m+\u001b[0m \u001b[0mresult_path\u001b[0m\u001b[1;33m\u001b[0m\u001b[1;33m\u001b[0m\u001b[0m\n\u001b[0;32m    116\u001b[0m     \u001b[1;32mexcept\u001b[0m \u001b[1;33m(\u001b[0m\u001b[0mTypeError\u001b[0m\u001b[1;33m,\u001b[0m \u001b[0mAttributeError\u001b[0m\u001b[1;33m,\u001b[0m \u001b[0mBytesWarning\u001b[0m\u001b[1;33m)\u001b[0m\u001b[1;33m:\u001b[0m\u001b[1;33m\u001b[0m\u001b[1;33m\u001b[0m\u001b[0m\n\u001b[1;32m--> 117\u001b[1;33m         \u001b[0mgenericpath\u001b[0m\u001b[1;33m.\u001b[0m\u001b[0m_check_arg_types\u001b[0m\u001b[1;33m(\u001b[0m\u001b[1;34m'join'\u001b[0m\u001b[1;33m,\u001b[0m \u001b[0mpath\u001b[0m\u001b[1;33m,\u001b[0m \u001b[1;33m*\u001b[0m\u001b[0mpaths\u001b[0m\u001b[1;33m)\u001b[0m\u001b[1;33m\u001b[0m\u001b[1;33m\u001b[0m\u001b[0m\n\u001b[0m\u001b[0;32m    118\u001b[0m         \u001b[1;32mraise\u001b[0m\u001b[1;33m\u001b[0m\u001b[1;33m\u001b[0m\u001b[0m\n\u001b[0;32m    119\u001b[0m \u001b[1;33m\u001b[0m\u001b[0m\n",
      "\u001b[1;32m~\\.conda\\envs\\arcgispro-py3\\lib\\genericpath.py\u001b[0m in \u001b[0;36m_check_arg_types\u001b[1;34m(funcname, *args)\u001b[0m\n\u001b[0;32m    150\u001b[0m             \u001b[0mhasbytes\u001b[0m \u001b[1;33m=\u001b[0m \u001b[1;32mTrue\u001b[0m\u001b[1;33m\u001b[0m\u001b[1;33m\u001b[0m\u001b[0m\n\u001b[0;32m    151\u001b[0m         \u001b[1;32melse\u001b[0m\u001b[1;33m:\u001b[0m\u001b[1;33m\u001b[0m\u001b[1;33m\u001b[0m\u001b[0m\n\u001b[1;32m--> 152\u001b[1;33m             raise TypeError(f'{funcname}() argument must be str, bytes, or '\n\u001b[0m\u001b[0;32m    153\u001b[0m                             f'os.PathLike object, not {s.__class__.__name__!r}') from None\n\u001b[0;32m    154\u001b[0m     \u001b[1;32mif\u001b[0m \u001b[0mhasstr\u001b[0m \u001b[1;32mand\u001b[0m \u001b[0mhasbytes\u001b[0m\u001b[1;33m:\u001b[0m\u001b[1;33m\u001b[0m\u001b[1;33m\u001b[0m\u001b[0m\n",
      "\u001b[1;31mTypeError\u001b[0m: join() argument must be str, bytes, or os.PathLike object, not 'NoneType'"
     ]
    }
   ],
   "source": [
    "from scripts.utils import init_gdb, check_exists, og_file_input\n",
    "import os\n",
    "import datetime\n",
    "from scripts._6g_nfpors_haz_fuels_treatments import Model71\n",
    "original_gdb, workspace, scratch_workspace = init_gdb()\n",
    "\n",
    "# INPUTS\n",
    "# The input originals must be downloaded from external source, and their paths updated here\n",
    "nfpors_poly = og_file_input(prefix = 'nfpors_fuels_treatments_', filetype = 'Polygon', gdb = os.path.join(workspace, \"a_Originals\"))\n",
    "input_original_polys = os.path.join(workspace,'a_Originals',nfpors_poly)\n",
    "# downloaded with Dan's Download Service script tool from the below web service URLS, will need to re-download for updates\n",
    "bia_poly = og_file_input(prefix = 'NFPORSCurrentFYTreatmentsBIA', filetype = 'Polygon', gdb = os.path.join(workspace, \"a_Originals\"))\n",
    "input_original_pts_BIA = os.path.join(workspace,'a_Originals',bia_poly) # https://usgs.nfpors.gov/arcgis/rest/services/nfpors_WM/MapServer/1\n",
    "\n",
    "fws_poly = og_file_input(prefix = 'NFPORSCurrentFYTreatmentsFWS', filetype = 'Polygon', gdb = os.path.join(workspace, \"a_Originals\"))\n",
    "input_original_pts_FWS = os.path.join(workspace,'a_Originals',fws_poly) # https://usgs.nfpors.gov/arcgis/rest/services/nfpors_WM/MapServer/5\n",
    "\n",
    "# OUTPUTS\n",
    "# these are setup to output new 'timestamped' outputs\n",
    "date_id = datetime.datetime.utcnow().strftime(\"%Y-%m-%d\").replace('-','') # like 20221216\n",
    "output_original_polys = os.path.join(workspace,'a_Originals',f'nfpors_current_fy_{date_id}') # created from aggregating input_original_pts_BIA and input_original_pts_FWS \n",
    "output_pts_standardized = os.path.join(workspace,'c_Standardized',f'nfpors_fuels_treatments_pts_standardized_{date_id}')\n",
    "output_pts_enriched = os.path.join(workspace, 'd_Enriched',f'nfpors_fuels_treatments_pts_enriched_{date_id}')\n",
    "output_polys_standardized = os.path.join(workspace,'c_Standardized',f'nfpors_fuels_treatments_polys_standardized_{date_id}')\n",
    "output_polys_enriched = os.path.join(workspace,'d_Enriched',f'nfpors_fuels_treatments_polys_enriched_{date_id}')\n",
    "\n",
    "# Check that all your input datasets exist before you start, \n",
    "# if nothing is printed out you're good to go\n",
    "check_exists(\n",
    "    fc_list = [input_original_polys,\n",
    "                input_original_pts_BIA,\n",
    "                input_original_pts_FWS\n",
    "                ],\n",
    "    workspace=workspace\n",
    "    )"
   ]
  },
  {
   "cell_type": "code",
   "execution_count": null,
   "metadata": {},
   "outputs": [],
   "source": [
    "Model71(input_original_polys,\n",
    "input_original_pts_BIA, \n",
    "input_original_pts_FWS, \n",
    "output_original_polys, \n",
    "output_polys_standardized, \n",
    "output_polys_enriched, \n",
    "output_pts_standardized, \n",
    "output_pts_enriched\n",
    ")"
   ]
  }
 ],
 "metadata": {
  "kernelspec": {
   "display_name": "Python 3",
   "language": "python",
   "name": "python3"
  },
  "language_info": {
   "codemirror_mode": {
    "name": "ipython",
    "version": 3
   },
   "file_extension": ".py",
   "mimetype": "text/x-python",
   "name": "python",
   "nbconvert_exporter": "python",
   "pygments_lexer": "ipython3",
   "version": "3.9.11"
  },
  "vscode": {
   "interpreter": {
    "hash": "dfb7d5aaaca8a37c535d5c4c194ece0961ab7c6e47ef736ca548aab41e0510e3"
   }
  }
 },
 "nbformat": 4,
 "nbformat_minor": 4
}

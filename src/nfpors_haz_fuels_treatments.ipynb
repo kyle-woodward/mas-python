{
 "cells": [
  {
   "cell_type": "code",
   "execution_count": null,
   "metadata": {},
   "outputs": [],
   "source": [
    "from scripts.utils import init_gdb, check_exists, og_file_input\n",
    "import os\n",
    "import datetime\n",
    "from scripts._6g_nfpors_haz_fuels_treatments import Model_NFPORS\n",
    "original_gdb, workspace, scratch_workspace = init_gdb()\n",
    "\n",
    "# INPUTS\n",
    "# The input originals must be downloaded from external source, and their paths updated here\n",
    "nfpors_poly = og_file_input(prefix = 'nfpors_fuels_treatments_', filetype = 'Polygon', gdb = os.path.join(workspace, \"a_Originals\"))\n",
    "input_original_polys = os.path.join(workspace,'a_Originals',nfpors_poly)\n",
    "# downloaded with Dan's Download Service script tool from the below web service URLS, will need to re-download for updates\n",
    "bia_poly = og_file_input(prefix = 'NFPORSCurrentFYTreatmentsBIA', filetype = 'Point', gdb = os.path.join(workspace, \"a_Originals\"))\n",
    "input_original_pts_BIA = os.path.join(workspace,'a_Originals',bia_poly) # https://usgs.nfpors.gov/arcgis/rest/services/nfpors_WM/MapServer/1\n",
    "\n",
    "fws_poly = og_file_input(prefix = 'NFPORSCurrentFYTreatmentsFWS', filetype = 'Point', gdb = os.path.join(workspace, \"a_Originals\"))\n",
    "input_original_pts_FWS = os.path.join(workspace,'a_Originals',fws_poly) # https://usgs.nfpors.gov/arcgis/rest/services/nfpors_WM/MapServer/5\n",
    "\n",
    "# OUTPUTS\n",
    "# these are setup to output new 'timestamped' outputs\n",
    "date_id = datetime.datetime.now().strftime(\"%Y-%m-%d\").replace('-','') # like 20221216\n",
    "output_original_polys = os.path.join(workspace,'a_Originals',f'nfpors_current_fy_{date_id}') # created from aggregating input_original_pts_BIA and input_original_pts_FWS \n",
    "output_pts_standardized = os.path.join(workspace,'c_Standardized',f'nfpors_fuels_treatments_pts_standardized_{date_id}')\n",
    "output_pts_enriched = os.path.join(workspace, 'd_Enriched',f'nfpors_fuels_treatments_pts_enriched_{date_id}')\n",
    "output_polys_standardized = os.path.join(workspace,'c_Standardized',f'nfpors_fuels_treatments_polys_standardized_{date_id}')\n",
    "output_polys_enriched = os.path.join(workspace,'d_Enriched',f'nfpors_fuels_treatments_polys_enriched_{date_id}')"
   ]
  },
  {
   "cell_type": "code",
   "execution_count": null,
   "metadata": {},
   "outputs": [],
   "source": [
    "Model_NFPORS(input_original_polys,\n",
    "    input_original_pts_BIA, \n",
    "    input_original_pts_FWS, \n",
    "    output_original_polys, \n",
    "    output_polys_standardized, \n",
    "    output_polys_enriched, \n",
    "    output_pts_standardized, \n",
    "    output_pts_enriched\n",
    ")"
   ]
  }
 ],
 "metadata": {
  "kernelspec": {
   "display_name": "arcgispro-py3-30",
   "language": "python",
   "name": "python3"
  },
  "language_info": {
   "codemirror_mode": {
    "name": "ipython",
    "version": 3
   },
   "file_extension": ".py",
   "mimetype": "text/x-python",
   "name": "python",
   "nbconvert_exporter": "python",
   "pygments_lexer": "ipython3",
   "version": "3.9.11"
  },
  "vscode": {
   "interpreter": {
    "hash": "4e1abec938aa564085d88d5729e577a09a090f84c8252c84527a9a845926d2eb"
   }
  }
 },
 "nbformat": 4,
 "nbformat_minor": 4
}

{
 "cells": [
  {
   "cell_type": "code",
   "execution_count": null,
   "metadata": {},
   "outputs": [],
   "source": [
    "from scripts.utils import init_gdb, check_exists, og_file_input\n",
    "import os\n",
    "import datetime\n",
    "from scripts._6g_nfpors_haz_fuels_treatments import Model71\n",
    "original_gdb, workspace, scratch_workspace = init_gdb()\n",
    "\n",
    "# INPUTS\n",
    "# The input originals must be downloaded from external source, and their paths updated here\n",
    "nfpors_poly = og_file_input(prefix = 'nfpors_fuels', filetype = 'Polygon', gdb = os.path.join(workspace, \"a_Originals\"))\n",
    "input_original_polys = os.path.join(workspace,'a_Originals',nfpors_poly)\n",
    "# downloaded with Dan's Download Service script tool from the below web service URLS, will need to re-download for updates\n",
    "input_original_pts_BIA = os.path.join(workspace,'a_Originals','NFPORSCurrentFYTreatmentsBIA') # https://usgs.nfpors.gov/arcgis/rest/services/nfpors_WM/MapServer/1\n",
    "input_original_pts_FWS = os.path.join(workspace,'a_Originals','NFPORSCurrentFYTreatmentsFWS') # https://usgs.nfpors.gov/arcgis/rest/services/nfpors_WM/MapServer/5\n",
    "\n",
    "# OUTPUTS\n",
    "# these are setup to output new 'timestamped' outputs\n",
    "date_id = datetime.datetime.utcnow().strftime(\"%Y-%m-%d\").replace('-','') # like 20221216\n",
    "output_original_polys = os.path.join(workspace,'a_Originals',f'nfpors_current_fy_{date_id}') # created from aggregating input_original_pts_BIA and input_original_pts_FWS \n",
    "output_pts_standardized = os.path.join(workspace,'c_Standardized',f'nfpors_fuels_treatments_pts_standardized_{date_id}')\n",
    "output_pts_enriched = os.path.join(workspace, 'd_Enriched',f'nfpors_fuels_treatments_pts_enriched_{date_id}')\n",
    "output_polys_standardized = os.path.join(workspace,'c_Standardized',f'nfpors_fuels_treatments_polys_standardized_{date_id}')\n",
    "output_polys_enriched = os.path.join(workspace,'d_Enriched',f'nfpors_fuels_treatments_polys_enriched_{date_id}')\n",
    "\n",
    "# Check that all your input datasets exist before you start, \n",
    "# if nothing is printed out you're good to go\n",
    "check_exists(\n",
    "    fc_list = [input_original_polys,\n",
    "                input_original_pts_BIA,\n",
    "                input_original_pts_FWS\n",
    "                ],\n",
    "    workspace=workspace\n",
    "    )"
   ]
  },
  {
   "cell_type": "code",
   "execution_count": null,
   "metadata": {},
   "outputs": [],
   "source": [
    "Model71(input_original_polys,\n",
    "input_original_pts_BIA, \n",
    "input_original_pts_FWS, \n",
    "output_original_polys, \n",
    "output_polys_standardized, \n",
    "output_polys_enriched, \n",
    "output_pts_standardized, \n",
    "output_pts_enriched\n",
    ")"
   ]
  }
 ],
 "metadata": {
  "kernelspec": {
   "display_name": "arcgispro-py3",
   "language": "python",
   "name": "python3"
  },
  "language_info": {
   "codemirror_mode": {
    "name": "ipython",
    "version": 3
   },
   "file_extension": ".py",
   "mimetype": "text/x-python",
   "name": "python",
   "nbconvert_exporter": "python",
   "pygments_lexer": "ipython3",
   "version": "3.9.11 [MSC v.1931 64 bit (AMD64)]"
  },
  "orig_nbformat": 4,
  "vscode": {
   "interpreter": {
    "hash": "dfb7d5aaaca8a37c535d5c4c194ece0961ab7c6e47ef736ca548aab41e0510e3"
   }
  }
 },
 "nbformat": 4,
 "nbformat_minor": 2
}

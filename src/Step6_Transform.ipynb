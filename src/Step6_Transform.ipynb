{
 "cells": [
  {
   "cell_type": "code",
   "execution_count": 1,
   "metadata": {},
   "outputs": [
    {
     "name": "stdout",
     "output_type": "stream",
     "text": [
      "Available for schema lock: c:\\Users\\sageg\\source\\repos\\mas-python\\Interagency Tracking System.gdb\\e_Transformed\\Project_poly_20240224\n",
      "Available for schema lock: c:\\Users\\sageg\\source\\repos\\mas-python\\Interagency Tracking System.gdb\\e_Transformed\\Treatment_poly_20240224\n",
      "Available for schema lock: c:\\Users\\sageg\\source\\repos\\mas-python\\Interagency Tracking System.gdb\\e_Transformed\\Treatments_pts_20240224\n",
      "Available for schema lock: c:\\Users\\sageg\\source\\repos\\mas-python\\Interagency Tracking System.gdb\\e_Transformed\\Treatments_lns_20240224\n",
      "Dataset does not exist: c:\\Users\\sageg\\source\\repos\\mas-python\\Interagency Tracking System.gdb\\Activity_Table_20240224\n"
     ]
    }
   ],
   "source": [
    "\"\"\"\n",
    "# Description:  This script transforms the flat point, line, and polygon files\n",
    "#               into the WRTF relational database. The relational database includes\n",
    "#               a Project polygon that has a one-to-many relationship with the \n",
    "#               Treatment featureclasses (point, line, and polygon). The Treatments \n",
    "#               have a one-to-many relationship with the Activities table.\n",
    "# Author: Spatial Informatics Group LLC\n",
    "# Version: 1.0.0\n",
    "# Date Created: Jan 24, 2024\n",
    "\"\"\"\n",
    "import datetime\n",
    "\n",
    "import os\n",
    "# import arcpy\n",
    "# from scripts._7_transform import Transform2\n",
    "from scripts._1_assign_domains import ProjectDomains, TreatmentDomains, ActivityDomains\n",
    "from scripts._7a_transform_projects import TransformProjects\n",
    "from scripts._7b_transform_treatments import TransformTreatments\n",
    "from scripts._7c_transform_activities import TransformActivities\n",
    "from scripts.utils import init_gdb, check_schema_lock, og_file_input\n",
    "\n",
    "workspace, scratch_workspace = init_gdb()\n",
    "date_id = datetime.datetime.now().strftime(\"%Y-%m-%d\").replace('-','') # like 20221216\n",
    "\n",
    "# Inputs\n",
    "# finds the latest version by date (like 20240124 (YYYMMDD))\n",
    "treat_poly = og_file_input(prefix = 'Treat_n_harvests_polygons_', filetype = 'Polygon', gdb = os.path.join(workspace, \"d_Appended\"))\n",
    "Treat_n_harvests_polygons = os.path.join(workspace, 'd_Appended', treat_poly)\n",
    "treat_pt = og_file_input(prefix = 'Treat_n_harvests_points_', filetype = 'Point', gdb = os.path.join(workspace, \"d_Appended\"))\n",
    "Treat_n_harvests_points = os.path.join(workspace, 'd_Appended', treat_pt)\n",
    "treat_ln = og_file_input(prefix = 'Treat_n_harvests_lines_', filetype = 'Line', gdb = os.path.join(workspace, \"d_Appended\"))\n",
    "Treat_n_harvests_lines = os.path.join(workspace, 'd_Appended', treat_ln)\n",
    "\n",
    "# Outputs\n",
    "Project_Poly = os.path.join(workspace, 'e_Transformed', f'Project_poly_{date_id}')\n",
    "Treatments_poly = os.path.join(workspace, 'e_Transformed', f'Treatment_poly_{date_id}')\n",
    "Treatments_pts = os.path.join(workspace, 'e_Transformed', f'Treatments_pts_{date_id}')\n",
    "Treatments_lns = os.path.join(workspace, 'e_Transformed', f'Treatments_lns_{date_id}')\n",
    "Activities = os.path.join(workspace, f'Activity_Table_{date_id}')\n",
    "\n",
    "check_schema_lock(Project_Poly)\n",
    "check_schema_lock(Treatments_poly)\n",
    "check_schema_lock(Treatments_pts)\n",
    "check_schema_lock(Treatments_lns)\n",
    "check_schema_lock(Activities)"
   ]
  },
  {
   "cell_type": "code",
   "execution_count": 2,
   "metadata": {},
   "outputs": [
    {
     "data": {
      "text/html": [
       "<div class='gpresult'><h2>Messages</h2><div id='messages' data-messages='[\"Start Time: Saturday, February 24, 2024 1:01:41 PM\",\"Succeeded at Saturday, February 24, 2024 1:01:42 PM (Elapsed Time: 0.28 seconds)\"]' data-show='true'><div id = 'default' /></div></div>"
      ],
      "text/plain": [
       "<Result 'c:\\\\Users\\\\sageg\\\\source\\\\repos\\\\mas-python\\\\Interagency Tracking System.gdb\\\\e_Transformed\\\\Project_poly_20240224'>"
      ]
     },
     "execution_count": 2,
     "metadata": {},
     "output_type": "execute_result"
    }
   ],
   "source": [
    "TransformProjects(\n",
    "    In_Poly=Treat_n_harvests_polygons,\n",
    "    In_Pts=Treat_n_harvests_points,\n",
    "    In_Lns=Treat_n_harvests_lines,\n",
    "    Out_Poly=Project_Poly,\n",
    ")\n",
    "ProjectDomains(in_table_p=Project_Poly)"
   ]
  },
  {
   "cell_type": "code",
   "execution_count": 3,
   "metadata": {},
   "outputs": [
    {
     "data": {
      "text/html": [
       "<div class='gpresult'><h2>Messages</h2><div id='messages' data-messages='[\"Start Time: Saturday, February 24, 2024 1:02:11 PM\",\"Succeeded at Saturday, February 24, 2024 1:02:11 PM (Elapsed Time: 0.36 seconds)\"]' data-show='true'><div id = 'default' /></div></div>"
      ],
      "text/plain": [
       "<Result 'c:\\\\Users\\\\sageg\\\\source\\\\repos\\\\mas-python\\\\Interagency Tracking System.gdb\\\\e_Transformed\\\\Treatments_lns_20240224'>"
      ]
     },
     "execution_count": 3,
     "metadata": {},
     "output_type": "execute_result"
    }
   ],
   "source": [
    "TransformTreatments(\n",
    "    In_Poly=Treat_n_harvests_polygons,\n",
    "    In_Pts=Treat_n_harvests_points,\n",
    "    In_Lns=Treat_n_harvests_lines,\n",
    "    Out_poly=Treatments_poly,\n",
    "    Out_pts=Treatments_pts,\n",
    "    Out_lns=Treatments_lns,\n",
    ")\n",
    "TreatmentDomains(in_table_t=Treatments_poly)\n",
    "TreatmentDomains(in_table_t=Treatments_pts)\n",
    "TreatmentDomains(in_table_t=Treatments_lns)"
   ]
  },
  {
   "cell_type": "code",
   "execution_count": 2,
   "metadata": {},
   "outputs": [
    {
     "name": "stdout",
     "output_type": "stream",
     "text": [
      "Deleting Scratch Files\n"
     ]
    },
    {
     "data": {
      "text/html": [
       "<div class='gpresult'><h2>Messages</h2><div id='messages' data-messages='[\"Start Time: Saturday, February 24, 2024 1:21:27 PM\",\"Succeeded at Saturday, February 24, 2024 1:21:28 PM (Elapsed Time: 0.17 seconds)\"]' data-show='true'><div id = 'default' /></div></div>"
      ],
      "text/plain": [
       "<Result 'c:\\\\Users\\\\sageg\\\\source\\\\repos\\\\mas-python\\\\Interagency Tracking System.gdb\\\\Activity_Table_20240224'>"
      ]
     },
     "execution_count": 2,
     "metadata": {},
     "output_type": "execute_result"
    }
   ],
   "source": [
    "TransformActivities(\n",
    "    In_Poly=Treat_n_harvests_polygons,\n",
    "    In_Pts=Treat_n_harvests_points,\n",
    "    In_Lns=Treat_n_harvests_lines,\n",
    "    Out_Table=Activities\n",
    ")\n",
    "ActivityDomains(in_table_a=Activities)"
   ]
  },
  {
   "cell_type": "markdown",
   "metadata": {},
   "source": []
  }
 ],
 "metadata": {
  "kernelspec": {
   "display_name": "arcgispro-py3",
   "language": "python",
   "name": "python3"
  },
  "language_info": {
   "codemirror_mode": {
    "name": "ipython",
    "version": 3
   },
   "file_extension": ".py",
   "mimetype": "text/x-python",
   "name": "python",
   "nbconvert_exporter": "python",
   "pygments_lexer": "ipython3",
   "version": "3.9.18"
  }
 },
 "nbformat": 4,
 "nbformat_minor": 2
}

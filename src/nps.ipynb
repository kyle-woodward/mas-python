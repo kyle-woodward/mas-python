{
 "cells": [
  {
   "cell_type": "code",
   "execution_count": null,
   "metadata": {},
   "outputs": [],
   "source": [
    "from scripts.utils import init_gdb, check_exists, og_file_input\n",
    "import os\n",
    "original_gdb, workspace, scratch_workspace = init_gdb()\n",
    "from scripts._6r_nps import rFlatFuelsTreatmentDraft\n",
    "import datetime\n",
    "\n",
    "# INPUTS\n",
    "# update input as necessary\n",
    "nps_poly = og_file_input(prefix = 'nps_flat_fuels_', filetype = 'Polygon', gdb = os.path.join(workspace, \"a_Originals\"))\n",
    "input_fc = os.path.join(workspace,'a_Originals', nps_poly) # need to download this beforehand\n",
    "\n",
    "# OUTPUTS\n",
    "date_id = datetime.datetime.now().strftime(\"%Y-%m-%d\").replace('-','') # like 20221216\n",
    "output_enriched = os.path.join(workspace,'d_Enriched',f'nps_flat_fuels_enriched_{date_id}')\n",
    "output_standardized = os.path.join(workspace,'c_Standardized',f'nps_flat_fuels_standardized_{date_id}')"
   ]
  },
  {
   "cell_type": "code",
   "execution_count": null,
   "metadata": {},
   "outputs": [],
   "source": [
    "rFlatFuelsTreatmentDraft(input_fc, output_standardized, output_enriched)"
   ]
  }
 ],
 "metadata": {
  "kernelspec": {
   "display_name": "arcgispro-py3-30",
   "language": "python",
   "name": "python3"
  },
  "language_info": {
   "codemirror_mode": {
    "name": "ipython",
    "version": 3
   },
   "file_extension": ".py",
   "mimetype": "text/x-python",
   "name": "python",
   "nbconvert_exporter": "python",
   "pygments_lexer": "ipython3",
   "version": "3.9.11 [MSC v.1931 64 bit (AMD64)]"
  },
  "vscode": {
   "interpreter": {
    "hash": "4e1abec938aa564085d88d5729e577a09a090f84c8252c84527a9a845926d2eb"
   }
  }
 },
 "nbformat": 4,
 "nbformat_minor": 4
}

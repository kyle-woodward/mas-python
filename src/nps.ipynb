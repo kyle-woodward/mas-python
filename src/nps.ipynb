{
 "cells": [
  {
   "cell_type": "code",
   "execution_count": 1,
   "metadata": {},
   "outputs": [],
   "source": [
    "from scripts.utils import init_gdb, check_exists\n",
    "import os\n",
    "original_gdb, workspace, scratch_workspace = init_gdb()\n",
    "from scripts._6r_nps import rFlatFuelsTreatmentDraft\n",
    "import datetime\n",
    "\n",
    "# INPUTS\n",
    "# update input as necessary\n",
    "input_fc = os.path.join(workspace,'a_Originals','nps_flat_fuels_20221102') # need to download this beforehand\n",
    "\n",
    "# OUTPUTS\n",
    "date_id = datetime.datetime.utcnow().strftime(\"%Y-%m-%d\").replace('-','') # like 20221216\n",
    "output_enriched = os.path.join(workspace,'d_Enriched',f'nps_flat_fuels_enriched_{date_id}')\n",
    "output_standardized = os.path.join(workspace,'c_Standardized',f'nps_flat_fuels_standardized_{date_id}')\n",
    "\n",
    "check_exists(\n",
    "    fc_list = [input_fc],\n",
    "    workspace=workspace\n",
    "    )"
   ]
  },
  {
   "cell_type": "code",
   "execution_count": 2,
   "metadata": {},
   "outputs": [
    {
     "name": "stdout",
     "output_type": "stream",
     "text": [
      "Start Time Tue Jan 24 15:52:21 2023\n",
      "Performing Standardization\n",
      "Saving Output Standardized: c:\\mas-python\\PC414 CWI Million Acres Testing.gdb\\c_Standardized\\nps_flat_fuels_standardized_20230124\n",
      "Performing Enrichments\n",
      "Saving Output Enriched: c:\\mas-python\\PC414 CWI Million Acres Testing.gdb\\d_Enriched\\nps_flat_fuels_enriched_20230124\n",
      "Deleting Scratch Files\n",
      "Time Elapsed: 6.753322192033132 minutes\n"
     ]
    }
   ],
   "source": [
    "rFlatFuelsTreatmentDraft(input_fc, output_standardized, output_enriched)"
   ]
  }
 ],
 "metadata": {
  "kernelspec": {
   "display_name": "arcgispro-py3-30",
   "language": "python",
   "name": "python3"
  },
  "language_info": {
   "codemirror_mode": {
    "name": "ipython",
    "version": 3
   },
   "file_extension": ".py",
   "mimetype": "text/x-python",
   "name": "python",
   "nbconvert_exporter": "python",
   "pygments_lexer": "ipython3",
   "version": "3.9.11"
  },
  "orig_nbformat": 4,
  "vscode": {
   "interpreter": {
    "hash": "4e1abec938aa564085d88d5729e577a09a090f84c8252c84527a9a845926d2eb"
   }
  }
 },
 "nbformat": 4,
 "nbformat_minor": 2
}

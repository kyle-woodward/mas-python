{
 "cells": [
  {
   "cell_type": "code",
   "execution_count": null,
   "metadata": {},
   "outputs": [],
   "source": [
    "\"\"\"\n",
    "# Description: Converts the Amador-Calaveras Conservation Group fuels treatments dataset \n",
    "#              into the Task Force standardized schema.  Dataset\n",
    "#              is enriched with vegetation, ownership, county, WUI, \n",
    "#              Task Force Region, and year.            \n",
    "# Author: Spatial Informatics Group LLC\n",
    "# Version: 1.0.0\n",
    "# Date Created: Jan 24, 2024\n",
    "\"\"\"\n",
    "from scripts._3_ACCG import ACCG\n",
    "# from sys import argv\n",
    "from scripts.utils import init_gdb, og_file_input, check_schema_lock\n",
    "import os\n",
    "import datetime\n",
    "original_gdb, workspace, scratch_workspace = init_gdb()\n",
    "\n",
    "# INPUTS\n",
    "accg = og_file_input(prefix = 'accg_stkhldr_prjt', filetype = 'Polygon', gdb = os.path.join(workspace))\n",
    "accg_fc = os.path.join(workspace, accg) \n",
    "\n",
    "# OUTPUTS\n",
    "date_id = datetime.datetime.now().strftime(\"%Y-%m-%d\").replace('-','') # like 20221216\n",
    "output_standardized = os.path.join(scratch_workspace, f\"ACCG_Stakeholder_standardized_{date_id}\")\n",
    "\n",
    "check_schema_lock(accg_fc)\n",
    "check_schema_lock(output_standardized)"
   ]
  },
  {
   "cell_type": "code",
   "execution_count": null,
   "metadata": {},
   "outputs": [],
   "source": [
    "ACCG(input_fc = accg_fc,output_standardized=output_standardized)"
   ]
  }
 ],
 "metadata": {
  "kernelspec": {
   "display_name": "Python 3",
   "language": "python",
   "name": "python3"
  },
  "language_info": {
   "codemirror_mode": {
    "name": "ipython",
    "version": 3
   },
   "file_extension": ".py",
   "mimetype": "text/x-python",
   "name": "python",
   "nbconvert_exporter": "python",
   "pygments_lexer": "ipython3",
   "version": "3.9.11"
  },
  "vscode": {
   "interpreter": {
    "hash": "ce21b655b4d6c9e397d5ad93d5666c623f49909f6d0cc2f72076dafcf1b3ecfb"
   }
  }
 },
 "nbformat": 4,
 "nbformat_minor": 4
}

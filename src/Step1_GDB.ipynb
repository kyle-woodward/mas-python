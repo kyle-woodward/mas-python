{
 "cells": [
  {
   "cell_type": "code",
   "execution_count": 1,
   "metadata": {},
   "outputs": [
    {
     "name": "stdout",
     "output_type": "stream",
     "text": [
      "Start Time Sat Jan 27 11:10:29 2024\n"
     ]
    }
   ],
   "source": [
    "\"\"\"\n",
    "# WARNING: May overwrite your database and delete previous work\n",
    "#\n",
    "# Description:  Creates project database, feature datasets, and Task Force \n",
    "#               Template.  Adds domains to database\n",
    "# Author: Spatial Informatics Group LLC\n",
    "# Version: 1.0.0\n",
    "# Date Created: Jan 24, 2024\n",
    "\"\"\"\n",
    "import os\n",
    "import arcpy\n",
    "import time\n",
    "from scripts.utils import init_gdb\n",
    "from scripts._1_tables_to_domains import TablesToDomains\n",
    "from scripts._1_add_fields import AddFields\n",
    "\n",
    "workspace, scratch_workspace = init_gdb()\n",
    "\n",
    "start = time.time()\n",
    "print(f\"Start Time {time.ctime()}\")\n"
   ]
  },
  {
   "cell_type": "code",
   "execution_count": 3,
   "metadata": {},
   "outputs": [],
   "source": [
    "\n",
    "# Model Environment settings\n",
    "with arcpy.EnvManager(\n",
    "        workspace=workspace,\n",
    "        scratchWorkspace=scratch_workspace, \n",
    "        outputCoordinateSystem= arcpy.SpatialReference(\"NAD 1983 California (Teale) Albers (Meters)\"), #WKID 3310\n",
    "        cartographicCoordinateSystem=arcpy.SpatialReference(\"NAD 1983 California (Teale) Albers (Meters)\"), #WKID 3310\n",
    "        extent=\"xmin=-374900, ymin=-604500, xmax=540100, ymax=450000, spatial_reference='NAD 1983 California (Teale) Albers (Meters)'\", \n",
    "        preserveGlobalIds=True, \n",
    "        qualifiedFieldNames=False, \n",
    "        transferDomains=False, \n",
    "        transferGDBAttributeProperties=False, \n",
    "        overwriteOutput = True,\n",
    "):\n",
    "\n",
    "    ## Create Feature Datasets\n",
    "    a_Reference = arcpy.management.CreateFeatureDataset(\n",
    "        workspace, out_name=\"a_Reference\"\n",
    "    )\n",
    "\n",
    "    b_Originals = arcpy.management.CreateFeatureDataset(\n",
    "        workspace, out_name=\"b_Originals\"\n",
    "    )\n",
    "\n",
    "    c_Enriched = arcpy.management.CreateFeatureDataset(\n",
    "        workspace, out_name=\"c_Enriched\"\n",
    "    )\n",
    "\n",
    "    d_Appended = arcpy.management.CreateFeatureDataset(\n",
    "        workspace, out_name=\"d_Appended\"\n",
    "    )\n",
    "\n",
    "    e_Transformed = arcpy.management.CreateFeatureDataset(\n",
    "        workspace, out_name=\"e_Transformed\"\n",
    "    )\n",
    "\n",
    "    f_Report_Data = arcpy.management.CreateFeatureDataset(\n",
    "        workspace, out_name=\"f_Report_Data\"\n",
    "    )\n"
   ]
  },
  {
   "cell_type": "code",
   "execution_count": 4,
   "metadata": {},
   "outputs": [],
   "source": [
    "TablesToDomains(workspace)"
   ]
  },
  {
   "cell_type": "code",
   "execution_count": 5,
   "metadata": {},
   "outputs": [
    {
     "name": "stdout",
     "output_type": "stream",
     "text": [
      "Time Elapsed: 1.3786013921101887 minutes\n"
     ]
    }
   ],
   "source": [
    "with arcpy.EnvManager(\n",
    "        workspace=workspace,\n",
    "        scratchWorkspace=scratch_workspace, \n",
    "        outputCoordinateSystem= arcpy.SpatialReference(\"NAD 1983 California (Teale) Albers (Meters)\"), #WKID 3310\n",
    "        cartographicCoordinateSystem=arcpy.SpatialReference(\"NAD 1983 California (Teale) Albers (Meters)\"), #WKID 3310\n",
    "        extent=\"xmin=-374900, ymin=-604500, xmax=540100, ymax=450000, spatial_reference='NAD 1983 California (Teale) Albers (Meters)'\", \n",
    "        preserveGlobalIds=True, \n",
    "        qualifiedFieldNames=False, \n",
    "        transferDomains=False, \n",
    "        transferGDBAttributeProperties=False, \n",
    "        overwriteOutput = True,\n",
    "):\n",
    "    \n",
    "    ## Create Template Feature Class\n",
    "    Template_1 = os.path.join(workspace, \"a_Reference\")\n",
    "    Template_2 = arcpy.CreateFeatureclass_management(\n",
    "        out_path=Template_1, \n",
    "        out_name=\"WFR_TF_Template\", \n",
    "        geometry_type=\"POLYGON\", \n",
    "        out_alias=\"WFR TF Template\"\n",
    "    )\n",
    "\n",
    "    AddFields(Template_2)\n",
    "\n",
    "    end = time.time()\n",
    "    print(f\"Time Elapsed: {(end-start)/60} minutes\")"
   ]
  }
 ],
 "metadata": {
  "kernelspec": {
   "display_name": "arcgispro-py3",
   "language": "python",
   "name": "python3"
  },
  "language_info": {
   "codemirror_mode": {
    "name": "ipython",
    "version": 3
   },
   "file_extension": ".py",
   "mimetype": "text/x-python",
   "name": "python",
   "nbconvert_exporter": "python",
   "pygments_lexer": "ipython3",
   "version": "3.9.18"
  }
 },
 "nbformat": 4,
 "nbformat_minor": 2
}
